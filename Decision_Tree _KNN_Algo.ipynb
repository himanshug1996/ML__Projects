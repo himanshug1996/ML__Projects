{
 "cells": [
  {
   "cell_type": "code",
   "execution_count": 1,
   "id": "5da91c26",
   "metadata": {},
   "outputs": [],
   "source": [
    "from sklearn.datasets import load_iris\n",
    "import pandas as pd"
   ]
  },
  {
   "cell_type": "code",
   "execution_count": 2,
   "id": "a8e11aff",
   "metadata": {},
   "outputs": [
    {
     "name": "stdout",
     "output_type": "stream",
     "text": [
      ".. _iris_dataset:\n",
      "\n",
      "Iris plants dataset\n",
      "--------------------\n",
      "\n",
      "**Data Set Characteristics:**\n",
      "\n",
      "    :Number of Instances: 150 (50 in each of three classes)\n",
      "    :Number of Attributes: 4 numeric, predictive attributes and the class\n",
      "    :Attribute Information:\n",
      "        - sepal length in cm\n",
      "        - sepal width in cm\n",
      "        - petal length in cm\n",
      "        - petal width in cm\n",
      "        - class:\n",
      "                - Iris-Setosa\n",
      "                - Iris-Versicolour\n",
      "                - Iris-Virginica\n",
      "                \n",
      "    :Summary Statistics:\n",
      "\n",
      "    ============== ==== ==== ======= ===== ====================\n",
      "                    Min  Max   Mean    SD   Class Correlation\n",
      "    ============== ==== ==== ======= ===== ====================\n",
      "    sepal length:   4.3  7.9   5.84   0.83    0.7826\n",
      "    sepal width:    2.0  4.4   3.05   0.43   -0.4194\n",
      "    petal length:   1.0  6.9   3.76   1.76    0.9490  (high!)\n",
      "    petal width:    0.1  2.5   1.20   0.76    0.9565  (high!)\n",
      "    ============== ==== ==== ======= ===== ====================\n",
      "\n",
      "    :Missing Attribute Values: None\n",
      "    :Class Distribution: 33.3% for each of 3 classes.\n",
      "    :Creator: R.A. Fisher\n",
      "    :Donor: Michael Marshall (MARSHALL%PLU@io.arc.nasa.gov)\n",
      "    :Date: July, 1988\n",
      "\n",
      "The famous Iris database, first used by Sir R.A. Fisher. The dataset is taken\n",
      "from Fisher's paper. Note that it's the same as in R, but not as in the UCI\n",
      "Machine Learning Repository, which has two wrong data points.\n",
      "\n",
      "This is perhaps the best known database to be found in the\n",
      "pattern recognition literature.  Fisher's paper is a classic in the field and\n",
      "is referenced frequently to this day.  (See Duda & Hart, for example.)  The\n",
      "data set contains 3 classes of 50 instances each, where each class refers to a\n",
      "type of iris plant.  One class is linearly separable from the other 2; the\n",
      "latter are NOT linearly separable from each other.\n",
      "\n",
      ".. topic:: References\n",
      "\n",
      "   - Fisher, R.A. \"The use of multiple measurements in taxonomic problems\"\n",
      "     Annual Eugenics, 7, Part II, 179-188 (1936); also in \"Contributions to\n",
      "     Mathematical Statistics\" (John Wiley, NY, 1950).\n",
      "   - Duda, R.O., & Hart, P.E. (1973) Pattern Classification and Scene Analysis.\n",
      "     (Q327.D83) John Wiley & Sons.  ISBN 0-471-22361-1.  See page 218.\n",
      "   - Dasarathy, B.V. (1980) \"Nosing Around the Neighborhood: A New System\n",
      "     Structure and Classification Rule for Recognition in Partially Exposed\n",
      "     Environments\".  IEEE Transactions on Pattern Analysis and Machine\n",
      "     Intelligence, Vol. PAMI-2, No. 1, 67-71.\n",
      "   - Gates, G.W. (1972) \"The Reduced Nearest Neighbor Rule\".  IEEE Transactions\n",
      "     on Information Theory, May 1972, 431-433.\n",
      "   - See also: 1988 MLC Proceedings, 54-64.  Cheeseman et al\"s AUTOCLASS II\n",
      "     conceptual clustering system finds 3 classes in the data.\n",
      "   - Many, many more ...\n"
     ]
    }
   ],
   "source": [
    "iris_bunch = load_iris()\n",
    "\n",
    "print(iris_bunch.DESCR)"
   ]
  },
  {
   "cell_type": "code",
   "execution_count": 3,
   "id": "348a2e41",
   "metadata": {},
   "outputs": [],
   "source": [
    "iris_df = pd.DataFrame(iris_bunch.data , columns = iris_bunch.feature_names)"
   ]
  },
  {
   "cell_type": "code",
   "execution_count": 4,
   "id": "344870d9",
   "metadata": {},
   "outputs": [],
   "source": [
    "iris_df[\"Class\"] = iris_bunch.target"
   ]
  },
  {
   "cell_type": "code",
   "execution_count": 5,
   "id": "3e99cc65",
   "metadata": {},
   "outputs": [
    {
     "data": {
      "text/plain": [
       "0    50\n",
       "1    50\n",
       "2    50\n",
       "Name: Class, dtype: int64"
      ]
     },
     "execution_count": 5,
     "metadata": {},
     "output_type": "execute_result"
    }
   ],
   "source": [
    "iris_df[\"Class\"].value_counts()"
   ]
  },
  {
   "cell_type": "code",
   "execution_count": 6,
   "id": "44cfc541",
   "metadata": {},
   "outputs": [],
   "source": [
    "X = iris_df.drop(\"Class\" ,axis =1)\n",
    "y = iris_df[\"Class\"]"
   ]
  },
  {
   "cell_type": "code",
   "execution_count": 7,
   "id": "3f5497fe",
   "metadata": {},
   "outputs": [],
   "source": [
    "from sklearn.model_selection import train_test_split\n",
    "X_train,X_test,y_train,y_test = train_test_split(X , y ,test_size = 0.25, random_state =21)"
   ]
  },
  {
   "cell_type": "code",
   "execution_count": 8,
   "id": "b7a51b31",
   "metadata": {},
   "outputs": [
    {
     "name": "stdout",
     "output_type": "stream",
     "text": [
      "Shape of X_train is :  (112, 4)\n",
      "Shape of X_test is :  (38, 4)\n",
      "Shape of y_train is :  (112,)\n",
      "Shape of y_test is :  (38,)\n"
     ]
    }
   ],
   "source": [
    "print(\"Shape of X_train is : \", X_train.shape)\n",
    "print(\"Shape of X_test is : \", X_test.shape)\n",
    "print(\"Shape of y_train is : \", y_train.shape)\n",
    "print(\"Shape of y_test is : \", y_test.shape)\n"
   ]
  },
  {
   "cell_type": "code",
   "execution_count": 9,
   "id": "bb448663",
   "metadata": {},
   "outputs": [],
   "source": [
    "from sklearn.neighbors import KNeighborsClassifier"
   ]
  },
  {
   "cell_type": "code",
   "execution_count": 10,
   "id": "c4866146",
   "metadata": {},
   "outputs": [],
   "source": [
    "knn_model = KNeighborsClassifier(n_neighbors=4) # --> n_neighbors=5 parameter is a K Value.\n",
    "# n_neighbors is 4 as total no of classes in target column is 3. so it will be 3 + 1 = 4"
   ]
  },
  {
   "cell_type": "code",
   "execution_count": 11,
   "id": "d57cf73c",
   "metadata": {},
   "outputs": [
    {
     "data": {
      "text/plain": [
       "KNeighborsClassifier(n_neighbors=4)"
      ]
     },
     "execution_count": 11,
     "metadata": {},
     "output_type": "execute_result"
    }
   ],
   "source": [
    "knn_model.fit(X_train,y_train) # Supervised ML Approach"
   ]
  },
  {
   "cell_type": "code",
   "execution_count": 12,
   "id": "7f26f763",
   "metadata": {},
   "outputs": [],
   "source": [
    "y_pred_test_knn = knn_model.predict(X_test)"
   ]
  },
  {
   "cell_type": "code",
   "execution_count": 13,
   "id": "f0cc5bb5",
   "metadata": {},
   "outputs": [
    {
     "name": "stdout",
     "output_type": "stream",
     "text": [
      "The accuracy score of the model on test data is :\n",
      "0.9473684210526315\n"
     ]
    }
   ],
   "source": [
    "from sklearn.metrics import accuracy_score\n",
    "\n",
    "print(\"The accuracy score of the model on test data is :\")\n",
    "print(accuracy_score(y_test,y_pred_test_knn)) # --> Actual values & Predicted value"
   ]
  },
  {
   "cell_type": "code",
   "execution_count": 14,
   "id": "f7ffab67",
   "metadata": {},
   "outputs": [],
   "source": [
    "from sklearn.metrics import classification_report"
   ]
  },
  {
   "cell_type": "code",
   "execution_count": 15,
   "id": "de392252",
   "metadata": {},
   "outputs": [
    {
     "name": "stdout",
     "output_type": "stream",
     "text": [
      "              precision    recall  f1-score   support\n",
      "\n",
      "           0       1.00      1.00      1.00        13\n",
      "           1       0.93      0.93      0.93        15\n",
      "           2       0.90      0.90      0.90        10\n",
      "\n",
      "    accuracy                           0.95        38\n",
      "   macro avg       0.94      0.94      0.94        38\n",
      "weighted avg       0.95      0.95      0.95        38\n",
      "\n"
     ]
    }
   ],
   "source": [
    "print(classification_report(y_test,y_pred_test_knn))"
   ]
  },
  {
   "cell_type": "markdown",
   "id": "6489787c",
   "metadata": {},
   "source": [
    "### Let's check for higher K value whether it affect Accuracy Score or not."
   ]
  },
  {
   "cell_type": "code",
   "execution_count": 16,
   "id": "3b76e521",
   "metadata": {},
   "outputs": [],
   "source": [
    "knn_model_10 = KNeighborsClassifier(n_neighbors=10) # --> n_neighbors=5 parameter is a K Value.\n",
    "# n_neighbors is 4 as total no of classes in target column is 3. so it will be 3 + 1 = 4"
   ]
  },
  {
   "cell_type": "code",
   "execution_count": 17,
   "id": "a2341c98",
   "metadata": {},
   "outputs": [
    {
     "data": {
      "text/plain": [
       "KNeighborsClassifier(n_neighbors=10)"
      ]
     },
     "execution_count": 17,
     "metadata": {},
     "output_type": "execute_result"
    }
   ],
   "source": [
    "knn_model_10.fit(X_train,y_train) # Supervised ML Approach"
   ]
  },
  {
   "cell_type": "code",
   "execution_count": 18,
   "id": "2c6a02f8",
   "metadata": {},
   "outputs": [],
   "source": [
    "y_pred_test_knn_10 = knn_model_10.predict(X_test)"
   ]
  },
  {
   "cell_type": "code",
   "execution_count": 19,
   "id": "b590d45a",
   "metadata": {},
   "outputs": [
    {
     "name": "stdout",
     "output_type": "stream",
     "text": [
      "The accuracy score of the model on test data is :\n",
      "0.8947368421052632\n"
     ]
    }
   ],
   "source": [
    " from sklearn.metrics import accuracy_score\n",
    "\n",
    "print(\"The accuracy score of the model on test data is :\")\n",
    "print(accuracy_score(y_test,y_pred_test_knn_10)) # --> Actual values & Predicted value"
   ]
  },
  {
   "cell_type": "code",
   "execution_count": 20,
   "id": "3c0f1f10",
   "metadata": {},
   "outputs": [
    {
     "name": "stdout",
     "output_type": "stream",
     "text": [
      "              precision    recall  f1-score   support\n",
      "\n",
      "           0       1.00      1.00      1.00        13\n",
      "           1       0.82      0.93      0.87        15\n",
      "           2       0.88      0.70      0.78        10\n",
      "\n",
      "    accuracy                           0.89        38\n",
      "   macro avg       0.90      0.88      0.88        38\n",
      "weighted avg       0.90      0.89      0.89        38\n",
      "\n"
     ]
    }
   ],
   "source": [
    "print(classification_report(y_test,y_pred_test_knn_10))"
   ]
  },
  {
   "cell_type": "markdown",
   "id": "00ec6fdc",
   "metadata": {},
   "source": [
    "### Here,We could infer that higher K Values would affect the Accuracy."
   ]
  },
  {
   "cell_type": "markdown",
   "id": "6adac7db",
   "metadata": {},
   "source": [
    "### Decision Tree Classifier"
   ]
  },
  {
   "cell_type": "code",
   "execution_count": 21,
   "id": "07b69353",
   "metadata": {},
   "outputs": [],
   "source": [
    "from sklearn.tree import DecisionTreeClassifier\n",
    "dt_model = DecisionTreeClassifier() # Instantiating the estimator object\n",
    "dt_model.fit(X_train,y_train)\n",
    "y_predict = dt_model.predict(X_test)"
   ]
  },
  {
   "cell_type": "code",
   "execution_count": 22,
   "id": "1e2fd81f",
   "metadata": {},
   "outputs": [],
   "source": [
    "from sklearn.metrics import accuracy_score"
   ]
  },
  {
   "cell_type": "code",
   "execution_count": 23,
   "id": "e39e3b72",
   "metadata": {},
   "outputs": [
    {
     "name": "stdout",
     "output_type": "stream",
     "text": [
      "The Prediction accuracy score of the Decision Tree model on test data is : 0.9210526315789473\n"
     ]
    }
   ],
   "source": [
    "accuracy = accuracy_score(y_predict,y_test)\n",
    "\n",
    "print(\"The Prediction accuracy score of the Decision Tree model on test data is :\", accuracy)"
   ]
  },
  {
   "cell_type": "code",
   "execution_count": 24,
   "id": "7dc40899",
   "metadata": {},
   "outputs": [
    {
     "name": "stdout",
     "output_type": "stream",
     "text": [
      "The Prediction accuracy score of the Decision Tree model on train data is : 1.0\n"
     ]
    }
   ],
   "source": [
    "y_predict_train = dt_model.predict(X_train)\n",
    "\n",
    "accuracy = accuracy_score(y_predict_train,y_train)\n",
    "\n",
    "print(\"The Prediction accuracy score of the Decision Tree model on train data is :\", accuracy)\n",
    "\n"
   ]
  },
  {
   "cell_type": "markdown",
   "id": "f37eeff3",
   "metadata": {},
   "source": [
    "### Pruning"
   ]
  },
  {
   "cell_type": "code",
   "execution_count": 25,
   "id": "bc0d1a85",
   "metadata": {},
   "outputs": [],
   "source": [
    "from sklearn.tree import DecisionTreeClassifier\n",
    "dt_model4 = DecisionTreeClassifier(max_depth=2) # Instantiating the estimator object\n",
    "dt_model4.fit(X_train,y_train)\n",
    "y_predict4 = dt_model4.predict(X_test)"
   ]
  },
  {
   "cell_type": "code",
   "execution_count": 26,
   "id": "154eac95",
   "metadata": {},
   "outputs": [
    {
     "name": "stdout",
     "output_type": "stream",
     "text": [
      "The Prediction accuracy score of the Decision Tree model on test data is : 0.8421052631578947\n"
     ]
    }
   ],
   "source": [
    "accuracy = accuracy_score(y_predict4,y_test)\n",
    "print(\"The Prediction accuracy score of the Decision Tree model on test data is :\", accuracy)\n"
   ]
  },
  {
   "cell_type": "code",
   "execution_count": 27,
   "id": "b8085608",
   "metadata": {},
   "outputs": [
    {
     "name": "stdout",
     "output_type": "stream",
     "text": [
      "The Prediction accuracy score of the Decision Tree model on train data is : 0.9821428571428571\n"
     ]
    }
   ],
   "source": [
    "y_predict_train = dt_model4.predict(X_train)\n",
    "\n",
    "accuracy = accuracy_score(y_predict_train,y_train)\n",
    "\n",
    "print(\"The Prediction accuracy score of the Decision Tree model on train data is :\", accuracy)\n",
    "\n"
   ]
  },
  {
   "cell_type": "markdown",
   "id": "2c4f6399",
   "metadata": {},
   "source": [
    "### We could infer that Because of Pruning train accuracy is decreased"
   ]
  },
  {
   "cell_type": "markdown",
   "id": "43e5d818",
   "metadata": {},
   "source": [
    "### Naive Baye's Classifier - GaussianNB"
   ]
  },
  {
   "cell_type": "code",
   "execution_count": 28,
   "id": "b61705db",
   "metadata": {},
   "outputs": [],
   "source": [
    "from sklearn.naive_bayes import GaussianNB\n"
   ]
  },
  {
   "cell_type": "code",
   "execution_count": 29,
   "id": "c08898b9",
   "metadata": {},
   "outputs": [],
   "source": [
    "gnb_model = GaussianNB()"
   ]
  },
  {
   "cell_type": "code",
   "execution_count": 30,
   "id": "b8549f9f",
   "metadata": {},
   "outputs": [
    {
     "data": {
      "text/plain": [
       "GaussianNB()"
      ]
     },
     "execution_count": 30,
     "metadata": {},
     "output_type": "execute_result"
    }
   ],
   "source": [
    "gnb_model.fit(X_train,y_train)"
   ]
  },
  {
   "cell_type": "code",
   "execution_count": 31,
   "id": "abb08751",
   "metadata": {},
   "outputs": [],
   "source": [
    "y_pred_test_gnb = gnb_model.predict(X_test)"
   ]
  },
  {
   "cell_type": "code",
   "execution_count": 32,
   "id": "704b8457",
   "metadata": {},
   "outputs": [
    {
     "name": "stdout",
     "output_type": "stream",
     "text": [
      "The Prediction accuracy score of the GaussianNB model on test data is : 0.9210526315789473\n"
     ]
    }
   ],
   "source": [
    "accuracy = accuracy_score(y_pred_test_gnb,y_test)\n",
    "print(\"The Prediction accuracy score of the GaussianNB model on test data is :\", accuracy)\n"
   ]
  },
  {
   "cell_type": "markdown",
   "id": "6eba53f8",
   "metadata": {},
   "source": [
    "### End of DecisionTree,KNN & Naive Baye's Classifier"
   ]
  },
  {
   "cell_type": "code",
   "execution_count": null,
   "id": "77983ed4",
   "metadata": {},
   "outputs": [],
   "source": []
  }
 ],
 "metadata": {
  "kernelspec": {
   "display_name": "Python 3 (ipykernel)",
   "language": "python",
   "name": "python3"
  },
  "language_info": {
   "codemirror_mode": {
    "name": "ipython",
    "version": 3
   },
   "file_extension": ".py",
   "mimetype": "text/x-python",
   "name": "python",
   "nbconvert_exporter": "python",
   "pygments_lexer": "ipython3",
   "version": "3.9.7"
  }
 },
 "nbformat": 4,
 "nbformat_minor": 5
}
