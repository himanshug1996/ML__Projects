{
 "cells": [
  {
   "cell_type": "markdown",
   "id": "68b4e884",
   "metadata": {},
   "source": [
    "How do we use numpy library?"
   ]
  },
  {
   "cell_type": "code",
   "execution_count": 1,
   "id": "da5fc25f",
   "metadata": {},
   "outputs": [],
   "source": [
    "import numpy as np # np - Alias name of numpy\n"
   ]
  },
  {
   "cell_type": "code",
   "execution_count": 2,
   "id": "c5440903",
   "metadata": {},
   "outputs": [],
   "source": [
    "distance = [10,15,17,26]\n",
    "time = [0.30,0.47,0.55,1.20]\n"
   ]
  },
  {
   "cell_type": "code",
   "execution_count": 3,
   "id": "37ad7684",
   "metadata": {},
   "outputs": [
    {
     "name": "stdout",
     "output_type": "stream",
     "text": [
      "<class 'list'>\n"
     ]
    }
   ],
   "source": [
    "my_list =[101,102,103,104]\n",
    "print(type(my_list))"
   ]
  },
  {
   "cell_type": "code",
   "execution_count": 4,
   "id": "ade93025",
   "metadata": {},
   "outputs": [
    {
     "name": "stdout",
     "output_type": "stream",
     "text": [
      "<class 'numpy.ndarray'>\n",
      "[101 102 103 104]\n"
     ]
    }
   ],
   "source": [
    "my_ndarray = np.array(my_list) # Creating a numpy array \n",
    "\n",
    "print(type(my_ndarray))\n",
    "print(my_ndarray)"
   ]
  },
  {
   "cell_type": "code",
   "execution_count": 5,
   "id": "3d6715e4",
   "metadata": {},
   "outputs": [],
   "source": [
    "nd_distance =np.array([10,15,17,26])\n",
    "nd_time = np.array([0.30,0.47,.55,1.20])"
   ]
  },
  {
   "cell_type": "code",
   "execution_count": 6,
   "id": "90d66c24",
   "metadata": {},
   "outputs": [
    {
     "name": "stdout",
     "output_type": "stream",
     "text": [
      "<class 'numpy.ndarray'>\n",
      "<class 'numpy.ndarray'>\n"
     ]
    }
   ],
   "source": [
    "print(type(nd_distance))\n",
    "print(type(nd_time))"
   ]
  },
  {
   "cell_type": "code",
   "execution_count": 7,
   "id": "3b02520c",
   "metadata": {},
   "outputs": [
    {
     "name": "stdout",
     "output_type": "stream",
     "text": [
      "[33.33333333 31.91489362 30.90909091 21.66666667]\n"
     ]
    }
   ],
   "source": [
    "nd_speed = nd_distance/nd_time\n",
    "print(nd_speed)"
   ]
  },
  {
   "cell_type": "markdown",
   "id": "a8facdf7",
   "metadata": {},
   "source": [
    "From the above,We could infer that Numpy supports element wise operation"
   ]
  },
  {
   "cell_type": "markdown",
   "id": "6438e37b",
   "metadata": {},
   "source": [
    "### Attributes of ndarray"
   ]
  },
  {
   "cell_type": "markdown",
   "id": "f233021d",
   "metadata": {},
   "source": [
    "---- ndim,shape,size,dtype\n",
    "\n",
    "----- Attributes are the ones that you can use to get to know about of a ndarray(numpy array)"
   ]
  },
  {
   "cell_type": "markdown",
   "id": "b91fe6ee",
   "metadata": {},
   "source": [
    "# We are trying to create a numpy array from a list of lists... \n",
    "\n"
   ]
  },
  {
   "cell_type": "code",
   "execution_count": 8,
   "id": "48430488",
   "metadata": {},
   "outputs": [],
   "source": [
    "np_city = np.array([[\"Delhi\",\"Mumbai\",\"Banglore\",\"Chennai\"], [\"Kolkata\",\"Hyderabad\",\"Vishakhapattnam\",\"Chennai\"]])"
   ]
  },
  {
   "cell_type": "code",
   "execution_count": 9,
   "id": "b6b1dae3",
   "metadata": {},
   "outputs": [
    {
     "data": {
      "text/plain": [
       "2"
      ]
     },
     "execution_count": 9,
     "metadata": {},
     "output_type": "execute_result"
    }
   ],
   "source": [
    "np_city.ndim # used to find out the number of dimensions of the numpy array"
   ]
  },
  {
   "cell_type": "code",
   "execution_count": 10,
   "id": "a6651276",
   "metadata": {},
   "outputs": [
    {
     "data": {
      "text/plain": [
       "(2, 4)"
      ]
     },
     "execution_count": 10,
     "metadata": {},
     "output_type": "execute_result"
    }
   ],
   "source": [
    "np_city.shape # Shape attribute returns the no of rows and columns present in the numpy array in the form of tuple"
   ]
  },
  {
   "cell_type": "code",
   "execution_count": 11,
   "id": "8deeaf54",
   "metadata": {},
   "outputs": [
    {
     "data": {
      "text/plain": [
       "8"
      ]
     },
     "execution_count": 11,
     "metadata": {},
     "output_type": "execute_result"
    }
   ],
   "source": [
    "np_city.size # It returns total no of elements present in the numpy array."
   ]
  },
  {
   "cell_type": "code",
   "execution_count": 12,
   "id": "bdfef7c1",
   "metadata": {},
   "outputs": [
    {
     "data": {
      "text/plain": [
       "dtype('<U15')"
      ]
     },
     "execution_count": 12,
     "metadata": {},
     "output_type": "execute_result"
    }
   ],
   "source": [
    "np_city.dtype # <U15 maximimum no of character which is present in vizag name."
   ]
  },
  {
   "cell_type": "code",
   "execution_count": 13,
   "id": "a52df277",
   "metadata": {},
   "outputs": [],
   "source": [
    "np_city1 = np.array([\"Delhi\",\"Mumbai\",\"Banglore\",\"Chennai\"])"
   ]
  },
  {
   "cell_type": "code",
   "execution_count": 14,
   "id": "05b1b99a",
   "metadata": {},
   "outputs": [
    {
     "data": {
      "text/plain": [
       "1"
      ]
     },
     "execution_count": 14,
     "metadata": {},
     "output_type": "execute_result"
    }
   ],
   "source": [
    "np_city1.ndim # Attributes do not end with ()"
   ]
  },
  {
   "cell_type": "code",
   "execution_count": 15,
   "id": "369747b7",
   "metadata": {},
   "outputs": [],
   "source": [
    "distance_1 = np.array([10,12,15,17,20]) \n",
    "\n",
    "distance_2 = np.array([100,200,300,400,500])\n",
    "\n",
    "time = np.array([0.3,0.45,0.25,0.5,0.16])\n",
    "\n"
   ]
  },
  {
   "cell_type": "code",
   "execution_count": 16,
   "id": "b41f1975",
   "metadata": {},
   "outputs": [],
   "source": [
    "sum_distances = distance_1 + distance_2"
   ]
  },
  {
   "cell_type": "code",
   "execution_count": 17,
   "id": "d8046b47",
   "metadata": {},
   "outputs": [
    {
     "name": "stdout",
     "output_type": "stream",
     "text": [
      "[110 212 315 417 520]\n"
     ]
    }
   ],
   "source": [
    "print(sum_distances)"
   ]
  },
  {
   "cell_type": "code",
   "execution_count": 18,
   "id": "45649d3a",
   "metadata": {},
   "outputs": [
    {
     "data": {
      "text/plain": [
       "array([110, 204, 303, 401, 500], dtype=int32)"
      ]
     },
     "execution_count": 18,
     "metadata": {},
     "output_type": "execute_result"
    }
   ],
   "source": [
    "distance_1 | distance_2"
   ]
  },
  {
   "cell_type": "markdown",
   "id": "9c0bb037",
   "metadata": {},
   "source": [
    "## Broadcasting"
   ]
  },
  {
   "cell_type": "code",
   "execution_count": 19,
   "id": "3459386e",
   "metadata": {},
   "outputs": [
    {
     "name": "stdout",
     "output_type": "stream",
     "text": [
      "[10 12 15 17 20]\n"
     ]
    }
   ],
   "source": [
    "print(distance_1)"
   ]
  },
  {
   "cell_type": "code",
   "execution_count": 20,
   "id": "76c6cb21",
   "metadata": {},
   "outputs": [
    {
     "data": {
      "text/plain": [
       "array([20, 24, 30, 34, 40])"
      ]
     },
     "execution_count": 20,
     "metadata": {},
     "output_type": "execute_result"
    }
   ],
   "source": [
    "distance_1*2 # the numpy array is multiplied with a single scalar value."
   ]
  },
  {
   "cell_type": "code",
   "execution_count": 21,
   "id": "09792927",
   "metadata": {},
   "outputs": [
    {
     "data": {
      "text/plain": [
       "array([2. , 2.4, 3. , 3.4, 4. ])"
      ]
     },
     "execution_count": 21,
     "metadata": {},
     "output_type": "execute_result"
    }
   ],
   "source": [
    "distance_1/5 # In case of numpy array the value gets broadcasted."
   ]
  },
  {
   "cell_type": "code",
   "execution_count": 22,
   "id": "029bfbf4",
   "metadata": {},
   "outputs": [
    {
     "data": {
      "text/plain": [
       "array([13, 15, 18, 20, 23])"
      ]
     },
     "execution_count": 22,
     "metadata": {},
     "output_type": "execute_result"
    }
   ],
   "source": [
    "distance_1 +3"
   ]
  },
  {
   "cell_type": "code",
   "execution_count": 23,
   "id": "a5cd6e54",
   "metadata": {},
   "outputs": [
    {
     "data": {
      "text/plain": [
       "array([ 0,  2,  5,  7, 10])"
      ]
     },
     "execution_count": 23,
     "metadata": {},
     "output_type": "execute_result"
    }
   ],
   "source": [
    "distance_1 -10"
   ]
  },
  {
   "cell_type": "markdown",
   "id": "7d773f92",
   "metadata": {},
   "source": [
    "# How to access array elements using Indexing?"
   ]
  },
  {
   "cell_type": "code",
   "execution_count": 24,
   "id": "06d7aafa",
   "metadata": {},
   "outputs": [
    {
     "name": "stdout",
     "output_type": "stream",
     "text": [
      "The distance covered by two cars in 4 different rides are:  \n",
      "------------------------------------------------------------\n",
      "[[ 2  4  6  8]\n",
      " [ 3  6  9 12]]\n"
     ]
    }
   ],
   "source": [
    "dist_covered = np.array([[2,4,6,8],[3,6,9,12]])\n",
    "\n",
    "print(\"The distance covered by two cars in 4 different rides are:  \")\n",
    "\n",
    "print(\"------------------------------------------------------------\")\n",
    "print(dist_covered)"
   ]
  },
  {
   "cell_type": "code",
   "execution_count": 25,
   "id": "173d47b1",
   "metadata": {},
   "outputs": [
    {
     "data": {
      "text/plain": [
       "2"
      ]
     },
     "execution_count": 25,
     "metadata": {},
     "output_type": "execute_result"
    }
   ],
   "source": [
    "dist_covered[0,0]"
   ]
  },
  {
   "cell_type": "code",
   "execution_count": 26,
   "id": "70ee3bc1",
   "metadata": {},
   "outputs": [
    {
     "data": {
      "text/plain": [
       "array([2, 4, 6, 8])"
      ]
     },
     "execution_count": 26,
     "metadata": {},
     "output_type": "execute_result"
    }
   ],
   "source": [
    "dist_covered[0] # This would retrieve all the values of row 1"
   ]
  },
  {
   "cell_type": "code",
   "execution_count": 27,
   "id": "2dbe2853",
   "metadata": {},
   "outputs": [
    {
     "data": {
      "text/plain": [
       "9"
      ]
     },
     "execution_count": 27,
     "metadata": {},
     "output_type": "execute_result"
    }
   ],
   "source": [
    "dist_covered[1,2]"
   ]
  },
  {
   "cell_type": "code",
   "execution_count": 28,
   "id": "fb89694e",
   "metadata": {},
   "outputs": [
    {
     "data": {
      "text/plain": [
       "array([ 6,  9, 12])"
      ]
     },
     "execution_count": 28,
     "metadata": {},
     "output_type": "execute_result"
    }
   ],
   "source": [
    "dist_covered[1,1:]"
   ]
  },
  {
   "cell_type": "code",
   "execution_count": 29,
   "id": "7bad3bb4",
   "metadata": {},
   "outputs": [
    {
     "data": {
      "text/plain": [
       "array([[ 6,  8],\n",
       "       [ 9, 12]])"
      ]
     },
     "execution_count": 29,
     "metadata": {},
     "output_type": "execute_result"
    }
   ],
   "source": [
    "dist_covered[:,2:] # index num: ---> Select all the values the specified index value "
   ]
  },
  {
   "cell_type": "code",
   "execution_count": 30,
   "id": "d9e3ad32",
   "metadata": {},
   "outputs": [
    {
     "data": {
      "text/plain": [
       "array([[2, 4],\n",
       "       [3, 6]])"
      ]
     },
     "execution_count": 30,
     "metadata": {},
     "output_type": "execute_result"
    }
   ],
   "source": [
    "dist_covered[:,0:2] # 0:2 --> 0 is the start index so its is inclusive.\n",
    "                    # 2 is the end index so it is inclusive only until 2-1 =1 \n",
    "    # Hence,the values present in the first and second columns are retrieved."
   ]
  },
  {
   "cell_type": "code",
   "execution_count": 31,
   "id": "c0ebcf4f",
   "metadata": {},
   "outputs": [
    {
     "data": {
      "text/plain": [
       "array([[2, 4],\n",
       "       [3, 6]])"
      ]
     },
     "execution_count": 31,
     "metadata": {},
     "output_type": "execute_result"
    }
   ],
   "source": [
    "dist_covered[:,:2] # :2----> Selecting all the values until (2-1) in the column which means that only the values present in the 0th & 1th columns of both the rows would be retrieved."
   ]
  },
  {
   "cell_type": "markdown",
   "id": "cd0eb7c4",
   "metadata": {},
   "source": [
    "# Conditional Selection"
   ]
  },
  {
   "cell_type": "code",
   "execution_count": 32,
   "id": "02483d70",
   "metadata": {},
   "outputs": [
    {
     "data": {
      "text/plain": [
       "array([[ 2,  4,  6,  8],\n",
       "       [ 3,  6,  9, 12]])"
      ]
     },
     "execution_count": 32,
     "metadata": {},
     "output_type": "execute_result"
    }
   ],
   "source": [
    "dist_covered"
   ]
  },
  {
   "cell_type": "code",
   "execution_count": 33,
   "id": "694554c8",
   "metadata": {},
   "outputs": [
    {
     "data": {
      "text/plain": [
       "array([[False, False,  True,  True],\n",
       "       [False,  True,  True,  True]])"
      ]
     },
     "execution_count": 33,
     "metadata": {},
     "output_type": "execute_result"
    }
   ],
   "source": [
    "dist_covered > 5 #Whenever you use comparision operator on numpy arrays, it would always return boolean set of values."
   ]
  },
  {
   "cell_type": "code",
   "execution_count": 34,
   "id": "25fa1fb1",
   "metadata": {},
   "outputs": [
    {
     "data": {
      "text/plain": [
       "array([ 6,  8,  6,  9, 12])"
      ]
     },
     "execution_count": 34,
     "metadata": {},
     "output_type": "execute_result"
    }
   ],
   "source": [
    "dist_covered[dist_covered> 5] # within  the square braces instead of the index,if you pass the condition,it is called \"conditional selection\""
   ]
  },
  {
   "cell_type": "code",
   "execution_count": 35,
   "id": "8467f60d",
   "metadata": {},
   "outputs": [
    {
     "data": {
      "text/plain": [
       "array([6, 6])"
      ]
     },
     "execution_count": 35,
     "metadata": {},
     "output_type": "execute_result"
    }
   ],
   "source": [
    "dist_covered[dist_covered== 6] # equal to condition"
   ]
  },
  {
   "cell_type": "code",
   "execution_count": 36,
   "id": "3c8463c1",
   "metadata": {},
   "outputs": [
    {
     "data": {
      "text/plain": [
       "2"
      ]
     },
     "execution_count": 36,
     "metadata": {},
     "output_type": "execute_result"
    }
   ],
   "source": [
    "dist_covered[dist_covered== 6].size # this would give you the number of rides had covered exactly 6 km."
   ]
  },
  {
   "cell_type": "code",
   "execution_count": 37,
   "id": "d87b9846",
   "metadata": {},
   "outputs": [
    {
     "data": {
      "text/plain": [
       "array([ 6,  8,  6,  9, 12])"
      ]
     },
     "execution_count": 37,
     "metadata": {},
     "output_type": "execute_result"
    }
   ],
   "source": [
    "dist_covered[dist_covered >= 6] # Greater than or equal to"
   ]
  },
  {
   "cell_type": "code",
   "execution_count": 38,
   "id": "63135db0",
   "metadata": {},
   "outputs": [
    {
     "data": {
      "text/plain": [
       "5"
      ]
     },
     "execution_count": 38,
     "metadata": {},
     "output_type": "execute_result"
    }
   ],
   "source": [
    "dist_covered[dist_covered >= 6].size"
   ]
  },
  {
   "cell_type": "code",
   "execution_count": 39,
   "id": "78c5a802",
   "metadata": {},
   "outputs": [
    {
     "name": "stdout",
     "output_type": "stream",
     "text": [
      "The total no of rides in which the total distances covered is not equal ro 6 kms is:   \n"
     ]
    },
    {
     "data": {
      "text/plain": [
       "6"
      ]
     },
     "execution_count": 39,
     "metadata": {},
     "output_type": "execute_result"
    }
   ],
   "source": [
    "print('The total no of rides in which the total distances covered is not equal ro 6 kms is:   ')\n",
    "dist_covered[dist_covered != 6].size"
   ]
  },
  {
   "cell_type": "code",
   "execution_count": 40,
   "id": "7d22c533",
   "metadata": {},
   "outputs": [
    {
     "data": {
      "text/plain": [
       "array([4])"
      ]
     },
     "execution_count": 40,
     "metadata": {},
     "output_type": "execute_result"
    }
   ],
   "source": [
    "dist_covered[(dist_covered < 6) & (dist_covered>3)] # Using logical & comparision operators"
   ]
  },
  {
   "cell_type": "code",
   "execution_count": 41,
   "id": "adc80257",
   "metadata": {},
   "outputs": [
    {
     "data": {
      "text/plain": [
       "array([ 6,  8,  6,  9, 12])"
      ]
     },
     "execution_count": 41,
     "metadata": {},
     "output_type": "execute_result"
    }
   ],
   "source": [
    "dist_covered[~(dist_covered < 6)] # making use of logical not operator"
   ]
  },
  {
   "cell_type": "markdown",
   "id": "427880ff",
   "metadata": {},
   "source": [
    "# Universal Functions -Ufunc"
   ]
  },
  {
   "cell_type": "code",
   "execution_count": 42,
   "id": "7ad1b972",
   "metadata": {},
   "outputs": [],
   "source": [
    "num_array = np.array([4,9,16,25,36])"
   ]
  },
  {
   "cell_type": "code",
   "execution_count": 43,
   "id": "42209acf",
   "metadata": {},
   "outputs": [
    {
     "name": "stdout",
     "output_type": "stream",
     "text": [
      "Square root of the num_array values are : \n",
      "[2. 3. 4. 5. 6.]\n"
     ]
    }
   ],
   "source": [
    "print(\"Square root of the num_array values are : \")\n",
    "print(np.sqrt(num_array))"
   ]
  },
  {
   "cell_type": "code",
   "execution_count": 44,
   "id": "9883861f",
   "metadata": {},
   "outputs": [
    {
     "name": "stdout",
     "output_type": "stream",
     "text": [
      "Average(mean) value of the num_array is: \n",
      "18.0\n"
     ]
    }
   ],
   "source": [
    "print(\"Average(mean) value of the num_array is: \")\n",
    "print(np.mean(num_array))"
   ]
  },
  {
   "cell_type": "code",
   "execution_count": 45,
   "id": "e8b95ac6",
   "metadata": {},
   "outputs": [
    {
     "name": "stdout",
     "output_type": "stream",
     "text": [
      "standard Deviation of the num_array is: \n",
      "11.436782764396638\n"
     ]
    }
   ],
   "source": [
    "print(\"standard Deviation of the num_array is: \")\n",
    "print(np.std(num_array))"
   ]
  },
  {
   "cell_type": "code",
   "execution_count": 46,
   "id": "856662c8",
   "metadata": {},
   "outputs": [
    {
     "name": "stdout",
     "output_type": "stream",
     "text": [
      "Variance of the num_array is: \n",
      "130.8\n"
     ]
    }
   ],
   "source": [
    "print(\"Variance of the num_array is: \")\n",
    "print(np.var(num_array))"
   ]
  },
  {
   "cell_type": "code",
   "execution_count": 47,
   "id": "f390fbe2",
   "metadata": {},
   "outputs": [
    {
     "name": "stdout",
     "output_type": "stream",
     "text": [
      "90\n"
     ]
    }
   ],
   "source": [
    "print(np.sum(num_array))"
   ]
  },
  {
   "cell_type": "code",
   "execution_count": 48,
   "id": "8f234e3f",
   "metadata": {},
   "outputs": [
    {
     "name": "stdout",
     "output_type": "stream",
     "text": [
      "16.0\n"
     ]
    }
   ],
   "source": [
    "print(np.median(num_array))"
   ]
  },
  {
   "cell_type": "code",
   "execution_count": 49,
   "id": "b6f44222",
   "metadata": {},
   "outputs": [],
   "source": [
    "num_array2 = np.array([1.75,2.6,3.4])"
   ]
  },
  {
   "cell_type": "markdown",
   "id": "b2d3fb7f",
   "metadata": {},
   "source": [
    "Say,We want to round off the values.We can do that either using the floor or ceil function"
   ]
  },
  {
   "cell_type": "code",
   "execution_count": 50,
   "id": "988a2253",
   "metadata": {},
   "outputs": [
    {
     "data": {
      "text/plain": [
       "array([[1., 2., 3.]])"
      ]
     },
     "execution_count": 50,
     "metadata": {},
     "output_type": "execute_result"
    }
   ],
   "source": [
    "np.floor([num_array2]) # The values are floored down to the nearest previous numbers"
   ]
  },
  {
   "cell_type": "code",
   "execution_count": 51,
   "id": "b98acc82",
   "metadata": {},
   "outputs": [
    {
     "data": {
      "text/plain": [
       "array([[2., 3., 4.]])"
      ]
     },
     "execution_count": 51,
     "metadata": {},
     "output_type": "execute_result"
    }
   ],
   "source": [
    "np.ceil([num_array2]) #The values are ceiled up to the nearest next numbers..."
   ]
  },
  {
   "cell_type": "markdown",
   "id": "9051613c",
   "metadata": {},
   "source": [
    "# Shape Manipulation\n",
    "\n",
    "---> Flatten the array,resize the array,how to stack the array,reshape the array"
   ]
  },
  {
   "cell_type": "code",
   "execution_count": 52,
   "id": "b1d9b8ff",
   "metadata": {},
   "outputs": [
    {
     "data": {
      "text/plain": [
       "array([[ 2,  4,  6,  8],\n",
       "       [ 3,  6,  9, 12]])"
      ]
     },
     "execution_count": 52,
     "metadata": {},
     "output_type": "execute_result"
    }
   ],
   "source": [
    "dist_covered"
   ]
  },
  {
   "cell_type": "code",
   "execution_count": 53,
   "id": "5fa96866",
   "metadata": {},
   "outputs": [
    {
     "data": {
      "text/plain": [
       "(2, 4)"
      ]
     },
     "execution_count": 53,
     "metadata": {},
     "output_type": "execute_result"
    }
   ],
   "source": [
    "dist_covered.shape"
   ]
  },
  {
   "cell_type": "code",
   "execution_count": 54,
   "id": "7a97c9b0",
   "metadata": {},
   "outputs": [
    {
     "data": {
      "text/plain": [
       "array([ 2,  4,  6,  8,  3,  6,  9, 12])"
      ]
     },
     "execution_count": 54,
     "metadata": {},
     "output_type": "execute_result"
    }
   ],
   "source": [
    "dist_covered.ravel() # This method is used to flatten the array to a 1-dimentional array."
   ]
  },
  {
   "cell_type": "markdown",
   "id": "0079db84",
   "metadata": {},
   "source": [
    "Kindly Remember that what you seeabove is just a view of what the ravel( )method could do."
   ]
  },
  {
   "cell_type": "code",
   "execution_count": 55,
   "id": "50fb7d0e",
   "metadata": {},
   "outputs": [
    {
     "data": {
      "text/plain": [
       "1"
      ]
     },
     "execution_count": 55,
     "metadata": {},
     "output_type": "execute_result"
    }
   ],
   "source": [
    "dist_covered.ravel().ndim"
   ]
  },
  {
   "cell_type": "code",
   "execution_count": 56,
   "id": "e24639bc",
   "metadata": {},
   "outputs": [
    {
     "data": {
      "text/plain": [
       "array([[ 2,  4,  6,  8,  3,  6,  9, 12]])"
      ]
     },
     "execution_count": 56,
     "metadata": {},
     "output_type": "execute_result"
    }
   ],
   "source": [
    "dist_covered.reshape(1,8)"
   ]
  },
  {
   "cell_type": "code",
   "execution_count": 57,
   "id": "8647ed7e",
   "metadata": {},
   "outputs": [
    {
     "data": {
      "text/plain": [
       "array([[ 2,  4],\n",
       "       [ 6,  8],\n",
       "       [ 3,  6],\n",
       "       [ 9, 12]])"
      ]
     },
     "execution_count": 57,
     "metadata": {},
     "output_type": "execute_result"
    }
   ],
   "source": [
    "dist_covered.reshape(4,2) # reshape does not affect the original array.."
   ]
  },
  {
   "cell_type": "code",
   "execution_count": 58,
   "id": "a04cceba",
   "metadata": {},
   "outputs": [],
   "source": [
    "dist_covered.resize(2,4) # resize affects the original array.."
   ]
  },
  {
   "cell_type": "code",
   "execution_count": 59,
   "id": "6fe97486",
   "metadata": {},
   "outputs": [
    {
     "data": {
      "text/plain": [
       "array([[ 2,  4,  6,  8],\n",
       "       [ 3,  6,  9, 12]])"
      ]
     },
     "execution_count": 59,
     "metadata": {},
     "output_type": "execute_result"
    }
   ],
   "source": [
    "dist_covered"
   ]
  },
  {
   "cell_type": "markdown",
   "id": "401edbef",
   "metadata": {},
   "source": [
    "# How to split the numpy array?\n",
    "\n",
    "--hsplit,vsplit"
   ]
  },
  {
   "cell_type": "code",
   "execution_count": 60,
   "id": "ed5956c1",
   "metadata": {},
   "outputs": [
    {
     "data": {
      "text/plain": [
       "[array([[2, 4],\n",
       "        [3, 6]]),\n",
       " array([[ 6,  8],\n",
       "        [ 9, 12]])]"
      ]
     },
     "execution_count": 60,
     "metadata": {},
     "output_type": "execute_result"
    }
   ],
   "source": [
    "np.hsplit(dist_covered,2) # Split the array column wise...3 Will not work as only 4 columns are there\n"
   ]
  },
  {
   "cell_type": "code",
   "execution_count": 61,
   "id": "d3b300bf",
   "metadata": {},
   "outputs": [],
   "source": [
    " # np.hsplit(dist_covered,3)"
   ]
  },
  {
   "cell_type": "markdown",
   "id": "0623f8b7",
   "metadata": {},
   "source": [
    "We can infer from above that hsplit only equal sized sub-arrays.."
   ]
  },
  {
   "cell_type": "code",
   "execution_count": 62,
   "id": "405fb68b",
   "metadata": {},
   "outputs": [
    {
     "data": {
      "text/plain": [
       "[array([[2, 4, 6, 8]]), array([[ 3,  6,  9, 12]])]"
      ]
     },
     "execution_count": 62,
     "metadata": {},
     "output_type": "execute_result"
    }
   ],
   "source": [
    "np.vsplit(dist_covered,2) # Split the array along the row..."
   ]
  },
  {
   "cell_type": "markdown",
   "id": "412f2d18",
   "metadata": {},
   "source": [
    "# Stacking the values-hstack & vstack.."
   ]
  },
  {
   "cell_type": "code",
   "execution_count": 63,
   "id": "4510f01d",
   "metadata": {},
   "outputs": [
    {
     "name": "stdout",
     "output_type": "stream",
     "text": [
      "[[ 2  4  6  8]\n",
      " [ 3  6  9 12]]\n",
      "------------\n",
      "[[ 1  2  3  4]\n",
      " [15 16 17 18]]\n",
      "------------\n"
     ]
    }
   ],
   "source": [
    "print(dist_covered)\n",
    "print(\"------------\")\n",
    "dist_covered3 = np.array([[1,2,3,4],[15,16,17,18]])\n",
    "\n",
    "print(dist_covered3)\n",
    "print(\"------------\")\n"
   ]
  },
  {
   "cell_type": "code",
   "execution_count": 83,
   "id": "62dc46b5",
   "metadata": {},
   "outputs": [
    {
     "ename": "SyntaxError",
     "evalue": "unexpected EOF while parsing (Temp/ipykernel_10576/816154439.py, line 2)",
     "output_type": "error",
     "traceback": [
      "\u001b[1;36m  File \u001b[1;32m\"C:\\Users\\HP\\AppData\\Local\\Temp/ipykernel_10576/816154439.py\"\u001b[1;36m, line \u001b[1;32m2\u001b[0m\n\u001b[1;33m    print(np.hstack((dist_covered,dist_covered3)) #hstack adds the number of columns\u001b[0m\n\u001b[1;37m                                                                                    ^\u001b[0m\n\u001b[1;31mSyntaxError\u001b[0m\u001b[1;31m:\u001b[0m unexpected EOF while parsing\n"
     ]
    }
   ],
   "source": [
    "print(\"The Stacked arrays using hstack: \")\n",
    "print(np.hstack((dist_covered,dist_covered3)) #hstack adds the number of columns"
   ]
  },
  {
   "cell_type": "code",
   "execution_count": 66,
   "id": "169c59da",
   "metadata": {},
   "outputs": [
    {
     "data": {
      "text/plain": [
       "array([[ 2,  4,  6,  8],\n",
       "       [ 3,  6,  9, 12],\n",
       "       [ 1,  2,  3,  4],\n",
       "       [16, 16, 17, 18]])"
      ]
     },
     "execution_count": 66,
     "metadata": {},
     "output_type": "execute_result"
    }
   ],
   "source": [
    "dist_covered2 = np.array([[2,4,6,8],[3,6,9,12],[1,2,3,4],[16,16,17,18]])\n",
    "dist_covered2"
   ]
  },
  {
   "cell_type": "code",
   "execution_count": 67,
   "id": "7701fd22",
   "metadata": {},
   "outputs": [],
   "source": [
    "#print(dist_covered)\n",
    "#print(\"------------\")\n",
    "\n",
    "\n",
    "#print(dist_covered2)\n",
    "#print(\"------------\")\n",
    "#np.hstack((dist_covered,dist_covered2)) # hstack is not possible because the number of rows is not"
   ]
  },
  {
   "cell_type": "markdown",
   "id": "ff631507",
   "metadata": {},
   "source": [
    "Will vstack be possible? **Yes**"
   ]
  },
  {
   "cell_type": "code",
   "execution_count": 68,
   "id": "9f3f1231",
   "metadata": {},
   "outputs": [
    {
     "name": "stdout",
     "output_type": "stream",
     "text": [
      "The Stacked arrays using vstack: \n",
      "[[ 2  4  6  8]\n",
      " [ 3  6  9 12]\n",
      " [ 2  4  6  8]\n",
      " [ 3  6  9 12]\n",
      " [ 1  2  3  4]\n",
      " [16 16 17 18]]\n"
     ]
    }
   ],
   "source": [
    "print(\"The Stacked arrays using vstack: \")\n",
    "print(np.vstack((dist_covered,dist_covered2))) #vstack adds the number of rows"
   ]
  },
  {
   "cell_type": "markdown",
   "id": "fa4ce760",
   "metadata": {},
   "source": [
    "As it maintain the same no of columns & increases the no of rows.Therefore,vstack is possible."
   ]
  },
  {
   "cell_type": "markdown",
   "id": "7d507a61",
   "metadata": {},
   "source": [
    "# Generating numpy arrays using inbuild numpy methods...\n",
    "\n",
    "---- arange,linspace,randint,randn,rand"
   ]
  },
  {
   "cell_type": "markdown",
   "id": "0b5d3854",
   "metadata": {},
   "source": [
    "**arange** \n",
    "-- Return evenly spaced values within a given interval as input"
   ]
  },
  {
   "cell_type": "code",
   "execution_count": 69,
   "id": "cd4cfbbc",
   "metadata": {},
   "outputs": [
    {
     "data": {
      "text/plain": [
       "array([ 0,  1,  2,  3,  4,  5,  6,  7,  8,  9, 10, 11, 12, 13, 14, 15, 16,\n",
       "       17, 18, 19])"
      ]
     },
     "execution_count": 69,
     "metadata": {},
     "output_type": "execute_result"
    }
   ],
   "source": [
    "np.arange(0,20) # by default this method would generate integer value.\n",
    "                # by default,arange generates equally spaced values with an interval of 1..\n",
    "                # Always the end limit value is inclusive only until(end limit - 1)"
   ]
  },
  {
   "cell_type": "code",
   "execution_count": 70,
   "id": "52bb8325",
   "metadata": {},
   "outputs": [
    {
     "data": {
      "text/plain": [
       "array([ 0.,  1.,  2.,  3.,  4.,  5.,  6.,  7.,  8.,  9., 10., 11., 12.,\n",
       "       13., 14., 15., 16., 17., 18., 19.])"
      ]
     },
     "execution_count": 70,
     "metadata": {},
     "output_type": "execute_result"
    }
   ],
   "source": [
    "np.arange(0,20 ,dtype = \"float\")"
   ]
  },
  {
   "cell_type": "code",
   "execution_count": 71,
   "id": "05a97309",
   "metadata": {},
   "outputs": [
    {
     "data": {
      "text/plain": [
       "array([ 0,  4,  8, 12, 16])"
      ]
     },
     "execution_count": 71,
     "metadata": {},
     "output_type": "execute_result"
    }
   ],
   "source": [
    "np.arange(0,20,4)"
   ]
  },
  {
   "cell_type": "code",
   "execution_count": 72,
   "id": "6321322c",
   "metadata": {},
   "outputs": [
    {
     "data": {
      "text/plain": [
       "array([ 0,  5, 10, 15])"
      ]
     },
     "execution_count": 72,
     "metadata": {},
     "output_type": "execute_result"
    }
   ],
   "source": [
    "np.arange(0,20,5)"
   ]
  },
  {
   "cell_type": "code",
   "execution_count": 73,
   "id": "0d66a113",
   "metadata": {},
   "outputs": [
    {
     "data": {
      "text/plain": [
       "array([ 0. ,  2.5,  5. ,  7.5, 10. , 12.5, 15. , 17.5])"
      ]
     },
     "execution_count": 73,
     "metadata": {},
     "output_type": "execute_result"
    }
   ],
   "source": [
    "np.arange(0,20,2.5)"
   ]
  },
  {
   "cell_type": "markdown",
   "id": "6b4a5cc5",
   "metadata": {},
   "source": [
    "linspace\n",
    "\n",
    "--- Return evenly spaced numbers over a specified interval.."
   ]
  },
  {
   "cell_type": "code",
   "execution_count": 74,
   "id": "6766bd0f",
   "metadata": {},
   "outputs": [
    {
     "data": {
      "text/plain": [
       "array([ 1.  ,  3.25,  5.5 ,  7.75, 10.  ])"
      ]
     },
     "execution_count": 74,
     "metadata": {},
     "output_type": "execute_result"
    }
   ],
   "source": [
    "np.linspace(1,10,5) # Both start & stop limit are inclusive.\n",
    "\n",
    "                    # 3rd parameter here, specifies the no of values to be generated within the given start & stop limits."
   ]
  },
  {
   "cell_type": "code",
   "execution_count": 75,
   "id": "244cc4d8",
   "metadata": {},
   "outputs": [
    {
     "data": {
      "text/plain": [
       "array([ 0.        ,  0.2020202 ,  0.4040404 ,  0.60606061,  0.80808081,\n",
       "        1.01010101,  1.21212121,  1.41414141,  1.61616162,  1.81818182,\n",
       "        2.02020202,  2.22222222,  2.42424242,  2.62626263,  2.82828283,\n",
       "        3.03030303,  3.23232323,  3.43434343,  3.63636364,  3.83838384,\n",
       "        4.04040404,  4.24242424,  4.44444444,  4.64646465,  4.84848485,\n",
       "        5.05050505,  5.25252525,  5.45454545,  5.65656566,  5.85858586,\n",
       "        6.06060606,  6.26262626,  6.46464646,  6.66666667,  6.86868687,\n",
       "        7.07070707,  7.27272727,  7.47474747,  7.67676768,  7.87878788,\n",
       "        8.08080808,  8.28282828,  8.48484848,  8.68686869,  8.88888889,\n",
       "        9.09090909,  9.29292929,  9.49494949,  9.6969697 ,  9.8989899 ,\n",
       "       10.1010101 , 10.3030303 , 10.50505051, 10.70707071, 10.90909091,\n",
       "       11.11111111, 11.31313131, 11.51515152, 11.71717172, 11.91919192,\n",
       "       12.12121212, 12.32323232, 12.52525253, 12.72727273, 12.92929293,\n",
       "       13.13131313, 13.33333333, 13.53535354, 13.73737374, 13.93939394,\n",
       "       14.14141414, 14.34343434, 14.54545455, 14.74747475, 14.94949495,\n",
       "       15.15151515, 15.35353535, 15.55555556, 15.75757576, 15.95959596,\n",
       "       16.16161616, 16.36363636, 16.56565657, 16.76767677, 16.96969697,\n",
       "       17.17171717, 17.37373737, 17.57575758, 17.77777778, 17.97979798,\n",
       "       18.18181818, 18.38383838, 18.58585859, 18.78787879, 18.98989899,\n",
       "       19.19191919, 19.39393939, 19.5959596 , 19.7979798 , 20.        ])"
      ]
     },
     "execution_count": 75,
     "metadata": {},
     "output_type": "execute_result"
    }
   ],
   "source": [
    "np.linspace(0,20,100)"
   ]
  },
  {
   "cell_type": "markdown",
   "id": "d3a69aea",
   "metadata": {},
   "source": [
    "We can from the above that linspace has generated 100 equally spaced value within the limit (0,20)"
   ]
  },
  {
   "cell_type": "code",
   "execution_count": 76,
   "id": "a9482305",
   "metadata": {},
   "outputs": [
    {
     "data": {
      "text/plain": [
       "array([ 1,  3,  5,  7, 10])"
      ]
     },
     "execution_count": 76,
     "metadata": {},
     "output_type": "execute_result"
    }
   ],
   "source": [
    "np.linspace(1,10,5, dtype = \"int\")"
   ]
  },
  {
   "cell_type": "markdown",
   "id": "a5db329f",
   "metadata": {},
   "source": [
    "# How to generate Random Arrays using Numpy Methods?\n",
    "\n",
    "rand\n",
    "\n",
    "Create an array of the given shape & populate it with random variable derived from uniform distribution between (0,1)"
   ]
  },
  {
   "cell_type": "code",
   "execution_count": 77,
   "id": "7a9b8c3a",
   "metadata": {},
   "outputs": [
    {
     "data": {
      "text/plain": [
       "array([[0.97128441, 0.78649991],\n",
       "       [0.68744699, 0.97872715],\n",
       "       [0.19095822, 0.17153464]])"
      ]
     },
     "execution_count": 77,
     "metadata": {},
     "output_type": "execute_result"
    }
   ],
   "source": [
    "np.random.rand(3,2)"
   ]
  },
  {
   "cell_type": "markdown",
   "id": "66019752",
   "metadata": {},
   "source": [
    " randn\n",
    "\n",
    "Return a variable (or a set of variables) from the \"Standard Normal\" Distribution,Unlike rand which is form a uniform distribution:\n",
    "\n",
    "    \n",
    "A Standard Normal distribution has mean 0 and SD if 1 as we know."
   ]
  },
  {
   "cell_type": "code",
   "execution_count": 78,
   "id": "24ca9fa1",
   "metadata": {},
   "outputs": [
    {
     "data": {
      "text/plain": [
       "array([ 1.23725128, -0.1744934 , -1.85679034, -0.80557508, -0.43960593])"
      ]
     },
     "execution_count": 78,
     "metadata": {},
     "output_type": "execute_result"
    }
   ],
   "source": [
    "np.random.randn(5)"
   ]
  },
  {
   "cell_type": "code",
   "execution_count": 79,
   "id": "4ce78453",
   "metadata": {},
   "outputs": [
    {
     "data": {
      "text/plain": [
       "array([[-1.33546182,  0.55279245],\n",
       "       [ 1.02250202,  1.15010182],\n",
       "       [ 2.05190751,  1.14365475]])"
      ]
     },
     "execution_count": 79,
     "metadata": {},
     "output_type": "execute_result"
    }
   ],
   "source": [
    "np.random.randn(3,2)"
   ]
  },
  {
   "cell_type": "markdown",
   "id": "29395c6a",
   "metadata": {},
   "source": [
    "randint\n",
    "\n",
    "--- Return random integers from low(inclusive) to high(exclusive)"
   ]
  },
  {
   "cell_type": "code",
   "execution_count": 80,
   "id": "27a2e2d9",
   "metadata": {},
   "outputs": [
    {
     "data": {
      "text/plain": [
       "19"
      ]
     },
     "execution_count": 80,
     "metadata": {},
     "output_type": "execute_result"
    }
   ],
   "source": [
    "np.random.randint(5,20) # Will gererate any random number between 5 & 20."
   ]
  },
  {
   "cell_type": "code",
   "execution_count": 81,
   "id": "bb3d4257",
   "metadata": {},
   "outputs": [
    {
     "data": {
      "text/plain": [
       "array([11, 14,  6])"
      ]
     },
     "execution_count": 81,
     "metadata": {},
     "output_type": "execute_result"
    }
   ],
   "source": [
    "np.random.randint(5,20,3)# Will gererate any three random number between 5 & 20."
   ]
  },
  {
   "cell_type": "code",
   "execution_count": 82,
   "id": "3e0ad37e",
   "metadata": {},
   "outputs": [
    {
     "data": {
      "text/plain": [
       "array([27, 27, 35, 24, 25, 40, 22, 37, 41, 29])"
      ]
     },
     "execution_count": 82,
     "metadata": {},
     "output_type": "execute_result"
    }
   ],
   "source": [
    "np.random.randint(20,50,10)"
   ]
  },
  {
   "cell_type": "markdown",
   "id": "121f95ed",
   "metadata": {},
   "source": [
    "# End OF Numpy discussion..."
   ]
  },
  {
   "cell_type": "code",
   "execution_count": null,
   "id": "1b6a9a35",
   "metadata": {},
   "outputs": [],
   "source": []
  },
  {
   "cell_type": "code",
   "execution_count": null,
   "id": "aa72f689",
   "metadata": {},
   "outputs": [],
   "source": []
  }
 ],
 "metadata": {
  "kernelspec": {
   "display_name": "Python 3 (ipykernel)",
   "language": "python",
   "name": "python3"
  },
  "language_info": {
   "codemirror_mode": {
    "name": "ipython",
    "version": 3
   },
   "file_extension": ".py",
   "mimetype": "text/x-python",
   "name": "python",
   "nbconvert_exporter": "python",
   "pygments_lexer": "ipython3",
   "version": "3.9.7"
  }
 },
 "nbformat": 4,
 "nbformat_minor": 5
}
