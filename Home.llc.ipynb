{
 "cells": [
  {
   "cell_type": "markdown",
   "id": "cb1061dc",
   "metadata": {},
   "source": [
    "## Importing all the required librabies for model building for US Home price predictions."
   ]
  },
  {
   "cell_type": "code",
   "execution_count": 1,
   "id": "914850f4",
   "metadata": {},
   "outputs": [],
   "source": [
    "import numpy as np\n",
    "import pandas as pd\n",
    "import seaborn as sns\n",
    "from sklearn.model_selection import train_test_split\n",
    "from sklearn.linear_model import LinearRegression\n",
    "import matplotlib.pyplot as plt\n",
    "from matplotlib import style\n",
    "style.use(\"ggplot\")\n",
    "from sklearn.metrics import mean_squared_error\n",
    "from sklearn.metrics import r2_score"
   ]
  },
  {
   "cell_type": "markdown",
   "id": "26350bd6",
   "metadata": {},
   "source": [
    "## Importing file from local computer to Jupyter environment & converting it from excel to csv format."
   ]
  },
  {
   "cell_type": "code",
   "execution_count": 2,
   "id": "5c6e27bb",
   "metadata": {},
   "outputs": [],
   "source": [
    "df = pd.read_excel(r\"C:\\Users\\HP\\Documents\\My_Notebooks\\Home_Price_Prediction_Dataset1.xlsx\")\n",
    "df.to_csv(r\"C:\\Users\\HP\\Documents\\My_Notebooks\\Home_Price_Prediction_Dataset.csv\",index= None,header = True)"
   ]
  },
  {
   "cell_type": "markdown",
   "id": "2e86626f",
   "metadata": {},
   "source": [
    "## EDA"
   ]
  },
  {
   "cell_type": "markdown",
   "id": "a61f874f",
   "metadata": {},
   "source": [
    "## Top 5"
   ]
  },
  {
   "cell_type": "code",
   "execution_count": 3,
   "id": "f4d9c8f2",
   "metadata": {},
   "outputs": [
    {
     "data": {
      "text/html": [
       "<div>\n",
       "<style scoped>\n",
       "    .dataframe tbody tr th:only-of-type {\n",
       "        vertical-align: middle;\n",
       "    }\n",
       "\n",
       "    .dataframe tbody tr th {\n",
       "        vertical-align: top;\n",
       "    }\n",
       "\n",
       "    .dataframe thead th {\n",
       "        text-align: right;\n",
       "    }\n",
       "</style>\n",
       "<table border=\"1\" class=\"dataframe\">\n",
       "  <thead>\n",
       "    <tr style=\"text-align: right;\">\n",
       "      <th></th>\n",
       "      <th>UNEMP</th>\n",
       "      <th>CONST</th>\n",
       "      <th>Months of Supply</th>\n",
       "      <th>Mortgage Rate</th>\n",
       "      <th>Permits-Number</th>\n",
       "      <th>Permits-Valuation</th>\n",
       "      <th>Housing Starts</th>\n",
       "      <th>Consumption</th>\n",
       "      <th>Disposable Income</th>\n",
       "      <th>Savings</th>\n",
       "      <th>Fed Funds Rate</th>\n",
       "      <th>Homes for Sale</th>\n",
       "      <th>Homes Sold</th>\n",
       "      <th>HPI</th>\n",
       "    </tr>\n",
       "  </thead>\n",
       "  <tbody>\n",
       "    <tr>\n",
       "      <th>0</th>\n",
       "      <td>NaN</td>\n",
       "      <td>NaN</td>\n",
       "      <td>NaN</td>\n",
       "      <td>NaN</td>\n",
       "      <td>NaN</td>\n",
       "      <td>NaN</td>\n",
       "      <td>NaN</td>\n",
       "      <td>NaN</td>\n",
       "      <td>NaN</td>\n",
       "      <td>NaN</td>\n",
       "      <td>NaN</td>\n",
       "      <td>NaN</td>\n",
       "      <td>NaN</td>\n",
       "      <td>NaN</td>\n",
       "    </tr>\n",
       "    <tr>\n",
       "      <th>1</th>\n",
       "      <td>5.4</td>\n",
       "      <td>NaN</td>\n",
       "      <td>7.0</td>\n",
       "      <td>9.8950</td>\n",
       "      <td>NaN</td>\n",
       "      <td>7567.597</td>\n",
       "      <td>1551.0</td>\n",
       "      <td>NaN</td>\n",
       "      <td>NaN</td>\n",
       "      <td>NaN</td>\n",
       "      <td>NaN</td>\n",
       "      <td>NaN</td>\n",
       "      <td>NaN</td>\n",
       "      <td>NaN</td>\n",
       "    </tr>\n",
       "    <tr>\n",
       "      <th>2</th>\n",
       "      <td>5.3</td>\n",
       "      <td>NaN</td>\n",
       "      <td>7.6</td>\n",
       "      <td>10.1975</td>\n",
       "      <td>NaN</td>\n",
       "      <td>6583.558</td>\n",
       "      <td>1437.0</td>\n",
       "      <td>NaN</td>\n",
       "      <td>NaN</td>\n",
       "      <td>NaN</td>\n",
       "      <td>NaN</td>\n",
       "      <td>NaN</td>\n",
       "      <td>NaN</td>\n",
       "      <td>NaN</td>\n",
       "    </tr>\n",
       "    <tr>\n",
       "      <th>3</th>\n",
       "      <td>5.2</td>\n",
       "      <td>NaN</td>\n",
       "      <td>7.8</td>\n",
       "      <td>10.2680</td>\n",
       "      <td>NaN</td>\n",
       "      <td>8752.084</td>\n",
       "      <td>1289.0</td>\n",
       "      <td>NaN</td>\n",
       "      <td>NaN</td>\n",
       "      <td>NaN</td>\n",
       "      <td>NaN</td>\n",
       "      <td>NaN</td>\n",
       "      <td>NaN</td>\n",
       "      <td>NaN</td>\n",
       "    </tr>\n",
       "    <tr>\n",
       "      <th>4</th>\n",
       "      <td>5.4</td>\n",
       "      <td>NaN</td>\n",
       "      <td>8.3</td>\n",
       "      <td>10.3700</td>\n",
       "      <td>NaN</td>\n",
       "      <td>8478.328</td>\n",
       "      <td>1248.0</td>\n",
       "      <td>NaN</td>\n",
       "      <td>NaN</td>\n",
       "      <td>NaN</td>\n",
       "      <td>NaN</td>\n",
       "      <td>NaN</td>\n",
       "      <td>NaN</td>\n",
       "      <td>NaN</td>\n",
       "    </tr>\n",
       "  </tbody>\n",
       "</table>\n",
       "</div>"
      ],
      "text/plain": [
       "   UNEMP  CONST  Months of Supply  Mortgage Rate  Permits-Number  \\\n",
       "0    NaN    NaN               NaN            NaN             NaN   \n",
       "1    5.4    NaN               7.0         9.8950             NaN   \n",
       "2    5.3    NaN               7.6        10.1975             NaN   \n",
       "3    5.2    NaN               7.8        10.2680             NaN   \n",
       "4    5.4    NaN               8.3        10.3700             NaN   \n",
       "\n",
       "   Permits-Valuation  Housing Starts  Consumption  Disposable Income  Savings  \\\n",
       "0                NaN             NaN          NaN                NaN      NaN   \n",
       "1           7567.597          1551.0          NaN                NaN      NaN   \n",
       "2           6583.558          1437.0          NaN                NaN      NaN   \n",
       "3           8752.084          1289.0          NaN                NaN      NaN   \n",
       "4           8478.328          1248.0          NaN                NaN      NaN   \n",
       "\n",
       "   Fed Funds Rate  Homes for Sale  Homes Sold  HPI  \n",
       "0             NaN             NaN         NaN  NaN  \n",
       "1             NaN             NaN         NaN  NaN  \n",
       "2             NaN             NaN         NaN  NaN  \n",
       "3             NaN             NaN         NaN  NaN  \n",
       "4             NaN             NaN         NaN  NaN  "
      ]
     },
     "execution_count": 3,
     "metadata": {},
     "output_type": "execute_result"
    }
   ],
   "source": [
    "df.head()"
   ]
  },
  {
   "cell_type": "markdown",
   "id": "8dc54bef",
   "metadata": {},
   "source": [
    "## Checking correlation of attributes"
   ]
  },
  {
   "cell_type": "code",
   "execution_count": 4,
   "id": "35517ccb",
   "metadata": {},
   "outputs": [
    {
     "data": {
      "text/html": [
       "<div>\n",
       "<style scoped>\n",
       "    .dataframe tbody tr th:only-of-type {\n",
       "        vertical-align: middle;\n",
       "    }\n",
       "\n",
       "    .dataframe tbody tr th {\n",
       "        vertical-align: top;\n",
       "    }\n",
       "\n",
       "    .dataframe thead th {\n",
       "        text-align: right;\n",
       "    }\n",
       "</style>\n",
       "<table border=\"1\" class=\"dataframe\">\n",
       "  <thead>\n",
       "    <tr style=\"text-align: right;\">\n",
       "      <th></th>\n",
       "      <th>UNEMP</th>\n",
       "      <th>CONST</th>\n",
       "      <th>Months of Supply</th>\n",
       "      <th>Mortgage Rate</th>\n",
       "      <th>Permits-Number</th>\n",
       "      <th>Permits-Valuation</th>\n",
       "      <th>Housing Starts</th>\n",
       "      <th>Consumption</th>\n",
       "      <th>Disposable Income</th>\n",
       "      <th>Savings</th>\n",
       "      <th>Fed Funds Rate</th>\n",
       "      <th>Homes for Sale</th>\n",
       "      <th>Homes Sold</th>\n",
       "      <th>HPI</th>\n",
       "    </tr>\n",
       "  </thead>\n",
       "  <tbody>\n",
       "    <tr>\n",
       "      <th>UNEMP</th>\n",
       "      <td>1.000000</td>\n",
       "      <td>-0.612062</td>\n",
       "      <td>0.254630</td>\n",
       "      <td>-0.187428</td>\n",
       "      <td>-0.620807</td>\n",
       "      <td>-0.451682</td>\n",
       "      <td>-0.619254</td>\n",
       "      <td>-0.026602</td>\n",
       "      <td>0.045984</td>\n",
       "      <td>0.368465</td>\n",
       "      <td>-0.591361</td>\n",
       "      <td>-0.471829</td>\n",
       "      <td>-0.475520</td>\n",
       "      <td>-0.214574</td>\n",
       "    </tr>\n",
       "    <tr>\n",
       "      <th>CONST</th>\n",
       "      <td>-0.612062</td>\n",
       "      <td>1.000000</td>\n",
       "      <td>-0.267542</td>\n",
       "      <td>0.002101</td>\n",
       "      <td>0.728514</td>\n",
       "      <td>0.894791</td>\n",
       "      <td>0.707971</td>\n",
       "      <td>0.258350</td>\n",
       "      <td>0.299266</td>\n",
       "      <td>0.148305</td>\n",
       "      <td>0.336573</td>\n",
       "      <td>0.635403</td>\n",
       "      <td>0.659715</td>\n",
       "      <td>0.672193</td>\n",
       "    </tr>\n",
       "    <tr>\n",
       "      <th>Months of Supply</th>\n",
       "      <td>0.254630</td>\n",
       "      <td>-0.267542</td>\n",
       "      <td>1.000000</td>\n",
       "      <td>0.084015</td>\n",
       "      <td>-0.597482</td>\n",
       "      <td>-0.383459</td>\n",
       "      <td>-0.581264</td>\n",
       "      <td>0.135489</td>\n",
       "      <td>0.101026</td>\n",
       "      <td>-0.050040</td>\n",
       "      <td>-0.024782</td>\n",
       "      <td>0.215606</td>\n",
       "      <td>-0.511021</td>\n",
       "      <td>0.198451</td>\n",
       "    </tr>\n",
       "    <tr>\n",
       "      <th>Mortgage Rate</th>\n",
       "      <td>-0.187428</td>\n",
       "      <td>0.002101</td>\n",
       "      <td>0.084015</td>\n",
       "      <td>1.000000</td>\n",
       "      <td>0.477967</td>\n",
       "      <td>-0.447903</td>\n",
       "      <td>0.311652</td>\n",
       "      <td>-0.848019</td>\n",
       "      <td>-0.840132</td>\n",
       "      <td>-0.626819</td>\n",
       "      <td>0.777169</td>\n",
       "      <td>0.578205</td>\n",
       "      <td>0.549204</td>\n",
       "      <td>-0.573638</td>\n",
       "    </tr>\n",
       "    <tr>\n",
       "      <th>Permits-Number</th>\n",
       "      <td>-0.620807</td>\n",
       "      <td>0.728514</td>\n",
       "      <td>-0.597482</td>\n",
       "      <td>0.477967</td>\n",
       "      <td>1.000000</td>\n",
       "      <td>0.675443</td>\n",
       "      <td>0.985902</td>\n",
       "      <td>-0.384314</td>\n",
       "      <td>-0.339375</td>\n",
       "      <td>-0.248335</td>\n",
       "      <td>0.537757</td>\n",
       "      <td>0.627790</td>\n",
       "      <td>0.962433</td>\n",
       "      <td>0.007435</td>\n",
       "    </tr>\n",
       "    <tr>\n",
       "      <th>Permits-Valuation</th>\n",
       "      <td>-0.451682</td>\n",
       "      <td>0.894791</td>\n",
       "      <td>-0.383459</td>\n",
       "      <td>-0.447903</td>\n",
       "      <td>0.675443</td>\n",
       "      <td>1.000000</td>\n",
       "      <td>0.561623</td>\n",
       "      <td>0.150559</td>\n",
       "      <td>0.191698</td>\n",
       "      <td>0.112215</td>\n",
       "      <td>0.291591</td>\n",
       "      <td>0.501709</td>\n",
       "      <td>0.707764</td>\n",
       "      <td>0.491187</td>\n",
       "    </tr>\n",
       "    <tr>\n",
       "      <th>Housing Starts</th>\n",
       "      <td>-0.619254</td>\n",
       "      <td>0.707971</td>\n",
       "      <td>-0.581264</td>\n",
       "      <td>0.311652</td>\n",
       "      <td>0.985902</td>\n",
       "      <td>0.561623</td>\n",
       "      <td>1.000000</td>\n",
       "      <td>-0.409020</td>\n",
       "      <td>-0.366008</td>\n",
       "      <td>-0.272211</td>\n",
       "      <td>0.550619</td>\n",
       "      <td>0.634266</td>\n",
       "      <td>0.960717</td>\n",
       "      <td>-0.018793</td>\n",
       "    </tr>\n",
       "    <tr>\n",
       "      <th>Consumption</th>\n",
       "      <td>-0.026602</td>\n",
       "      <td>0.258350</td>\n",
       "      <td>0.135489</td>\n",
       "      <td>-0.848019</td>\n",
       "      <td>-0.384314</td>\n",
       "      <td>0.150559</td>\n",
       "      <td>-0.409020</td>\n",
       "      <td>1.000000</td>\n",
       "      <td>0.976414</td>\n",
       "      <td>0.625203</td>\n",
       "      <td>-0.470089</td>\n",
       "      <td>-0.318743</td>\n",
       "      <td>-0.487215</td>\n",
       "      <td>0.825240</td>\n",
       "    </tr>\n",
       "    <tr>\n",
       "      <th>Disposable Income</th>\n",
       "      <td>0.045984</td>\n",
       "      <td>0.299266</td>\n",
       "      <td>0.101026</td>\n",
       "      <td>-0.840132</td>\n",
       "      <td>-0.339375</td>\n",
       "      <td>0.191698</td>\n",
       "      <td>-0.366008</td>\n",
       "      <td>0.976414</td>\n",
       "      <td>1.000000</td>\n",
       "      <td>0.770121</td>\n",
       "      <td>-0.466464</td>\n",
       "      <td>-0.289667</td>\n",
       "      <td>-0.427616</td>\n",
       "      <td>0.839682</td>\n",
       "    </tr>\n",
       "    <tr>\n",
       "      <th>Savings</th>\n",
       "      <td>0.368465</td>\n",
       "      <td>0.148305</td>\n",
       "      <td>-0.050040</td>\n",
       "      <td>-0.626819</td>\n",
       "      <td>-0.248335</td>\n",
       "      <td>0.112215</td>\n",
       "      <td>-0.272211</td>\n",
       "      <td>0.625203</td>\n",
       "      <td>0.770121</td>\n",
       "      <td>1.000000</td>\n",
       "      <td>-0.415914</td>\n",
       "      <td>-0.310901</td>\n",
       "      <td>-0.272967</td>\n",
       "      <td>0.526203</td>\n",
       "    </tr>\n",
       "    <tr>\n",
       "      <th>Fed Funds Rate</th>\n",
       "      <td>-0.591361</td>\n",
       "      <td>0.336573</td>\n",
       "      <td>-0.024782</td>\n",
       "      <td>0.777169</td>\n",
       "      <td>0.537757</td>\n",
       "      <td>0.291591</td>\n",
       "      <td>0.550619</td>\n",
       "      <td>-0.470089</td>\n",
       "      <td>-0.466464</td>\n",
       "      <td>-0.415914</td>\n",
       "      <td>1.000000</td>\n",
       "      <td>0.698820</td>\n",
       "      <td>0.555020</td>\n",
       "      <td>-0.136344</td>\n",
       "    </tr>\n",
       "    <tr>\n",
       "      <th>Homes for Sale</th>\n",
       "      <td>-0.471829</td>\n",
       "      <td>0.635403</td>\n",
       "      <td>0.215606</td>\n",
       "      <td>0.578205</td>\n",
       "      <td>0.627790</td>\n",
       "      <td>0.501709</td>\n",
       "      <td>0.634266</td>\n",
       "      <td>-0.318743</td>\n",
       "      <td>-0.289667</td>\n",
       "      <td>-0.310901</td>\n",
       "      <td>0.698820</td>\n",
       "      <td>1.000000</td>\n",
       "      <td>0.682254</td>\n",
       "      <td>0.239493</td>\n",
       "    </tr>\n",
       "    <tr>\n",
       "      <th>Homes Sold</th>\n",
       "      <td>-0.475520</td>\n",
       "      <td>0.659715</td>\n",
       "      <td>-0.511021</td>\n",
       "      <td>0.549204</td>\n",
       "      <td>0.962433</td>\n",
       "      <td>0.707764</td>\n",
       "      <td>0.960717</td>\n",
       "      <td>-0.487215</td>\n",
       "      <td>-0.427616</td>\n",
       "      <td>-0.272967</td>\n",
       "      <td>0.555020</td>\n",
       "      <td>0.682254</td>\n",
       "      <td>1.000000</td>\n",
       "      <td>-0.056669</td>\n",
       "    </tr>\n",
       "    <tr>\n",
       "      <th>HPI</th>\n",
       "      <td>-0.214574</td>\n",
       "      <td>0.672193</td>\n",
       "      <td>0.198451</td>\n",
       "      <td>-0.573638</td>\n",
       "      <td>0.007435</td>\n",
       "      <td>0.491187</td>\n",
       "      <td>-0.018793</td>\n",
       "      <td>0.825240</td>\n",
       "      <td>0.839682</td>\n",
       "      <td>0.526203</td>\n",
       "      <td>-0.136344</td>\n",
       "      <td>0.239493</td>\n",
       "      <td>-0.056669</td>\n",
       "      <td>1.000000</td>\n",
       "    </tr>\n",
       "  </tbody>\n",
       "</table>\n",
       "</div>"
      ],
      "text/plain": [
       "                      UNEMP     CONST  Months of Supply  Mortgage Rate  \\\n",
       "UNEMP              1.000000 -0.612062          0.254630      -0.187428   \n",
       "CONST             -0.612062  1.000000         -0.267542       0.002101   \n",
       "Months of Supply   0.254630 -0.267542          1.000000       0.084015   \n",
       "Mortgage Rate     -0.187428  0.002101          0.084015       1.000000   \n",
       "Permits-Number    -0.620807  0.728514         -0.597482       0.477967   \n",
       "Permits-Valuation -0.451682  0.894791         -0.383459      -0.447903   \n",
       "Housing Starts    -0.619254  0.707971         -0.581264       0.311652   \n",
       "Consumption       -0.026602  0.258350          0.135489      -0.848019   \n",
       "Disposable Income  0.045984  0.299266          0.101026      -0.840132   \n",
       "Savings            0.368465  0.148305         -0.050040      -0.626819   \n",
       "Fed Funds Rate    -0.591361  0.336573         -0.024782       0.777169   \n",
       "Homes for Sale    -0.471829  0.635403          0.215606       0.578205   \n",
       "Homes Sold        -0.475520  0.659715         -0.511021       0.549204   \n",
       "HPI               -0.214574  0.672193          0.198451      -0.573638   \n",
       "\n",
       "                   Permits-Number  Permits-Valuation  Housing Starts  \\\n",
       "UNEMP                   -0.620807          -0.451682       -0.619254   \n",
       "CONST                    0.728514           0.894791        0.707971   \n",
       "Months of Supply        -0.597482          -0.383459       -0.581264   \n",
       "Mortgage Rate            0.477967          -0.447903        0.311652   \n",
       "Permits-Number           1.000000           0.675443        0.985902   \n",
       "Permits-Valuation        0.675443           1.000000        0.561623   \n",
       "Housing Starts           0.985902           0.561623        1.000000   \n",
       "Consumption             -0.384314           0.150559       -0.409020   \n",
       "Disposable Income       -0.339375           0.191698       -0.366008   \n",
       "Savings                 -0.248335           0.112215       -0.272211   \n",
       "Fed Funds Rate           0.537757           0.291591        0.550619   \n",
       "Homes for Sale           0.627790           0.501709        0.634266   \n",
       "Homes Sold               0.962433           0.707764        0.960717   \n",
       "HPI                      0.007435           0.491187       -0.018793   \n",
       "\n",
       "                   Consumption  Disposable Income   Savings  Fed Funds Rate  \\\n",
       "UNEMP                -0.026602           0.045984  0.368465       -0.591361   \n",
       "CONST                 0.258350           0.299266  0.148305        0.336573   \n",
       "Months of Supply      0.135489           0.101026 -0.050040       -0.024782   \n",
       "Mortgage Rate        -0.848019          -0.840132 -0.626819        0.777169   \n",
       "Permits-Number       -0.384314          -0.339375 -0.248335        0.537757   \n",
       "Permits-Valuation     0.150559           0.191698  0.112215        0.291591   \n",
       "Housing Starts       -0.409020          -0.366008 -0.272211        0.550619   \n",
       "Consumption           1.000000           0.976414  0.625203       -0.470089   \n",
       "Disposable Income     0.976414           1.000000  0.770121       -0.466464   \n",
       "Savings               0.625203           0.770121  1.000000       -0.415914   \n",
       "Fed Funds Rate       -0.470089          -0.466464 -0.415914        1.000000   \n",
       "Homes for Sale       -0.318743          -0.289667 -0.310901        0.698820   \n",
       "Homes Sold           -0.487215          -0.427616 -0.272967        0.555020   \n",
       "HPI                   0.825240           0.839682  0.526203       -0.136344   \n",
       "\n",
       "                   Homes for Sale  Homes Sold       HPI  \n",
       "UNEMP                   -0.471829   -0.475520 -0.214574  \n",
       "CONST                    0.635403    0.659715  0.672193  \n",
       "Months of Supply         0.215606   -0.511021  0.198451  \n",
       "Mortgage Rate            0.578205    0.549204 -0.573638  \n",
       "Permits-Number           0.627790    0.962433  0.007435  \n",
       "Permits-Valuation        0.501709    0.707764  0.491187  \n",
       "Housing Starts           0.634266    0.960717 -0.018793  \n",
       "Consumption             -0.318743   -0.487215  0.825240  \n",
       "Disposable Income       -0.289667   -0.427616  0.839682  \n",
       "Savings                 -0.310901   -0.272967  0.526203  \n",
       "Fed Funds Rate           0.698820    0.555020 -0.136344  \n",
       "Homes for Sale           1.000000    0.682254  0.239493  \n",
       "Homes Sold               0.682254    1.000000 -0.056669  \n",
       "HPI                      0.239493   -0.056669  1.000000  "
      ]
     },
     "execution_count": 4,
     "metadata": {},
     "output_type": "execute_result"
    }
   ],
   "source": [
    "df.corr()"
   ]
  },
  {
   "cell_type": "markdown",
   "id": "0115b222",
   "metadata": {},
   "source": [
    "## Information about not null count and column data types"
   ]
  },
  {
   "cell_type": "code",
   "execution_count": 5,
   "id": "e8bd448b",
   "metadata": {},
   "outputs": [
    {
     "name": "stdout",
     "output_type": "stream",
     "text": [
      "<class 'pandas.core.frame.DataFrame'>\n",
      "RangeIndex: 373 entries, 0 to 372\n",
      "Data columns (total 14 columns):\n",
      " #   Column             Non-Null Count  Dtype  \n",
      "---  ------             --------------  -----  \n",
      " 0   UNEMP              371 non-null    float64\n",
      " 1   CONST              250 non-null    float64\n",
      " 2   Months of Supply   371 non-null    float64\n",
      " 3   Mortgage Rate      372 non-null    float64\n",
      " 4   Permits-Number     299 non-null    float64\n",
      " 5   Permits-Valuation  371 non-null    float64\n",
      " 6   Housing Starts     371 non-null    float64\n",
      " 7   Consumption        251 non-null    float64\n",
      " 8   Disposable Income  251 non-null    float64\n",
      " 9   Savings            251 non-null    float64\n",
      " 10  Fed Funds Rate     252 non-null    float64\n",
      " 11  Homes for Sale     251 non-null    float64\n",
      " 12  Homes Sold         251 non-null    float64\n",
      " 13  HPI                250 non-null    float64\n",
      "dtypes: float64(14)\n",
      "memory usage: 40.9 KB\n"
     ]
    }
   ],
   "source": [
    "df.info()"
   ]
  },
  {
   "cell_type": "markdown",
   "id": "ed4c3fe0",
   "metadata": {},
   "source": [
    "**We've got Not null count along with data types of each of the column**"
   ]
  },
  {
   "cell_type": "markdown",
   "id": "699ca06e",
   "metadata": {},
   "source": [
    "## Count of data type of varibles."
   ]
  },
  {
   "cell_type": "code",
   "execution_count": 6,
   "id": "4d73ce02",
   "metadata": {},
   "outputs": [
    {
     "data": {
      "text/plain": [
       "float64    14\n",
       "dtype: int64"
      ]
     },
     "execution_count": 6,
     "metadata": {},
     "output_type": "execute_result"
    }
   ],
   "source": [
    "df.dtypes.value_counts()"
   ]
  },
  {
   "cell_type": "markdown",
   "id": "6e450db3",
   "metadata": {},
   "source": [
    "## Null count w.r.t columns"
   ]
  },
  {
   "cell_type": "code",
   "execution_count": 7,
   "id": "dec8fc75",
   "metadata": {},
   "outputs": [
    {
     "data": {
      "text/plain": [
       "UNEMP                  2\n",
       "CONST                123\n",
       "Months of Supply       2\n",
       "Mortgage Rate          1\n",
       "Permits-Number        74\n",
       "Permits-Valuation      2\n",
       "Housing Starts         2\n",
       "Consumption          122\n",
       "Disposable Income    122\n",
       "Savings              122\n",
       "Fed Funds Rate       121\n",
       "Homes for Sale       122\n",
       "Homes Sold           122\n",
       "HPI                  123\n",
       "dtype: int64"
      ]
     },
     "execution_count": 7,
     "metadata": {},
     "output_type": "execute_result"
    }
   ],
   "source": [
    "df.isnull().sum()"
   ]
  },
  {
   "cell_type": "markdown",
   "id": "8b8679ad",
   "metadata": {},
   "source": [
    "## Summarization of whole data"
   ]
  },
  {
   "cell_type": "code",
   "execution_count": 8,
   "id": "59400e9e",
   "metadata": {},
   "outputs": [
    {
     "data": {
      "text/html": [
       "<div>\n",
       "<style scoped>\n",
       "    .dataframe tbody tr th:only-of-type {\n",
       "        vertical-align: middle;\n",
       "    }\n",
       "\n",
       "    .dataframe tbody tr th {\n",
       "        vertical-align: top;\n",
       "    }\n",
       "\n",
       "    .dataframe thead th {\n",
       "        text-align: right;\n",
       "    }\n",
       "</style>\n",
       "<table border=\"1\" class=\"dataframe\">\n",
       "  <thead>\n",
       "    <tr style=\"text-align: right;\">\n",
       "      <th></th>\n",
       "      <th>UNEMP</th>\n",
       "      <th>CONST</th>\n",
       "      <th>Months of Supply</th>\n",
       "      <th>Mortgage Rate</th>\n",
       "      <th>Permits-Number</th>\n",
       "      <th>Permits-Valuation</th>\n",
       "      <th>Housing Starts</th>\n",
       "      <th>Consumption</th>\n",
       "      <th>Disposable Income</th>\n",
       "      <th>Savings</th>\n",
       "      <th>Fed Funds Rate</th>\n",
       "      <th>Homes for Sale</th>\n",
       "      <th>Homes Sold</th>\n",
       "      <th>HPI</th>\n",
       "    </tr>\n",
       "  </thead>\n",
       "  <tbody>\n",
       "    <tr>\n",
       "      <th>count</th>\n",
       "      <td>371.000000</td>\n",
       "      <td>250.000000</td>\n",
       "      <td>371.000000</td>\n",
       "      <td>372.000000</td>\n",
       "      <td>299.000000</td>\n",
       "      <td>371.000000</td>\n",
       "      <td>371.000000</td>\n",
       "      <td>251.000000</td>\n",
       "      <td>251.000000</td>\n",
       "      <td>251.000000</td>\n",
       "      <td>252.000000</td>\n",
       "      <td>251.000000</td>\n",
       "      <td>251.000000</td>\n",
       "      <td>250.000000</td>\n",
       "    </tr>\n",
       "    <tr>\n",
       "      <th>mean</th>\n",
       "      <td>5.912129</td>\n",
       "      <td>428859.360000</td>\n",
       "      <td>5.720216</td>\n",
       "      <td>6.068938</td>\n",
       "      <td>1353.414716</td>\n",
       "      <td>15296.481571</td>\n",
       "      <td>1303.221024</td>\n",
       "      <td>10494.132271</td>\n",
       "      <td>12123.450996</td>\n",
       "      <td>818.369323</td>\n",
       "      <td>1.716926</td>\n",
       "      <td>310.019920</td>\n",
       "      <td>697.844622</td>\n",
       "      <td>161.092720</td>\n",
       "    </tr>\n",
       "    <tr>\n",
       "      <th>std</th>\n",
       "      <td>1.739832</td>\n",
       "      <td>122721.914363</td>\n",
       "      <td>1.751631</td>\n",
       "      <td>1.876129</td>\n",
       "      <td>439.988234</td>\n",
       "      <td>6388.851137</td>\n",
       "      <td>399.019413</td>\n",
       "      <td>2353.486378</td>\n",
       "      <td>1712.412383</td>\n",
       "      <td>623.919634</td>\n",
       "      <td>1.898628</td>\n",
       "      <td>113.227398</td>\n",
       "      <td>299.572702</td>\n",
       "      <td>30.094918</td>\n",
       "    </tr>\n",
       "    <tr>\n",
       "      <th>min</th>\n",
       "      <td>3.500000</td>\n",
       "      <td>236512.000000</td>\n",
       "      <td>3.500000</td>\n",
       "      <td>2.684000</td>\n",
       "      <td>513.000000</td>\n",
       "      <td>4096.211000</td>\n",
       "      <td>478.000000</td>\n",
       "      <td>6535.300000</td>\n",
       "      <td>9307.100000</td>\n",
       "      <td>202.200000</td>\n",
       "      <td>0.049000</td>\n",
       "      <td>142.000000</td>\n",
       "      <td>270.000000</td>\n",
       "      <td>100.552000</td>\n",
       "    </tr>\n",
       "    <tr>\n",
       "      <th>25%</th>\n",
       "      <td>4.600000</td>\n",
       "      <td>340081.750000</td>\n",
       "      <td>4.300000</td>\n",
       "      <td>4.292500</td>\n",
       "      <td>1047.500000</td>\n",
       "      <td>9681.043000</td>\n",
       "      <td>1053.500000</td>\n",
       "      <td>8606.700000</td>\n",
       "      <td>10770.350000</td>\n",
       "      <td>432.150000</td>\n",
       "      <td>0.144833</td>\n",
       "      <td>217.500000</td>\n",
       "      <td>438.000000</td>\n",
       "      <td>140.224250</td>\n",
       "    </tr>\n",
       "    <tr>\n",
       "      <th>50%</th>\n",
       "      <td>5.500000</td>\n",
       "      <td>415920.000000</td>\n",
       "      <td>5.300000</td>\n",
       "      <td>6.103750</td>\n",
       "      <td>1387.000000</td>\n",
       "      <td>14561.311000</td>\n",
       "      <td>1288.000000</td>\n",
       "      <td>10151.400000</td>\n",
       "      <td>11875.800000</td>\n",
       "      <td>756.800000</td>\n",
       "      <td>1.034516</td>\n",
       "      <td>302.000000</td>\n",
       "      <td>627.000000</td>\n",
       "      <td>161.623000</td>\n",
       "    </tr>\n",
       "    <tr>\n",
       "      <th>75%</th>\n",
       "      <td>6.850000</td>\n",
       "      <td>537308.750000</td>\n",
       "      <td>6.500000</td>\n",
       "      <td>7.483750</td>\n",
       "      <td>1655.500000</td>\n",
       "      <td>19944.262000</td>\n",
       "      <td>1567.500000</td>\n",
       "      <td>12383.500000</td>\n",
       "      <td>13431.550000</td>\n",
       "      <td>1021.300000</td>\n",
       "      <td>2.400726</td>\n",
       "      <td>351.000000</td>\n",
       "      <td>940.000000</td>\n",
       "      <td>182.837000</td>\n",
       "    </tr>\n",
       "    <tr>\n",
       "      <th>max</th>\n",
       "      <td>14.700000</td>\n",
       "      <td>678562.000000</td>\n",
       "      <td>12.200000</td>\n",
       "      <td>10.477500</td>\n",
       "      <td>2263.000000</td>\n",
       "      <td>32303.090000</td>\n",
       "      <td>2273.000000</td>\n",
       "      <td>14880.500000</td>\n",
       "      <td>17287.100000</td>\n",
       "      <td>6413.700000</td>\n",
       "      <td>6.544516</td>\n",
       "      <td>570.000000</td>\n",
       "      <td>1389.000000</td>\n",
       "      <td>229.409000</td>\n",
       "    </tr>\n",
       "  </tbody>\n",
       "</table>\n",
       "</div>"
      ],
      "text/plain": [
       "            UNEMP          CONST  Months of Supply  Mortgage Rate  \\\n",
       "count  371.000000     250.000000        371.000000     372.000000   \n",
       "mean     5.912129  428859.360000          5.720216       6.068938   \n",
       "std      1.739832  122721.914363          1.751631       1.876129   \n",
       "min      3.500000  236512.000000          3.500000       2.684000   \n",
       "25%      4.600000  340081.750000          4.300000       4.292500   \n",
       "50%      5.500000  415920.000000          5.300000       6.103750   \n",
       "75%      6.850000  537308.750000          6.500000       7.483750   \n",
       "max     14.700000  678562.000000         12.200000      10.477500   \n",
       "\n",
       "       Permits-Number  Permits-Valuation  Housing Starts   Consumption  \\\n",
       "count      299.000000         371.000000      371.000000    251.000000   \n",
       "mean      1353.414716       15296.481571     1303.221024  10494.132271   \n",
       "std        439.988234        6388.851137      399.019413   2353.486378   \n",
       "min        513.000000        4096.211000      478.000000   6535.300000   \n",
       "25%       1047.500000        9681.043000     1053.500000   8606.700000   \n",
       "50%       1387.000000       14561.311000     1288.000000  10151.400000   \n",
       "75%       1655.500000       19944.262000     1567.500000  12383.500000   \n",
       "max       2263.000000       32303.090000     2273.000000  14880.500000   \n",
       "\n",
       "       Disposable Income      Savings  Fed Funds Rate  Homes for Sale  \\\n",
       "count         251.000000   251.000000      252.000000      251.000000   \n",
       "mean        12123.450996   818.369323        1.716926      310.019920   \n",
       "std          1712.412383   623.919634        1.898628      113.227398   \n",
       "min          9307.100000   202.200000        0.049000      142.000000   \n",
       "25%         10770.350000   432.150000        0.144833      217.500000   \n",
       "50%         11875.800000   756.800000        1.034516      302.000000   \n",
       "75%         13431.550000  1021.300000        2.400726      351.000000   \n",
       "max         17287.100000  6413.700000        6.544516      570.000000   \n",
       "\n",
       "        Homes Sold         HPI  \n",
       "count   251.000000  250.000000  \n",
       "mean    697.844622  161.092720  \n",
       "std     299.572702   30.094918  \n",
       "min     270.000000  100.552000  \n",
       "25%     438.000000  140.224250  \n",
       "50%     627.000000  161.623000  \n",
       "75%     940.000000  182.837000  \n",
       "max    1389.000000  229.409000  "
      ]
     },
     "execution_count": 8,
     "metadata": {},
     "output_type": "execute_result"
    }
   ],
   "source": [
    "df.describe(include = \"all\")"
   ]
  },
  {
   "cell_type": "markdown",
   "id": "0f47c28c",
   "metadata": {},
   "source": [
    "**From the above, we could infer that mean and median values of each columns are nearly equal so we can continue with the current columns.**"
   ]
  },
  {
   "cell_type": "markdown",
   "id": "70894e72",
   "metadata": {},
   "source": [
    "## We will visually explore the missing values in each column."
   ]
  },
  {
   "cell_type": "code",
   "execution_count": 9,
   "id": "a9a1936e",
   "metadata": {},
   "outputs": [
    {
     "data": {
      "text/plain": [
       "<AxesSubplot:>"
      ]
     },
     "execution_count": 9,
     "metadata": {},
     "output_type": "execute_result"
    },
    {
     "data": {
      "image/png": "[encoded data removed]",
      "text/plain": [
       "<Figure size 432x288 with 1 Axes>"
      ]
     },
     "metadata": {},
     "output_type": "display_data"
    }
   ],
   "source": [
    "sns.heatmap(df.isnull(),yticklabels = False,cbar= False,cmap =\"Accent\")"
   ]
  },
  {
   "cell_type": "markdown",
   "id": "d00c0a7d",
   "metadata": {},
   "source": [
    "**There are missing values in 'CONST','Permits-Number','Consumption','Disposable Income', 'Savings', 'Fed Funds Rate', 'Homes for Sale','Homes Sold', 'HPI' columns.**"
   ]
  },
  {
   "cell_type": "markdown",
   "id": "c03ede00",
   "metadata": {},
   "source": [
    "## We will treat missing values accordingly."
   ]
  },
  {
   "cell_type": "code",
   "execution_count": 10,
   "id": "86c41e68",
   "metadata": {},
   "outputs": [],
   "source": [
    "df[\"CONST\"].fillna(df[\"CONST\"].mean(),inplace = True)"
   ]
  },
  {
   "cell_type": "code",
   "execution_count": 11,
   "id": "0e2ba818",
   "metadata": {},
   "outputs": [],
   "source": [
    "df[\"Permits-Number\"].fillna(df[\"Permits-Number\"].mean(),inplace = True)"
   ]
  },
  {
   "cell_type": "code",
   "execution_count": 12,
   "id": "2fc333ca",
   "metadata": {},
   "outputs": [],
   "source": [
    "df[\"Consumption\"].fillna(df[\"Consumption\"].mean(),inplace = True)"
   ]
  },
  {
   "cell_type": "code",
   "execution_count": 13,
   "id": "fdcf6f4c",
   "metadata": {},
   "outputs": [],
   "source": [
    "df[\"Disposable Income\"].fillna(df[\"Disposable Income\"].mean(),inplace = True)"
   ]
  },
  {
   "cell_type": "code",
   "execution_count": 14,
   "id": "58cf5dec",
   "metadata": {},
   "outputs": [],
   "source": [
    "df[\"Savings\"].fillna(df[\"Savings\"].mean(),inplace = True)"
   ]
  },
  {
   "cell_type": "code",
   "execution_count": 15,
   "id": "3da3c6ca",
   "metadata": {},
   "outputs": [],
   "source": [
    "df[\"Fed Funds Rate\"].fillna(df[\"Fed Funds Rate\"].mean(),inplace = True)"
   ]
  },
  {
   "cell_type": "code",
   "execution_count": 16,
   "id": "cf895d3c",
   "metadata": {},
   "outputs": [],
   "source": [
    "df[\"Homes for Sale\"].fillna(df[\"Homes for Sale\"].mean(),inplace = True)"
   ]
  },
  {
   "cell_type": "code",
   "execution_count": 17,
   "id": "265af5bc",
   "metadata": {},
   "outputs": [],
   "source": [
    "df[\"Homes Sold\"].fillna(df[\"Homes Sold\"].mean(),inplace = True)"
   ]
  },
  {
   "cell_type": "code",
   "execution_count": 18,
   "id": "0fda64eb",
   "metadata": {},
   "outputs": [],
   "source": [
    "df[\"HPI\"].fillna(df[\"HPI\"].mean(),inplace = True)"
   ]
  },
  {
   "cell_type": "markdown",
   "id": "ed151510",
   "metadata": {},
   "source": [
    "**We've successfully filled the missing values of columns with fillna() command**"
   ]
  },
  {
   "cell_type": "markdown",
   "id": "68e79173",
   "metadata": {},
   "source": [
    "## Checking nan values for all columns based upon the error while training the data with for loop."
   ]
  },
  {
   "cell_type": "code",
   "execution_count": 19,
   "id": "97e4db39",
   "metadata": {},
   "outputs": [
    {
     "name": "stdout",
     "output_type": "stream",
     "text": [
      "UNEMP\n",
      "float64\n",
      "Months of Supply\n",
      "float64\n",
      "Mortgage Rate\n",
      "float64\n",
      "Permits-Valuation\n",
      "float64\n",
      "Housing Starts\n",
      "float64\n"
     ]
    }
   ],
   "source": [
    "for i in df.columns:\n",
    "    if df[i].hasnans:\n",
    "        print(i)\n",
    "        print(df[i].dtypes)"
   ]
  },
  {
   "cell_type": "markdown",
   "id": "ce17229d",
   "metadata": {},
   "source": [
    "**From the above we could infer that 'UNEMP','Months of Supply','Mortgage Rate','Permits-Valuation','Housing Starts' are the columns having NaN values.**"
   ]
  },
  {
   "cell_type": "markdown",
   "id": "dbfad324",
   "metadata": {},
   "source": [
    "## Replacing NaN values with '0'"
   ]
  },
  {
   "cell_type": "code",
   "execution_count": 20,
   "id": "9a5ec6ed",
   "metadata": {},
   "outputs": [],
   "source": [
    " df['UNEMP'] = df['UNEMP'].replace(np.nan, 0)"
   ]
  },
  {
   "cell_type": "code",
   "execution_count": 21,
   "id": "5a831897",
   "metadata": {},
   "outputs": [],
   "source": [
    " df['Months of Supply'] = df['Months of Supply'].replace(np.nan, 0)"
   ]
  },
  {
   "cell_type": "code",
   "execution_count": 22,
   "id": "0c57d2c0",
   "metadata": {},
   "outputs": [],
   "source": [
    " df['Mortgage Rate'] = df['Mortgage Rate'].replace(np.nan, 0)"
   ]
  },
  {
   "cell_type": "code",
   "execution_count": 23,
   "id": "44c4b866",
   "metadata": {},
   "outputs": [],
   "source": [
    " df['Permits-Valuation'] = df['Permits-Valuation'].replace(np.nan, 0)"
   ]
  },
  {
   "cell_type": "code",
   "execution_count": 24,
   "id": "d1e05d3f",
   "metadata": {},
   "outputs": [],
   "source": [
    " df['Housing Starts'] = df['Housing Starts'].replace(np.nan, 0)"
   ]
  },
  {
   "cell_type": "markdown",
   "id": "430f74be",
   "metadata": {},
   "source": [
    "**We've replaced NaN value with '0' instead of mean or median.**"
   ]
  },
  {
   "cell_type": "markdown",
   "id": "5f76ca2c",
   "metadata": {},
   "source": [
    "## Let's Build Linear Regression model"
   ]
  },
  {
   "cell_type": "markdown",
   "id": "b17f8489",
   "metadata": {},
   "source": [
    "## 1.Identifyting the Target variable"
   ]
  },
  {
   "cell_type": "markdown",
   "id": "803d6d33",
   "metadata": {},
   "source": [
    "**HPI is our target variable**"
   ]
  },
  {
   "cell_type": "markdown",
   "id": "1b227316",
   "metadata": {},
   "source": [
    "## 2. Separating Attribute(x) & Target(y)"
   ]
  },
  {
   "cell_type": "code",
   "execution_count": 25,
   "id": "f072efd0",
   "metadata": {},
   "outputs": [],
   "source": [
    "x = df.drop(\"HPI\",axis= 1) #declaring x variable\n",
    "y = df[\"HPI\"] # declaring y variable"
   ]
  },
  {
   "cell_type": "markdown",
   "id": "e2919020",
   "metadata": {},
   "source": [
    "## 3.Checking the shape of \"x\" & \"y\""
   ]
  },
  {
   "cell_type": "code",
   "execution_count": 26,
   "id": "a2f3b462",
   "metadata": {},
   "outputs": [
    {
     "name": "stdout",
     "output_type": "stream",
     "text": [
      "Shape of x is : (373, 13)\n",
      "Shape of y is : (373,)\n"
     ]
    }
   ],
   "source": [
    "print(\"Shape of x is :\" ,x.shape) #checking shape of x\n",
    "print(\"Shape of y is :\" ,y.shape) #checking shape of target variable"
   ]
  },
  {
   "cell_type": "markdown",
   "id": "94085817",
   "metadata": {},
   "source": [
    "## 4.Train_Test_Split"
   ]
  },
  {
   "cell_type": "code",
   "execution_count": 27,
   "id": "a360866b",
   "metadata": {},
   "outputs": [],
   "source": [
    "x_train,x_test,y_train,y_test=train_test_split(x,y,random_state = 5,test_size=0.2)"
   ]
  },
  {
   "cell_type": "markdown",
   "id": "1fcb0ffd",
   "metadata": {},
   "source": [
    "**Successfully fitted x & y in train test split with 80% train data & 20% test data.**"
   ]
  },
  {
   "cell_type": "markdown",
   "id": "8273e13f",
   "metadata": {},
   "source": [
    "## 5.Checking the shape of train & test"
   ]
  },
  {
   "cell_type": "code",
   "execution_count": 28,
   "id": "fa5757a0",
   "metadata": {},
   "outputs": [
    {
     "name": "stdout",
     "output_type": "stream",
     "text": [
      "Shape of x_train is :  (298, 13)\n",
      "Shape of x_test is :  (75, 13)\n",
      "Shape of y_train is :  (298,)\n",
      "Shape of y_test is :  (75,)\n"
     ]
    }
   ],
   "source": [
    "print(\"Shape of x_train is : \", x_train.shape)\n",
    "print(\"Shape of x_test is : \", x_test.shape)\n",
    "print(\"Shape of y_train is : \", y_train.shape)\n",
    "print(\"Shape of y_test is : \", y_test.shape)"
   ]
  },
  {
   "cell_type": "markdown",
   "id": "20201319",
   "metadata": {},
   "source": [
    "**We've confirmed 80:20 ratio of train & test.**"
   ]
  },
  {
   "cell_type": "markdown",
   "id": "21d6d5c4",
   "metadata": {},
   "source": [
    "## 6.Initializing the model"
   ]
  },
  {
   "cell_type": "code",
   "execution_count": 29,
   "id": "99839c0c",
   "metadata": {},
   "outputs": [],
   "source": [
    "home_lr = LinearRegression() #Instantiate the Linear Model"
   ]
  },
  {
   "cell_type": "markdown",
   "id": "7c6872bd",
   "metadata": {},
   "source": [
    "## 7.Fitting model with train values."
   ]
  },
  {
   "cell_type": "code",
   "execution_count": 30,
   "id": "0dc1cecc",
   "metadata": {},
   "outputs": [
    {
     "data": {
      "text/html": [
       "<style>#sk-container-id-1 {color: black;background-color: white;}#sk-container-id-1 pre{padding: 0;}#sk-container-id-1 div.sk-toggleable {background-color: white;}#sk-container-id-1 label.sk-toggleable__label {cursor: pointer;display: block;width: 100%;margin-bottom: 0;padding: 0.3em;box-sizing: border-box;text-align: center;}#sk-container-id-1 label.sk-toggleable__label-arrow:before {content: \"▸\";float: left;margin-right: 0.25em;color: #696969;}#sk-container-id-1 label.sk-toggleable__label-arrow:hover:before {color: black;}#sk-container-id-1 div.sk-estimator:hover label.sk-toggleable__label-arrow:before {color: black;}#sk-container-id-1 div.sk-toggleable__content {max-height: 0;max-width: 0;overflow: hidden;text-align: left;background-color: #f0f8ff;}#sk-container-id-1 div.sk-toggleable__content pre {margin: 0.2em;color: black;border-radius: 0.25em;background-color: #f0f8ff;}#sk-container-id-1 input.sk-toggleable__control:checked~div.sk-toggleable__content {max-height: 200px;max-width: 100%;overflow: auto;}#sk-container-id-1 input.sk-toggleable__control:checked~label.sk-toggleable__label-arrow:before {content: \"▾\";}#sk-container-id-1 div.sk-estimator input.sk-toggleable__control:checked~label.sk-toggleable__label {background-color: #d4ebff;}#sk-container-id-1 div.sk-label input.sk-toggleable__control:checked~label.sk-toggleable__label {background-color: #d4ebff;}#sk-container-id-1 input.sk-hidden--visually {border: 0;clip: rect(1px 1px 1px 1px);clip: rect(1px, 1px, 1px, 1px);height: 1px;margin: -1px;overflow: hidden;padding: 0;position: absolute;width: 1px;}#sk-container-id-1 div.sk-estimator {font-family: monospace;background-color: #f0f8ff;border: 1px dotted black;border-radius: 0.25em;box-sizing: border-box;margin-bottom: 0.5em;}#sk-container-id-1 div.sk-estimator:hover {background-color: #d4ebff;}#sk-container-id-1 div.sk-parallel-item::after {content: \"\";width: 100%;border-bottom: 1px solid gray;flex-grow: 1;}#sk-container-id-1 div.sk-label:hover label.sk-toggleable__label {background-color: #d4ebff;}#sk-container-id-1 div.sk-serial::before {content: \"\";position: absolute;border-left: 1px solid gray;box-sizing: border-box;top: 0;bottom: 0;left: 50%;z-index: 0;}#sk-container-id-1 div.sk-serial {display: flex;flex-direction: column;align-items: center;background-color: white;padding-right: 0.2em;padding-left: 0.2em;position: relative;}#sk-container-id-1 div.sk-item {position: relative;z-index: 1;}#sk-container-id-1 div.sk-parallel {display: flex;align-items: stretch;justify-content: center;background-color: white;position: relative;}#sk-container-id-1 div.sk-item::before, #sk-container-id-1 div.sk-parallel-item::before {content: \"\";position: absolute;border-left: 1px solid gray;box-sizing: border-box;top: 0;bottom: 0;left: 50%;z-index: -1;}#sk-container-id-1 div.sk-parallel-item {display: flex;flex-direction: column;z-index: 1;position: relative;background-color: white;}#sk-container-id-1 div.sk-parallel-item:first-child::after {align-self: flex-end;width: 50%;}#sk-container-id-1 div.sk-parallel-item:last-child::after {align-self: flex-start;width: 50%;}#sk-container-id-1 div.sk-parallel-item:only-child::after {width: 0;}#sk-container-id-1 div.sk-dashed-wrapped {border: 1px dashed gray;margin: 0 0.4em 0.5em 0.4em;box-sizing: border-box;padding-bottom: 0.4em;background-color: white;}#sk-container-id-1 div.sk-label label {font-family: monospace;font-weight: bold;display: inline-block;line-height: 1.2em;}#sk-container-id-1 div.sk-label-container {text-align: center;}#sk-container-id-1 div.sk-container {/* jupyter's `normalize.less` sets `[hidden] { display: none; }` but bootstrap.min.css set `[hidden] { display: none !important; }` so we also need the `!important` here to be able to override the default hidden behavior on the sphinx rendered scikit-learn.org. See: https://github.com/scikit-learn/scikit-learn/issues/21755 */display: inline-block !important;position: relative;}#sk-container-id-1 div.sk-text-repr-fallback {display: none;}</style><div id=\"sk-container-id-1\" class=\"sk-top-container\"><div class=\"sk-text-repr-fallback\"><pre>LinearRegression()</pre><b>In a Jupyter environment, please rerun this cell to show the HTML representation or trust the notebook. <br />On GitHub, the HTML representation is unable to render, please try loading this page with nbviewer.org.</b></div><div class=\"sk-container\" hidden><div class=\"sk-item\"><div class=\"sk-estimator sk-toggleable\"><input class=\"sk-toggleable__control sk-hidden--visually\" id=\"sk-estimator-id-1\" type=\"checkbox\" checked><label for=\"sk-estimator-id-1\" class=\"sk-toggleable__label sk-toggleable__label-arrow\">LinearRegression</label><div class=\"sk-toggleable__content\"><pre>LinearRegression()</pre></div></div></div></div></div>"
      ],
      "text/plain": [
       "LinearRegression()"
      ]
     },
     "execution_count": 30,
     "metadata": {},
     "output_type": "execute_result"
    }
   ],
   "source": [
    "home_lr.fit(x_train,y_train)"
   ]
  },
  {
   "cell_type": "markdown",
   "id": "e2a177a7",
   "metadata": {},
   "source": [
    "**Successfully fitted train & test data of both attribute & target variables in Linear Model**"
   ]
  },
  {
   "cell_type": "markdown",
   "id": "f4815c7d",
   "metadata": {},
   "source": [
    "## 8.Predicting the values"
   ]
  },
  {
   "cell_type": "code",
   "execution_count": 31,
   "id": "6776a9b9",
   "metadata": {},
   "outputs": [],
   "source": [
    "y_pred_test =home_lr.predict(x_test) #declaring target predictable variable"
   ]
  },
  {
   "cell_type": "code",
   "execution_count": 32,
   "id": "9782bf50",
   "metadata": {},
   "outputs": [
    {
     "data": {
      "text/html": [
       "<div>\n",
       "<style scoped>\n",
       "    .dataframe tbody tr th:only-of-type {\n",
       "        vertical-align: middle;\n",
       "    }\n",
       "\n",
       "    .dataframe tbody tr th {\n",
       "        vertical-align: top;\n",
       "    }\n",
       "\n",
       "    .dataframe thead th {\n",
       "        text-align: right;\n",
       "    }\n",
       "</style>\n",
       "<table border=\"1\" class=\"dataframe\">\n",
       "  <thead>\n",
       "    <tr style=\"text-align: right;\">\n",
       "      <th></th>\n",
       "      <th>Actual Values</th>\n",
       "      <th>Model Predictions</th>\n",
       "    </tr>\n",
       "  </thead>\n",
       "  <tbody>\n",
       "    <tr>\n",
       "      <th>89</th>\n",
       "      <td>161.09272</td>\n",
       "      <td>159.977151</td>\n",
       "    </tr>\n",
       "    <tr>\n",
       "      <th>47</th>\n",
       "      <td>161.09272</td>\n",
       "      <td>162.531425</td>\n",
       "    </tr>\n",
       "    <tr>\n",
       "      <th>326</th>\n",
       "      <td>187.39500</td>\n",
       "      <td>189.771462</td>\n",
       "    </tr>\n",
       "    <tr>\n",
       "      <th>108</th>\n",
       "      <td>161.09272</td>\n",
       "      <td>159.393981</td>\n",
       "    </tr>\n",
       "    <tr>\n",
       "      <th>291</th>\n",
       "      <td>163.10200</td>\n",
       "      <td>160.127720</td>\n",
       "    </tr>\n",
       "    <tr>\n",
       "      <th>...</th>\n",
       "      <td>...</td>\n",
       "      <td>...</td>\n",
       "    </tr>\n",
       "    <tr>\n",
       "      <th>286</th>\n",
       "      <td>159.24500</td>\n",
       "      <td>156.949455</td>\n",
       "    </tr>\n",
       "    <tr>\n",
       "      <th>56</th>\n",
       "      <td>161.09272</td>\n",
       "      <td>160.713077</td>\n",
       "    </tr>\n",
       "    <tr>\n",
       "      <th>230</th>\n",
       "      <td>150.01200</td>\n",
       "      <td>150.643593</td>\n",
       "    </tr>\n",
       "    <tr>\n",
       "      <th>300</th>\n",
       "      <td>168.07500</td>\n",
       "      <td>166.655602</td>\n",
       "    </tr>\n",
       "    <tr>\n",
       "      <th>369</th>\n",
       "      <td>225.60300</td>\n",
       "      <td>221.326404</td>\n",
       "    </tr>\n",
       "  </tbody>\n",
       "</table>\n",
       "<p>75 rows × 2 columns</p>\n",
       "</div>"
      ],
      "text/plain": [
       "     Actual Values  Model Predictions\n",
       "89       161.09272         159.977151\n",
       "47       161.09272         162.531425\n",
       "326      187.39500         189.771462\n",
       "108      161.09272         159.393981\n",
       "291      163.10200         160.127720\n",
       "..             ...                ...\n",
       "286      159.24500         156.949455\n",
       "56       161.09272         160.713077\n",
       "230      150.01200         150.643593\n",
       "300      168.07500         166.655602\n",
       "369      225.60300         221.326404\n",
       "\n",
       "[75 rows x 2 columns]"
      ]
     },
     "execution_count": 32,
     "metadata": {},
     "output_type": "execute_result"
    }
   ],
   "source": [
    "pd.DataFrame({\"Actual Values\": y_test , \"Model Predictions\": y_pred_test})"
   ]
  },
  {
   "cell_type": "markdown",
   "id": "d9f3fcae",
   "metadata": {},
   "source": [
    "**Fitted Actual test value & predicted test values by Linear model in Data Frame & observing it by column vise.**"
   ]
  },
  {
   "cell_type": "markdown",
   "id": "0b1861c3",
   "metadata": {},
   "source": [
    "## Let's Visualize Test data."
   ]
  },
  {
   "cell_type": "code",
   "execution_count": 33,
   "id": "ec15d092",
   "metadata": {},
   "outputs": [
    {
     "data": {
      "image/png": "[encoded data removed]",
      "text/plain": [
       "<Figure size 432x288 with 1 Axes>"
      ]
     },
     "metadata": {},
     "output_type": "display_data"
    }
   ],
   "source": [
    "plt.plot(y_test,y_pred_test,color =\"g\",linewidth = 3,linestyle=\"--\",marker ='*',alpha = 0.6)\n",
    "plt.xlabel(\"Actual Test Value\")\n",
    "plt.ylabel(\"Predicted Test Value\")\n",
    "plt.title(\"Distribution of Test Data\")\n",
    "plt.grid(True)\n",
    "plt.show();"
   ]
  },
  {
   "cell_type": "markdown",
   "id": "8eb81939",
   "metadata": {},
   "source": [
    "**From the above,we could infer that there is only one outlier which does not impact models performance to that extend so i've kept it as is. Model is well distributed along the linear line & is ideal for House price prediction**"
   ]
  },
  {
   "cell_type": "code",
   "execution_count": 34,
   "id": "363bb13b",
   "metadata": {},
   "outputs": [],
   "source": [
    "y_pred_train = home_lr.predict(x_train) #declaring target predictable variable"
   ]
  },
  {
   "cell_type": "code",
   "execution_count": 35,
   "id": "5c005bbb",
   "metadata": {},
   "outputs": [
    {
     "data": {
      "text/html": [
       "<div>\n",
       "<style scoped>\n",
       "    .dataframe tbody tr th:only-of-type {\n",
       "        vertical-align: middle;\n",
       "    }\n",
       "\n",
       "    .dataframe tbody tr th {\n",
       "        vertical-align: top;\n",
       "    }\n",
       "\n",
       "    .dataframe thead th {\n",
       "        text-align: right;\n",
       "    }\n",
       "</style>\n",
       "<table border=\"1\" class=\"dataframe\">\n",
       "  <thead>\n",
       "    <tr style=\"text-align: right;\">\n",
       "      <th></th>\n",
       "      <th>Actual Values</th>\n",
       "      <th>Model Predictions</th>\n",
       "    </tr>\n",
       "  </thead>\n",
       "  <tbody>\n",
       "    <tr>\n",
       "      <th>168</th>\n",
       "      <td>140.18000</td>\n",
       "      <td>144.200526</td>\n",
       "    </tr>\n",
       "    <tr>\n",
       "      <th>252</th>\n",
       "      <td>142.06100</td>\n",
       "      <td>139.932508</td>\n",
       "    </tr>\n",
       "    <tr>\n",
       "      <th>312</th>\n",
       "      <td>176.58700</td>\n",
       "      <td>174.940653</td>\n",
       "    </tr>\n",
       "    <tr>\n",
       "      <th>107</th>\n",
       "      <td>161.09272</td>\n",
       "      <td>159.698270</td>\n",
       "    </tr>\n",
       "    <tr>\n",
       "      <th>288</th>\n",
       "      <td>160.99900</td>\n",
       "      <td>158.069357</td>\n",
       "    </tr>\n",
       "    <tr>\n",
       "      <th>...</th>\n",
       "      <td>...</td>\n",
       "      <td>...</td>\n",
       "    </tr>\n",
       "    <tr>\n",
       "      <th>73</th>\n",
       "      <td>161.09272</td>\n",
       "      <td>160.246240</td>\n",
       "    </tr>\n",
       "    <tr>\n",
       "      <th>118</th>\n",
       "      <td>161.09272</td>\n",
       "      <td>158.813075</td>\n",
       "    </tr>\n",
       "    <tr>\n",
       "      <th>189</th>\n",
       "      <td>176.43700</td>\n",
       "      <td>175.155157</td>\n",
       "    </tr>\n",
       "    <tr>\n",
       "      <th>206</th>\n",
       "      <td>184.59900</td>\n",
       "      <td>179.812891</td>\n",
       "    </tr>\n",
       "    <tr>\n",
       "      <th>355</th>\n",
       "      <td>209.43500</td>\n",
       "      <td>211.199474</td>\n",
       "    </tr>\n",
       "  </tbody>\n",
       "</table>\n",
       "<p>298 rows × 2 columns</p>\n",
       "</div>"
      ],
      "text/plain": [
       "     Actual Values  Model Predictions\n",
       "168      140.18000         144.200526\n",
       "252      142.06100         139.932508\n",
       "312      176.58700         174.940653\n",
       "107      161.09272         159.698270\n",
       "288      160.99900         158.069357\n",
       "..             ...                ...\n",
       "73       161.09272         160.246240\n",
       "118      161.09272         158.813075\n",
       "189      176.43700         175.155157\n",
       "206      184.59900         179.812891\n",
       "355      209.43500         211.199474\n",
       "\n",
       "[298 rows x 2 columns]"
      ]
     },
     "execution_count": 35,
     "metadata": {},
     "output_type": "execute_result"
    }
   ],
   "source": [
    "pd.DataFrame({\"Actual Values\": y_train , \"Model Predictions\": y_pred_train})"
   ]
  },
  {
   "cell_type": "markdown",
   "id": "f66c34d4",
   "metadata": {},
   "source": [
    "**Fitted Actual train value & predicted train values by Linear model in Data Frame & observing it by column vise.**"
   ]
  },
  {
   "cell_type": "markdown",
   "id": "cdeb0628",
   "metadata": {},
   "source": [
    "## Let's visualize Train Data"
   ]
  },
  {
   "cell_type": "code",
   "execution_count": 36,
   "id": "423c6c8c",
   "metadata": {},
   "outputs": [
    {
     "data": {
      "image/png": "[encoded data removed]",
      "text/plain": [
       "<Figure size 432x288 with 1 Axes>"
      ]
     },
     "metadata": {},
     "output_type": "display_data"
    }
   ],
   "source": [
    "plt.plot(y_train,y_pred_train,color =\"m\",linewidth = 3,linestyle=\"-\",alpha = 0.5,marker = \"+\")\n",
    "plt.xlabel(\"Actual Train Value\")\n",
    "plt.ylabel(\"Predicted Train Value\")\n",
    "plt.title(\"Distribution of Train Data\")\n",
    "plt.grid(True)\n",
    "plt.show();"
   ]
  },
  {
   "cell_type": "markdown",
   "id": "b25b1f3c",
   "metadata": {},
   "source": [
    "**From the above,we could infer that Model is well distributed along the linear line & is ideal for House price prediction**"
   ]
  },
  {
   "cell_type": "markdown",
   "id": "c888fd75",
   "metadata": {},
   "source": [
    "## Visualize Train & Test Data Together with Scatter plot"
   ]
  },
  {
   "cell_type": "code",
   "execution_count": 37,
   "id": "4a312d83",
   "metadata": {},
   "outputs": [
    {
     "data": {
      "image/png": "[encoded data removed]",
      "text/plain": [
       "<Figure size 720x360 with 1 Axes>"
      ]
     },
     "metadata": {},
     "output_type": "display_data"
    }
   ],
   "source": [
    "plt.figure(figsize=(10,5)) # use to vary size of the graph..\n",
    "plt.scatter(y_train,y_pred_train,color ='y',alpha = 0.6,label = \"Predicted train values\")\n",
    "plt.scatter(y_test,y_pred_test,color=\"r\",alpha = 0.6,label= \"Predicted test values\")\n",
    "plt.xlabel(\"Actual Train-Test Values\")\n",
    "plt.ylabel(\"Predicted Train-Test Values\")\n",
    "plt.title(\"Distribustion of Train-Test Data\")\n",
    "plt.legend(loc =\"lower right\")\n",
    "plt.grid(True)\n",
    "plt.show();"
   ]
  },
  {
   "cell_type": "markdown",
   "id": "0d046a9b",
   "metadata": {},
   "source": [
    "**We have visualized the data points of Train & Test data together and are well distributed as seen above.** "
   ]
  },
  {
   "cell_type": "markdown",
   "id": "cf21180d",
   "metadata": {},
   "source": [
    "## Finally some model evaluation with Mathematics"
   ]
  },
  {
   "cell_type": "code",
   "execution_count": 38,
   "id": "ab10ea13",
   "metadata": {},
   "outputs": [
    {
     "name": "stdout",
     "output_type": "stream",
     "text": [
      "The RMSE value of testing dataset is\n",
      "5.792319988239393\n"
     ]
    }
   ],
   "source": [
    "print(\"The RMSE value of testing dataset is\")\n",
    "print(np.sqrt(mean_squared_error(y_test ,y_pred_test))) # actual values,predictions"
   ]
  },
  {
   "cell_type": "markdown",
   "id": "e73907c2",
   "metadata": {},
   "source": [
    "## Test RMSE of 5.79 means prices may varies +- 5.79 e.g if price is INR 100 Model will either predict 105.79 or 94.21 and that is permissible."
   ]
  },
  {
   "cell_type": "code",
   "execution_count": 39,
   "id": "fff2037d",
   "metadata": {},
   "outputs": [
    {
     "name": "stdout",
     "output_type": "stream",
     "text": [
      "The RMSE value of training dataset is\n",
      "2.285943145154491\n"
     ]
    }
   ],
   "source": [
    "print(\"The RMSE value of training dataset is\")\n",
    "print(np.sqrt(mean_squared_error(y_train ,y_pred_train))) # actual values,predictions"
   ]
  },
  {
   "cell_type": "markdown",
   "id": "a52d535e",
   "metadata": {},
   "source": [
    "## Train RMSE of 2.28 means prices may varies +- 2.28 e.g if price is INR 100 Model will either predict 102.28 or 97.72 and that is permissible."
   ]
  },
  {
   "cell_type": "code",
   "execution_count": 40,
   "id": "13ad0457",
   "metadata": {},
   "outputs": [],
   "source": [
    "r2 =r2_score(y_test,y_pred_test)"
   ]
  },
  {
   "cell_type": "code",
   "execution_count": 41,
   "id": "d3d29d8f",
   "metadata": {},
   "outputs": [
    {
     "data": {
      "text/plain": [
       "0.9423079267092134"
      ]
     },
     "execution_count": 41,
     "metadata": {},
     "output_type": "execute_result"
    }
   ],
   "source": [
    "r2"
   ]
  },
  {
   "cell_type": "code",
   "execution_count": 42,
   "id": "e1dc9f43",
   "metadata": {},
   "outputs": [
    {
     "data": {
      "text/plain": [
       "0.9913803199245492"
      ]
     },
     "execution_count": 42,
     "metadata": {},
     "output_type": "execute_result"
    }
   ],
   "source": [
    "r2 =r2_score(y_train,y_pred_train)\n",
    "r2"
   ]
  },
  {
   "cell_type": "markdown",
   "id": "ea26da83",
   "metadata": {},
   "source": [
    "**Both r2_score are close to 1 which is characteristics of generalised model**\n",
    "\n",
    "**0 - Worst Model**\n",
    "\n",
    "**1 - Best Model**"
   ]
  },
  {
   "cell_type": "markdown",
   "id": "e21aa0f0",
   "metadata": {},
   "source": [
    "**We have identified 3 factors which are responsible for US Home prices**\n",
    "\n",
    "**Demand Factors - Unemployment, Mortgage rate, Months of supply, Home starts, construction, Savings, Disposable income**\n",
    "\n",
    "**Supply factors - Home for sale, Home sold, consumption, permits-valuation, Permits-Number**\n",
    "\n",
    "**National Factor - Fed Funds rate & Unemployment**\n"
   ]
  },
  {
   "cell_type": "markdown",
   "id": "1950ded9",
   "metadata": {},
   "source": [
    "## End of US House price prediction of Linear Model."
   ]
  },
  {
   "cell_type": "code",
   "execution_count": null,
   "id": "e711903b",
   "metadata": {},
   "outputs": [],
   "source": []
  }
 ],
 "metadata": {
  "kernelspec": {
   "display_name": "Python 3 (ipykernel)",
   "language": "python",
   "name": "python3"
  },
  "language_info": {
   "codemirror_mode": {
    "name": "ipython",
    "version": 3
   },
   "file_extension": ".py",
   "mimetype": "text/x-python",
   "name": "python",
   "nbconvert_exporter": "python",
   "pygments_lexer": "ipython3",
   "version": "3.9.7"
  }
 },
 "nbformat": 4,
 "nbformat_minor": 5
}
