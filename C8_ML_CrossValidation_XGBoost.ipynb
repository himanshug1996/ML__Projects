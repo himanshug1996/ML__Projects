{
 "cells": [
  {
   "cell_type": "code",
   "execution_count": 1,
   "id": "0390c987",
   "metadata": {},
   "outputs": [],
   "source": [
    "from sklearn.datasets import load_iris\n",
    "\n",
    "iris_bunch =load_iris()"
   ]
  },
  {
   "cell_type": "code",
   "execution_count": 2,
   "id": "7b333ce8",
   "metadata": {},
   "outputs": [],
   "source": [
    "X = iris_bunch.data\n",
    "\n",
    "y = iris_bunch.target"
   ]
  },
  {
   "cell_type": "code",
   "execution_count": 3,
   "id": "9c9932e5",
   "metadata": {},
   "outputs": [],
   "source": [
    "from sklearn.neighbors import KNeighborsClassifier\n",
    "\n"
   ]
  },
  {
   "cell_type": "code",
   "execution_count": 4,
   "id": "1e3bb27c",
   "metadata": {},
   "outputs": [],
   "source": [
    "knn = KNeighborsClassifier(n_neighbors = 4)"
   ]
  },
  {
   "cell_type": "code",
   "execution_count": 5,
   "id": "cf59a1b4",
   "metadata": {},
   "outputs": [],
   "source": [
    "from sklearn.model_selection import cross_val_score"
   ]
  },
  {
   "cell_type": "code",
   "execution_count": 6,
   "id": "a781c3cf",
   "metadata": {},
   "outputs": [
    {
     "data": {
      "text/plain": [
       "0.9666666666666666"
      ]
     },
     "execution_count": 6,
     "metadata": {},
     "output_type": "execute_result"
    }
   ],
   "source": [
    "cross_val_score(knn ,X , y , cv = 10 ,scoring = \"accuracy\").mean() # cv =10 means 10 iterations."
   ]
  },
  {
   "cell_type": "markdown",
   "id": "de60e82b",
   "metadata": {},
   "source": [
    "### XGBoost Method 1"
   ]
  },
  {
   "cell_type": "code",
   "execution_count": 7,
   "id": "df777bcd",
   "metadata": {},
   "outputs": [],
   "source": [
    "from sklearn.model_selection import train_test_split\n",
    "\n",
    "X_train,X_test,y_train,y_test = train_test_split(X,y,test_size =0.2,random_state =21) "
   ]
  },
  {
   "cell_type": "code",
   "execution_count": 8,
   "id": "1853ffe5",
   "metadata": {},
   "outputs": [],
   "source": [
    "import xgboost as xgb\n"
   ]
  },
  {
   "cell_type": "markdown",
   "id": "5be5337c",
   "metadata": {},
   "source": [
    "!pip install xgboost ---> to install xgboost"
   ]
  },
  {
   "cell_type": "code",
   "execution_count": 9,
   "id": "cf6e52a9",
   "metadata": {},
   "outputs": [],
   "source": [
    "# xgb is sparse aware dataset,it automatically handles all missing values.\n",
    "\n",
    "# xgb for regression(to enhance accuracy in prediction & reduce multicoliniarity also supports l1 & l2 regularization) and classification.\n",
    "\n"
   ]
  },
  {
   "cell_type": "code",
   "execution_count": 10,
   "id": "adf03a23",
   "metadata": {},
   "outputs": [],
   "source": [
    "# for efficient use of the xgboost model,we are planning to convert our dataset to the Dmatrix format\n",
    "# Dmatrix is a data structure that is unique to the xgboost algorithm.\n",
    "\n",
    "D_train = xgb.DMatrix(X_train,label =y_train)\n",
    "D_test = xgb.DMatrix(X_test)"
   ]
  },
  {
   "cell_type": "code",
   "execution_count": 11,
   "id": "bfc1e3c0",
   "metadata": {},
   "outputs": [],
   "source": [
    "# Let's initialize the parameters.\n",
    "\n",
    "param = {\"eta\":0.2,\"max_depth\":4,\"objectives\":\"multi:softmax\",\"num_class\": 3}"
   ]
  },
  {
   "cell_type": "code",
   "execution_count": 12,
   "id": "dfa2aa48",
   "metadata": {},
   "outputs": [
    {
     "name": "stdout",
     "output_type": "stream",
     "text": [
      "[17:06:36] WARNING: C:/Users/Administrator/workspace/xgboost-win64_release_1.5.1/src/learner.cc:576: \n",
      "Parameters: { \"objectives\" } might not be used.\n",
      "\n",
      "  This could be a false alarm, with some parameters getting used by language bindings but\n",
      "  then being mistakenly passed down to XGBoost core, or some parameter actually being used\n",
      "  but getting flagged wrongly here. Please open an issue if you find any such cases.\n",
      "\n",
      "\n",
      "[17:06:36] WARNING: C:/Users/Administrator/workspace/xgboost-win64_release_1.5.1/src/learner.cc:1115: Starting in XGBoost 1.3.0, the default evaluation metric used with the objective 'multi:softmax' was changed from 'merror' to 'mlogloss'. Explicitly set eval_metric if you'd like to restore the old behavior.\n"
     ]
    }
   ],
   "source": [
    "xgb_model = xgb.train( param, D_train, 20) # 20--> step size and it specifies the number of iterations within which the optimal model is supposed to be identified."
   ]
  },
  {
   "cell_type": "code",
   "execution_count": 13,
   "id": "f49aabca",
   "metadata": {},
   "outputs": [],
   "source": [
    "y_test_pred_xgb = xgb_model.predict(D_test)"
   ]
  },
  {
   "cell_type": "code",
   "execution_count": 14,
   "id": "a4136d30",
   "metadata": {},
   "outputs": [
    {
     "name": "stdout",
     "output_type": "stream",
     "text": [
      "The testing accuracy of the xgb model is :\n",
      "0.9333333333333333\n"
     ]
    }
   ],
   "source": [
    "from sklearn.metrics import accuracy_score\n",
    "\n",
    "print(\"The testing accuracy of the xgb model is :\")\n",
    "\n",
    "print(accuracy_score(y_test,y_test_pred_xgb))\n",
    "# Try changing the eta parameter.."
   ]
  },
  {
   "cell_type": "markdown",
   "id": "900d9c7c",
   "metadata": {},
   "source": [
    "## METHOD 2"
   ]
  },
  {
   "cell_type": "code",
   "execution_count": 15,
   "id": "60bf83a3",
   "metadata": {},
   "outputs": [],
   "source": [
    "from xgboost.sklearn import XGBClassifier"
   ]
  },
  {
   "cell_type": "markdown",
   "id": "31f689fc",
   "metadata": {},
   "source": [
    "if you do this then you do not need to use D_matrix method."
   ]
  },
  {
   "cell_type": "code",
   "execution_count": 16,
   "id": "8ad97ed0",
   "metadata": {},
   "outputs": [],
   "source": [
    "xgb_clf_model = XGBClassifier(objective = \"multi:softmax\",num_class =3)"
   ]
  },
  {
   "cell_type": "code",
   "execution_count": 17,
   "id": "5f105ac1",
   "metadata": {
    "scrolled": true
   },
   "outputs": [
    {
     "name": "stdout",
     "output_type": "stream",
     "text": [
      "[17:06:36] WARNING: C:/Users/Administrator/workspace/xgboost-win64_release_1.5.1/src/learner.cc:1115: Starting in XGBoost 1.3.0, the default evaluation metric used with the objective 'multi:softprob' was changed from 'merror' to 'mlogloss'. Explicitly set eval_metric if you'd like to restore the old behavior.\n"
     ]
    },
    {
     "name": "stderr",
     "output_type": "stream",
     "text": [
      "C:\\Users\\HP\\anaconda3\\lib\\site-packages\\xgboost\\sklearn.py:1224: UserWarning: The use of label encoder in XGBClassifier is deprecated and will be removed in a future release. To remove this warning, do the following: 1) Pass option use_label_encoder=False when constructing XGBClassifier object; and 2) Encode your labels (y) as integers starting with 0, i.e. 0, 1, 2, ..., [num_class - 1].\n",
      "  warnings.warn(label_encoder_deprecation_msg, UserWarning)\n"
     ]
    },
    {
     "data": {
      "text/plain": [
       "XGBClassifier(base_score=0.5, booster='gbtree', colsample_bylevel=1,\n",
       "              colsample_bynode=1, colsample_bytree=1, enable_categorical=False,\n",
       "              gamma=0, gpu_id=-1, importance_type=None,\n",
       "              interaction_constraints='', learning_rate=0.300000012,\n",
       "              max_delta_step=0, max_depth=6, min_child_weight=1, missing=nan,\n",
       "              monotone_constraints='()', n_estimators=100, n_jobs=4,\n",
       "              num_class=3, num_parallel_tree=1, objective='multi:softprob',\n",
       "              predictor='auto', random_state=0, reg_alpha=0, reg_lambda=1,\n",
       "              scale_pos_weight=None, subsample=1, tree_method='exact',\n",
       "              validate_parameters=1, verbosity=None)"
      ]
     },
     "execution_count": 17,
     "metadata": {},
     "output_type": "execute_result"
    }
   ],
   "source": [
    "xgb_clf_model.fit(X_train,y_train)"
   ]
  },
  {
   "cell_type": "code",
   "execution_count": 18,
   "id": "9c3e5e59",
   "metadata": {},
   "outputs": [],
   "source": [
    "y_pred_test2 = xgb_clf_model.predict(X_test)"
   ]
  },
  {
   "cell_type": "code",
   "execution_count": 19,
   "id": "111bee02",
   "metadata": {},
   "outputs": [
    {
     "name": "stdout",
     "output_type": "stream",
     "text": [
      "The testing accuracy of the xgb clf model is :\n",
      "0.9333333333333333\n"
     ]
    }
   ],
   "source": [
    "print(\"The testing accuracy of the xgb clf model is :\")\n",
    "\n",
    "print(accuracy_score(y_test,y_pred_test2))\n"
   ]
  },
  {
   "cell_type": "markdown",
   "id": "5406257f",
   "metadata": {},
   "source": [
    "# End of Section"
   ]
  },
  {
   "cell_type": "code",
   "execution_count": null,
   "id": "7b70c4ea",
   "metadata": {},
   "outputs": [],
   "source": []
  },
  {
   "cell_type": "code",
   "execution_count": null,
   "id": "24fd95f4",
   "metadata": {},
   "outputs": [],
   "source": []
  }
 ],
 "metadata": {
  "kernelspec": {
   "display_name": "Python 3 (ipykernel)",
   "language": "python",
   "name": "python3"
  },
  "language_info": {
   "codemirror_mode": {
    "name": "ipython",
    "version": 3
   },
   "file_extension": ".py",
   "mimetype": "text/x-python",
   "name": "python",
   "nbconvert_exporter": "python",
   "pygments_lexer": "ipython3",
   "version": "3.9.7"
  }
 },
 "nbformat": 4,
 "nbformat_minor": 5
}
