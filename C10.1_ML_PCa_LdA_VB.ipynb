{
 "cells": [
  {
   "cell_type": "code",
   "execution_count": 1,
   "id": "7d07fd3f",
   "metadata": {},
   "outputs": [],
   "source": [
    "from sklearn.datasets import load_iris\n",
    "iris_bunch = load_iris()"
   ]
  },
  {
   "cell_type": "code",
   "execution_count": 2,
   "id": "2bb1d638",
   "metadata": {},
   "outputs": [],
   "source": [
    "X = iris_bunch.data\n",
    "\n",
    "y = iris_bunch.target"
   ]
  },
  {
   "cell_type": "code",
   "execution_count": 3,
   "id": "a4e643d2",
   "metadata": {},
   "outputs": [],
   "source": [
    "from sklearn.model_selection import train_test_split\n",
    "\n",
    "X_train, X_test, y_train, y_test = train_test_split(X, y ,random_state = 5, test_size = 0.25) "
   ]
  },
  {
   "cell_type": "markdown",
   "id": "22c8dfc9",
   "metadata": {},
   "source": [
    "# Normalising The Data."
   ]
  },
  {
   "cell_type": "code",
   "execution_count": 4,
   "id": "20037eac",
   "metadata": {},
   "outputs": [],
   "source": [
    "from sklearn.preprocessing import StandardScaler \n",
    "\n",
    "sc = StandardScaler()\n",
    "\n",
    "X_train = sc.fit_transform(X_train)\n",
    "X_test = sc.fit_transform(X_test)"
   ]
  },
  {
   "cell_type": "markdown",
   "id": "6ffd2e03",
   "metadata": {},
   "source": [
    "# Implimenting PCA"
   ]
  },
  {
   "cell_type": "code",
   "execution_count": 5,
   "id": "db27bdd9",
   "metadata": {},
   "outputs": [],
   "source": [
    "from sklearn.decomposition import PCA\n",
    "\n",
    "pca_obj = PCA()"
   ]
  },
  {
   "cell_type": "code",
   "execution_count": 6,
   "id": "d1bf80e0",
   "metadata": {},
   "outputs": [],
   "source": [
    "X_train_pca = pca_obj.fit_transform(X_train)\n",
    "X_test_pca = pca_obj.fit_transform(X_test)"
   ]
  },
  {
   "cell_type": "code",
   "execution_count": 7,
   "id": "5b41cb3f",
   "metadata": {},
   "outputs": [
    {
     "data": {
      "text/plain": [
       "array([0.73744719, 0.21241944, 0.04465979, 0.00547358])"
      ]
     },
     "execution_count": 7,
     "metadata": {},
     "output_type": "execute_result"
    }
   ],
   "source": [
    "pca_obj.explained_variance_ratio_"
   ]
  },
  {
   "cell_type": "code",
   "execution_count": 8,
   "id": "29787df7",
   "metadata": {},
   "outputs": [
    {
     "name": "stdout",
     "output_type": "stream",
     "text": [
      "[0.73744719 0.21241944 0.04465979 0.00547358]\n"
     ]
    }
   ],
   "source": [
    "print(pca_obj.explained_variance_ratio_)"
   ]
  },
  {
   "cell_type": "markdown",
   "id": "f7fa5404",
   "metadata": {},
   "source": [
    " 0.7374 or **73.74 %** of variance is explained by **first principal component**\n",
    "    \n",
    " 0.21241944   or **21.24%** of variance is explained by **Second principal component**\n",
    "    \n",
    " 0.04465 or **4.65** % of variance is explained by **third principal component**\n",
    "    \n",
    " 0.0054 or **0.5 %** of variance is explained by **fourth principal component**"
   ]
  },
  {
   "cell_type": "markdown",
   "id": "b50917bb",
   "metadata": {},
   "source": [
    "The variance captured by the first 2 principal components itself is a whooping 94% So,it is enough if we build our learning model using the first 2 components itself."
   ]
  },
  {
   "cell_type": "code",
   "execution_count": 9,
   "id": "9e6f81cc",
   "metadata": {},
   "outputs": [],
   "source": [
    "pca_obj2 = PCA(n_components=2)\n",
    "\n",
    "X_train_pca2 = pca_obj2.fit_transform(X_train) # We are using only features only\n",
    "X_test_pca2 = pca_obj2.fit_transform(X_test)"
   ]
  },
  {
   "cell_type": "code",
   "execution_count": 10,
   "id": "1188d4aa",
   "metadata": {},
   "outputs": [
    {
     "data": {
      "text/plain": [
       "array([0.73744719, 0.21241944])"
      ]
     },
     "execution_count": 10,
     "metadata": {},
     "output_type": "execute_result"
    }
   ],
   "source": [
    "pca_obj2.explained_variance_ratio_"
   ]
  },
  {
   "cell_type": "code",
   "execution_count": 11,
   "id": "be018289",
   "metadata": {},
   "outputs": [
    {
     "name": "stdout",
     "output_type": "stream",
     "text": [
      "(112, 2)\n",
      "(38, 2)\n"
     ]
    }
   ],
   "source": [
    "print(X_train_pca2.shape)\n",
    "\n",
    "print(X_test_pca2.shape)"
   ]
  },
  {
   "cell_type": "code",
   "execution_count": 12,
   "id": "f49977bc",
   "metadata": {},
   "outputs": [
    {
     "data": {
      "text/plain": [
       "KNeighborsClassifier()"
      ]
     },
     "execution_count": 12,
     "metadata": {},
     "output_type": "execute_result"
    }
   ],
   "source": [
    "from sklearn.neighbors import KNeighborsClassifier\n",
    "\n",
    "knn = KNeighborsClassifier()\n",
    "knn.fit(X_train_pca2,y_train)"
   ]
  },
  {
   "cell_type": "code",
   "execution_count": 13,
   "id": "1e8e4920",
   "metadata": {},
   "outputs": [],
   "source": [
    "y_pred = knn.predict(X_test_pca2)"
   ]
  },
  {
   "cell_type": "code",
   "execution_count": 14,
   "id": "88d9724b",
   "metadata": {},
   "outputs": [
    {
     "name": "stdout",
     "output_type": "stream",
     "text": [
      "Accuracy 0.8947368421052632\n"
     ]
    }
   ],
   "source": [
    "from sklearn.metrics import accuracy_score\n",
    "\n",
    "print(\"Accuracy\",accuracy_score(y_test,y_pred))"
   ]
  },
  {
   "cell_type": "code",
   "execution_count": 15,
   "id": "34f330b5",
   "metadata": {},
   "outputs": [
    {
     "data": {
      "image/png": "[encoded data removed]",
      "text/plain": [
       "<Figure size 576x432 with 1 Axes>"
      ]
     },
     "metadata": {
      "needs_background": "light"
     },
     "output_type": "display_data"
    }
   ],
   "source": [
    "import matplotlib.pyplot as plt\n",
    "plt.figure(figsize = (8,6))\n",
    "plt.scatter(X_train_pca2[:,0],X_train_pca2[:,1],c=y_train,cmap=\"rainbow\")\n",
    "plt.xlabel(\"First Principal Component\")\n",
    "plt.ylabel(\"Second Principal Component\")\n",
    "plt.show()"
   ]
  },
  {
   "cell_type": "markdown",
   "id": "0b4489d4",
   "metadata": {},
   "source": [
    "# LDA "
   ]
  },
  {
   "cell_type": "markdown",
   "id": "cbf0e68e",
   "metadata": {},
   "source": [
    "# Normalising Data"
   ]
  },
  {
   "cell_type": "code",
   "execution_count": 16,
   "id": "eb110afe",
   "metadata": {},
   "outputs": [],
   "source": [
    "from sklearn.preprocessing import StandardScaler \n",
    "\n",
    "sc = StandardScaler()\n",
    "\n",
    "X_train = sc.fit_transform(X_train)\n",
    "X_test = sc.fit_transform(X_test)"
   ]
  },
  {
   "cell_type": "code",
   "execution_count": 17,
   "id": "29748079",
   "metadata": {},
   "outputs": [],
   "source": [
    "from sklearn.discriminant_analysis import LinearDiscriminantAnalysis as LDA"
   ]
  },
  {
   "cell_type": "code",
   "execution_count": 18,
   "id": "afe08118",
   "metadata": {},
   "outputs": [
    {
     "name": "stdout",
     "output_type": "stream",
     "text": [
      "[0.98969627 0.01030373]\n"
     ]
    }
   ],
   "source": [
    "lda = LDA()\n",
    "\n",
    "X_train_lda = lda.fit_transform(X_train,y_train) # Using both feature and target variable.\n",
    "X_test_lda = lda.transform(X_test) # use only the features for transforming the test dataset.\n",
    "\n",
    "print(lda.explained_variance_ratio_)"
   ]
  },
  {
   "cell_type": "code",
   "execution_count": 19,
   "id": "0f0a9266",
   "metadata": {},
   "outputs": [
    {
     "data": {
      "text/plain": [
       "KNeighborsClassifier()"
      ]
     },
     "execution_count": 19,
     "metadata": {},
     "output_type": "execute_result"
    }
   ],
   "source": [
    "from sklearn.neighbors import KNeighborsClassifier\n",
    "\n",
    "knn = KNeighborsClassifier()\n",
    "knn.fit(X_train_lda,y_train)"
   ]
  },
  {
   "cell_type": "code",
   "execution_count": 20,
   "id": "7f4a4bb9",
   "metadata": {},
   "outputs": [],
   "source": [
    "pred = knn.predict(X_test_lda)\n"
   ]
  },
  {
   "cell_type": "code",
   "execution_count": 21,
   "id": "de0179f7",
   "metadata": {},
   "outputs": [
    {
     "data": {
      "text/plain": [
       "array([1, 2, 2, 0, 2, 1, 0, 2, 0, 1, 1, 1, 2, 2, 0, 0, 2, 2, 0, 0, 1, 2,\n",
       "       0, 1, 1, 2, 1, 1, 1, 2, 0, 1, 1, 0, 1, 0, 0, 2])"
      ]
     },
     "execution_count": 21,
     "metadata": {},
     "output_type": "execute_result"
    }
   ],
   "source": [
    "knn.predict(X_test_lda)\n"
   ]
  },
  {
   "cell_type": "code",
   "execution_count": 22,
   "id": "ca6339be",
   "metadata": {},
   "outputs": [
    {
     "name": "stdout",
     "output_type": "stream",
     "text": [
      "Accuracy 0.9473684210526315\n"
     ]
    }
   ],
   "source": [
    "print(\"Accuracy\",accuracy_score(y_test,pred))"
   ]
  },
  {
   "cell_type": "code",
   "execution_count": 23,
   "id": "e1488e58",
   "metadata": {},
   "outputs": [
    {
     "data": {
      "image/png": "[encoded data removed]",
      "text/plain": [
       "<Figure size 576x432 with 1 Axes>"
      ]
     },
     "metadata": {
      "needs_background": "light"
     },
     "output_type": "display_data"
    }
   ],
   "source": [
    "import matplotlib.pyplot as plt\n",
    "plt.figure(figsize = (8,6))\n",
    "plt.scatter(X_train_lda[:,0],X_train_lda[:,1],c=y_train,cmap=\"rainbow\")\n",
    "plt.xlabel(\"First LDA Component\")\n",
    "plt.ylabel(\"Second LDA Component\")\n",
    "plt.show()"
   ]
  },
  {
   "cell_type": "markdown",
   "id": "3f2fe11d",
   "metadata": {},
   "source": [
    "# End Of Session..."
   ]
  },
  {
   "cell_type": "code",
   "execution_count": null,
   "id": "8a6241c0",
   "metadata": {},
   "outputs": [],
   "source": []
  }
 ],
 "metadata": {
  "kernelspec": {
   "display_name": "Python 3 (ipykernel)",
   "language": "python",
   "name": "python3"
  },
  "language_info": {
   "codemirror_mode": {
    "name": "ipython",
    "version": 3
   },
   "file_extension": ".py",
   "mimetype": "text/x-python",
   "name": "python",
   "nbconvert_exporter": "python",
   "pygments_lexer": "ipython3",
   "version": "3.9.7"
  }
 },
 "nbformat": 4,
 "nbformat_minor": 5
}
