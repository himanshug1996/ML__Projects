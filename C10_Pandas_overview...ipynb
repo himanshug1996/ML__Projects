{
 "cells": [
  {
   "cell_type": "code",
   "execution_count": 1,
   "id": "3c775a14",
   "metadata": {},
   "outputs": [],
   "source": [
    "import pandas as pd"
   ]
  },
  {
   "cell_type": "code",
   "execution_count": 2,
   "id": "f202acd9",
   "metadata": {},
   "outputs": [
    {
     "name": "stderr",
     "output_type": "stream",
     "text": [
      "C:\\Users\\HP\\anaconda3\\lib\\site-packages\\pandas\\util\\_decorators.py:311: ParserWarning: Falling back to the 'python' engine because the 'c' engine does not support skipfooter; you can avoid this warning by specifying engine='python'.\n",
      "  return func(*args, **kwargs)\n"
     ]
    },
    {
     "data": {
      "text/html": [
       "<div>\n",
       "<style scoped>\n",
       "    .dataframe tbody tr th:only-of-type {\n",
       "        vertical-align: middle;\n",
       "    }\n",
       "\n",
       "    .dataframe tbody tr th {\n",
       "        vertical-align: top;\n",
       "    }\n",
       "\n",
       "    .dataframe thead th {\n",
       "        text-align: right;\n",
       "    }\n",
       "</style>\n",
       "<table border=\"1\" class=\"dataframe\">\n",
       "  <thead>\n",
       "    <tr style=\"text-align: right;\">\n",
       "      <th></th>\n",
       "      <th>START_DATE*</th>\n",
       "      <th>END_DATE*</th>\n",
       "      <th>CATEGORY*</th>\n",
       "      <th>START*</th>\n",
       "      <th>STOP*</th>\n",
       "      <th>MILES*</th>\n",
       "      <th>PURPOSE*</th>\n",
       "    </tr>\n",
       "  </thead>\n",
       "  <tbody>\n",
       "    <tr>\n",
       "      <th>0</th>\n",
       "      <td>1/1/2016 21:11</td>\n",
       "      <td>1/1/2016 21:17</td>\n",
       "      <td>Business</td>\n",
       "      <td>Fort Pierce</td>\n",
       "      <td>Fort Pierce</td>\n",
       "      <td>5.1</td>\n",
       "      <td>Meal/Entertain</td>\n",
       "    </tr>\n",
       "    <tr>\n",
       "      <th>1</th>\n",
       "      <td>1/2/2016 1:25</td>\n",
       "      <td>1/2/2016 1:37</td>\n",
       "      <td>Business</td>\n",
       "      <td>Fort Pierce</td>\n",
       "      <td>Fort Pierce</td>\n",
       "      <td>5.0</td>\n",
       "      <td>NaN</td>\n",
       "    </tr>\n",
       "    <tr>\n",
       "      <th>2</th>\n",
       "      <td>1/2/2016 20:25</td>\n",
       "      <td>1/2/2016 20:38</td>\n",
       "      <td>Business</td>\n",
       "      <td>Fort Pierce</td>\n",
       "      <td>Fort Pierce</td>\n",
       "      <td>4.8</td>\n",
       "      <td>Errand/Supplies</td>\n",
       "    </tr>\n",
       "    <tr>\n",
       "      <th>3</th>\n",
       "      <td>1/5/2016 17:31</td>\n",
       "      <td>1/5/2016 17:45</td>\n",
       "      <td>Business</td>\n",
       "      <td>Fort Pierce</td>\n",
       "      <td>Fort Pierce</td>\n",
       "      <td>4.7</td>\n",
       "      <td>Meeting</td>\n",
       "    </tr>\n",
       "    <tr>\n",
       "      <th>4</th>\n",
       "      <td>1/6/2016 14:42</td>\n",
       "      <td>1/6/2016 15:49</td>\n",
       "      <td>Business</td>\n",
       "      <td>Fort Pierce</td>\n",
       "      <td>West Palm Beach</td>\n",
       "      <td>63.7</td>\n",
       "      <td>Customer Visit</td>\n",
       "    </tr>\n",
       "  </tbody>\n",
       "</table>\n",
       "</div>"
      ],
      "text/plain": [
       "      START_DATE*       END_DATE* CATEGORY*       START*            STOP*  \\\n",
       "0  1/1/2016 21:11  1/1/2016 21:17  Business  Fort Pierce      Fort Pierce   \n",
       "1   1/2/2016 1:25   1/2/2016 1:37  Business  Fort Pierce      Fort Pierce   \n",
       "2  1/2/2016 20:25  1/2/2016 20:38  Business  Fort Pierce      Fort Pierce   \n",
       "3  1/5/2016 17:31  1/5/2016 17:45  Business  Fort Pierce      Fort Pierce   \n",
       "4  1/6/2016 14:42  1/6/2016 15:49  Business  Fort Pierce  West Palm Beach   \n",
       "\n",
       "   MILES*         PURPOSE*  \n",
       "0     5.1   Meal/Entertain  \n",
       "1     5.0              NaN  \n",
       "2     4.8  Errand/Supplies  \n",
       "3     4.7          Meeting  \n",
       "4    63.7   Customer Visit  "
      ]
     },
     "execution_count": 2,
     "metadata": {},
     "output_type": "execute_result"
    }
   ],
   "source": [
    "uber_df = pd.read_csv(r\"C:\\Users\\HP\\Desktop\\Data_Science\\DS With Python by Vaishali Balaji\\DataSet\\UberDrives2016.csv\",skipfooter =1)\n",
    "# skipfooter to remove NaN values at last row.\n",
    "uber_df.head()"
   ]
  },
  {
   "cell_type": "code",
   "execution_count": 3,
   "id": "736ab784",
   "metadata": {},
   "outputs": [
    {
     "name": "stdout",
     "output_type": "stream",
     "text": [
      "<class 'pandas.core.frame.DataFrame'>\n"
     ]
    }
   ],
   "source": [
    "print(type(uber_df))"
   ]
  },
  {
   "cell_type": "code",
   "execution_count": 4,
   "id": "7eccb745",
   "metadata": {},
   "outputs": [
    {
     "name": "stdout",
     "output_type": "stream",
     "text": [
      "shape of dataset is: \n",
      "(1155, 7)\n"
     ]
    }
   ],
   "source": [
    "print(\"shape of dataset is: \")\n",
    "print(uber_df.shape)"
   ]
  },
  {
   "cell_type": "code",
   "execution_count": 5,
   "id": "86e8a06d",
   "metadata": {},
   "outputs": [
    {
     "data": {
      "text/html": [
       "<div>\n",
       "<style scoped>\n",
       "    .dataframe tbody tr th:only-of-type {\n",
       "        vertical-align: middle;\n",
       "    }\n",
       "\n",
       "    .dataframe tbody tr th {\n",
       "        vertical-align: top;\n",
       "    }\n",
       "\n",
       "    .dataframe thead th {\n",
       "        text-align: right;\n",
       "    }\n",
       "</style>\n",
       "<table border=\"1\" class=\"dataframe\">\n",
       "  <thead>\n",
       "    <tr style=\"text-align: right;\">\n",
       "      <th></th>\n",
       "      <th>START_DATE*</th>\n",
       "      <th>END_DATE*</th>\n",
       "      <th>CATEGORY*</th>\n",
       "      <th>START*</th>\n",
       "      <th>STOP*</th>\n",
       "      <th>MILES*</th>\n",
       "      <th>PURPOSE*</th>\n",
       "    </tr>\n",
       "  </thead>\n",
       "  <tbody>\n",
       "    <tr>\n",
       "      <th>1150</th>\n",
       "      <td>12/31/2016 1:07</td>\n",
       "      <td>12/31/2016 1:14</td>\n",
       "      <td>Business</td>\n",
       "      <td>Kar?chi</td>\n",
       "      <td>Kar?chi</td>\n",
       "      <td>0.7</td>\n",
       "      <td>Meeting</td>\n",
       "    </tr>\n",
       "    <tr>\n",
       "      <th>1151</th>\n",
       "      <td>12/31/2016 13:24</td>\n",
       "      <td>12/31/2016 13:42</td>\n",
       "      <td>Business</td>\n",
       "      <td>Kar?chi</td>\n",
       "      <td>Unknown Location</td>\n",
       "      <td>3.9</td>\n",
       "      <td>Temporary Site</td>\n",
       "    </tr>\n",
       "    <tr>\n",
       "      <th>1152</th>\n",
       "      <td>12/31/2016 15:03</td>\n",
       "      <td>12/31/2016 15:38</td>\n",
       "      <td>Business</td>\n",
       "      <td>Unknown Location</td>\n",
       "      <td>Unknown Location</td>\n",
       "      <td>16.2</td>\n",
       "      <td>Meeting</td>\n",
       "    </tr>\n",
       "    <tr>\n",
       "      <th>1153</th>\n",
       "      <td>12/31/2016 21:32</td>\n",
       "      <td>12/31/2016 21:50</td>\n",
       "      <td>Business</td>\n",
       "      <td>Katunayake</td>\n",
       "      <td>Gampaha</td>\n",
       "      <td>6.4</td>\n",
       "      <td>Temporary Site</td>\n",
       "    </tr>\n",
       "    <tr>\n",
       "      <th>1154</th>\n",
       "      <td>12/31/2016 22:08</td>\n",
       "      <td>12/31/2016 23:51</td>\n",
       "      <td>Business</td>\n",
       "      <td>Gampaha</td>\n",
       "      <td>Ilukwatta</td>\n",
       "      <td>48.2</td>\n",
       "      <td>Temporary Site</td>\n",
       "    </tr>\n",
       "  </tbody>\n",
       "</table>\n",
       "</div>"
      ],
      "text/plain": [
       "           START_DATE*         END_DATE* CATEGORY*            START*  \\\n",
       "1150   12/31/2016 1:07   12/31/2016 1:14  Business           Kar?chi   \n",
       "1151  12/31/2016 13:24  12/31/2016 13:42  Business           Kar?chi   \n",
       "1152  12/31/2016 15:03  12/31/2016 15:38  Business  Unknown Location   \n",
       "1153  12/31/2016 21:32  12/31/2016 21:50  Business        Katunayake   \n",
       "1154  12/31/2016 22:08  12/31/2016 23:51  Business           Gampaha   \n",
       "\n",
       "                 STOP*  MILES*        PURPOSE*  \n",
       "1150           Kar?chi     0.7         Meeting  \n",
       "1151  Unknown Location     3.9  Temporary Site  \n",
       "1152  Unknown Location    16.2         Meeting  \n",
       "1153           Gampaha     6.4  Temporary Site  \n",
       "1154         Ilukwatta    48.2  Temporary Site  "
      ]
     },
     "execution_count": 5,
     "metadata": {},
     "output_type": "execute_result"
    }
   ],
   "source": [
    "uber_df.tail()"
   ]
  },
  {
   "cell_type": "code",
   "execution_count": 6,
   "id": "be1541e5",
   "metadata": {},
   "outputs": [
    {
     "data": {
      "text/plain": [
       "0       Business\n",
       "1       Business\n",
       "2       Business\n",
       "3       Business\n",
       "4       Business\n",
       "          ...   \n",
       "1150    Business\n",
       "1151    Business\n",
       "1152    Business\n",
       "1153    Business\n",
       "1154    Business\n",
       "Name: CATEGORY*, Length: 1155, dtype: object"
      ]
     },
     "execution_count": 6,
     "metadata": {},
     "output_type": "execute_result"
    }
   ],
   "source": [
    "uber_df[\"CATEGORY*\"]"
   ]
  },
  {
   "cell_type": "code",
   "execution_count": 7,
   "id": "7b46e611",
   "metadata": {},
   "outputs": [
    {
     "data": {
      "text/plain": [
       "START_DATE*     object\n",
       "END_DATE*       object\n",
       "CATEGORY*       object\n",
       "START*          object\n",
       "STOP*           object\n",
       "MILES*         float64\n",
       "PURPOSE*        object\n",
       "dtype: object"
      ]
     },
     "execution_count": 7,
     "metadata": {},
     "output_type": "execute_result"
    }
   ],
   "source": [
    "uber_df.dtypes"
   ]
  },
  {
   "cell_type": "markdown",
   "id": "4313a726",
   "metadata": {},
   "source": [
    "# To get unique categorical values present in the dataset."
   ]
  },
  {
   "cell_type": "code",
   "execution_count": 8,
   "id": "af7ef3fa",
   "metadata": {},
   "outputs": [
    {
     "data": {
      "text/plain": [
       "array(['Business', 'Personal'], dtype=object)"
      ]
     },
     "execution_count": 8,
     "metadata": {},
     "output_type": "execute_result"
    }
   ],
   "source": [
    "uber_df[\"CATEGORY*\"].unique() # to get unique categorical values present in the dataset."
   ]
  },
  {
   "cell_type": "code",
   "execution_count": 9,
   "id": "17a66c87",
   "metadata": {},
   "outputs": [
    {
     "data": {
      "text/plain": [
       "array(['Meal/Entertain', nan, 'Errand/Supplies', 'Meeting',\n",
       "       'Customer Visit', 'Temporary Site', 'Between Offices',\n",
       "       'Charity ($)', 'Commute', 'Moving', 'Airport/Travel'], dtype=object)"
      ]
     },
     "execution_count": 9,
     "metadata": {},
     "output_type": "execute_result"
    }
   ],
   "source": [
    "uber_df[\"PURPOSE*\"].unique()"
   ]
  },
  {
   "cell_type": "code",
   "execution_count": 10,
   "id": "679c10b1",
   "metadata": {},
   "outputs": [
    {
     "data": {
      "text/plain": [
       "10"
      ]
     },
     "execution_count": 10,
     "metadata": {},
     "output_type": "execute_result"
    }
   ],
   "source": [
    "uber_df[\"PURPOSE*\"].nunique() \n",
    "\n",
    "# to check out total no of unique value present in categoriocal column,use nunique()"
   ]
  },
  {
   "cell_type": "code",
   "execution_count": 11,
   "id": "8b30a693",
   "metadata": {},
   "outputs": [
    {
     "data": {
      "text/plain": [
       "Business    1078\n",
       "Personal      77\n",
       "Name: CATEGORY*, dtype: int64"
      ]
     },
     "execution_count": 11,
     "metadata": {},
     "output_type": "execute_result"
    }
   ],
   "source": [
    "uber_df[\"CATEGORY*\"].value_counts()"
   ]
  },
  {
   "cell_type": "code",
   "execution_count": 12,
   "id": "29cd4c43",
   "metadata": {},
   "outputs": [
    {
     "data": {
      "text/plain": [
       "Meeting            187\n",
       "Meal/Entertain     160\n",
       "Errand/Supplies    128\n",
       "Customer Visit     101\n",
       "Temporary Site      50\n",
       "Between Offices     18\n",
       "Moving               4\n",
       "Airport/Travel       3\n",
       "Charity ($)          1\n",
       "Commute              1\n",
       "Name: PURPOSE*, dtype: int64"
      ]
     },
     "execution_count": 12,
     "metadata": {},
     "output_type": "execute_result"
    }
   ],
   "source": [
    "uber_df[\"PURPOSE*\"].value_counts() \n",
    "\n",
    "# Null records will not be taken into consideration under value_counts() methods..\n",
    "# why so---> null is nothing so value_counts() will not take into consideration.."
   ]
  },
  {
   "cell_type": "code",
   "execution_count": 13,
   "id": "8d15dbc4",
   "metadata": {},
   "outputs": [
    {
     "data": {
      "text/plain": [
       "<AxesSubplot:>"
      ]
     },
     "execution_count": 13,
     "metadata": {},
     "output_type": "execute_result"
    },
    {
     "data": {
      "image/png": "[encoded data removed]",
      "text/plain": [
       "<Figure size 432x288 with 1 Axes>"
      ]
     },
     "metadata": {
      "needs_background": "light"
     },
     "output_type": "display_data"
    }
   ],
   "source": [
    "uber_df[\"PURPOSE*\"].value_counts().plot.bar() # Note that pandas an implicit call to matplotlib."
   ]
  },
  {
   "cell_type": "code",
   "execution_count": 14,
   "id": "5c0b44d3",
   "metadata": {},
   "outputs": [
    {
     "data": {
      "text/plain": [
       "<AxesSubplot:>"
      ]
     },
     "execution_count": 14,
     "metadata": {},
     "output_type": "execute_result"
    },
    {
     "data": {
      "image/png": "[encoded data removed]",
      "text/plain": [
       "<Figure size 432x288 with 1 Axes>"
      ]
     },
     "metadata": {
      "needs_background": "light"
     },
     "output_type": "display_data"
    }
   ],
   "source": [
    "uber_df[\"CATEGORY*\"].value_counts().plot.bar()"
   ]
  },
  {
   "cell_type": "code",
   "execution_count": 15,
   "id": "8c712e09",
   "metadata": {},
   "outputs": [
    {
     "data": {
      "text/html": [
       "<div>\n",
       "<style scoped>\n",
       "    .dataframe tbody tr th:only-of-type {\n",
       "        vertical-align: middle;\n",
       "    }\n",
       "\n",
       "    .dataframe tbody tr th {\n",
       "        vertical-align: top;\n",
       "    }\n",
       "\n",
       "    .dataframe thead th {\n",
       "        text-align: right;\n",
       "    }\n",
       "</style>\n",
       "<table border=\"1\" class=\"dataframe\">\n",
       "  <thead>\n",
       "    <tr style=\"text-align: right;\">\n",
       "      <th></th>\n",
       "      <th>CATEGORY*</th>\n",
       "      <th>MILES*</th>\n",
       "      <th>PURPOSE*</th>\n",
       "    </tr>\n",
       "  </thead>\n",
       "  <tbody>\n",
       "    <tr>\n",
       "      <th>0</th>\n",
       "      <td>Business</td>\n",
       "      <td>5.1</td>\n",
       "      <td>Meal/Entertain</td>\n",
       "    </tr>\n",
       "    <tr>\n",
       "      <th>1</th>\n",
       "      <td>Business</td>\n",
       "      <td>5.0</td>\n",
       "      <td>NaN</td>\n",
       "    </tr>\n",
       "    <tr>\n",
       "      <th>2</th>\n",
       "      <td>Business</td>\n",
       "      <td>4.8</td>\n",
       "      <td>Errand/Supplies</td>\n",
       "    </tr>\n",
       "    <tr>\n",
       "      <th>3</th>\n",
       "      <td>Business</td>\n",
       "      <td>4.7</td>\n",
       "      <td>Meeting</td>\n",
       "    </tr>\n",
       "    <tr>\n",
       "      <th>4</th>\n",
       "      <td>Business</td>\n",
       "      <td>63.7</td>\n",
       "      <td>Customer Visit</td>\n",
       "    </tr>\n",
       "    <tr>\n",
       "      <th>...</th>\n",
       "      <td>...</td>\n",
       "      <td>...</td>\n",
       "      <td>...</td>\n",
       "    </tr>\n",
       "    <tr>\n",
       "      <th>1150</th>\n",
       "      <td>Business</td>\n",
       "      <td>0.7</td>\n",
       "      <td>Meeting</td>\n",
       "    </tr>\n",
       "    <tr>\n",
       "      <th>1151</th>\n",
       "      <td>Business</td>\n",
       "      <td>3.9</td>\n",
       "      <td>Temporary Site</td>\n",
       "    </tr>\n",
       "    <tr>\n",
       "      <th>1152</th>\n",
       "      <td>Business</td>\n",
       "      <td>16.2</td>\n",
       "      <td>Meeting</td>\n",
       "    </tr>\n",
       "    <tr>\n",
       "      <th>1153</th>\n",
       "      <td>Business</td>\n",
       "      <td>6.4</td>\n",
       "      <td>Temporary Site</td>\n",
       "    </tr>\n",
       "    <tr>\n",
       "      <th>1154</th>\n",
       "      <td>Business</td>\n",
       "      <td>48.2</td>\n",
       "      <td>Temporary Site</td>\n",
       "    </tr>\n",
       "  </tbody>\n",
       "</table>\n",
       "<p>1155 rows × 3 columns</p>\n",
       "</div>"
      ],
      "text/plain": [
       "     CATEGORY*  MILES*         PURPOSE*\n",
       "0     Business     5.1   Meal/Entertain\n",
       "1     Business     5.0              NaN\n",
       "2     Business     4.8  Errand/Supplies\n",
       "3     Business     4.7          Meeting\n",
       "4     Business    63.7   Customer Visit\n",
       "...        ...     ...              ...\n",
       "1150  Business     0.7          Meeting\n",
       "1151  Business     3.9   Temporary Site\n",
       "1152  Business    16.2          Meeting\n",
       "1153  Business     6.4   Temporary Site\n",
       "1154  Business    48.2   Temporary Site\n",
       "\n",
       "[1155 rows x 3 columns]"
      ]
     },
     "execution_count": 15,
     "metadata": {},
     "output_type": "execute_result"
    }
   ],
   "source": [
    "uber_df[[\"CATEGORY*\",\"MILES*\",\"PURPOSE*\"]] # very simple & easy way to retrieve multiple column."
   ]
  },
  {
   "cell_type": "markdown",
   "id": "ab578b40",
   "metadata": {},
   "source": [
    "# loc & iloc"
   ]
  },
  {
   "cell_type": "code",
   "execution_count": 16,
   "id": "ec64b79e",
   "metadata": {},
   "outputs": [
    {
     "data": {
      "text/html": [
       "<div>\n",
       "<style scoped>\n",
       "    .dataframe tbody tr th:only-of-type {\n",
       "        vertical-align: middle;\n",
       "    }\n",
       "\n",
       "    .dataframe tbody tr th {\n",
       "        vertical-align: top;\n",
       "    }\n",
       "\n",
       "    .dataframe thead th {\n",
       "        text-align: right;\n",
       "    }\n",
       "</style>\n",
       "<table border=\"1\" class=\"dataframe\">\n",
       "  <thead>\n",
       "    <tr style=\"text-align: right;\">\n",
       "      <th></th>\n",
       "      <th>START_DATE*</th>\n",
       "      <th>START*</th>\n",
       "    </tr>\n",
       "  </thead>\n",
       "  <tbody>\n",
       "    <tr>\n",
       "      <th>0</th>\n",
       "      <td>1/1/2016 21:11</td>\n",
       "      <td>Fort Pierce</td>\n",
       "    </tr>\n",
       "    <tr>\n",
       "      <th>1</th>\n",
       "      <td>1/2/2016 1:25</td>\n",
       "      <td>Fort Pierce</td>\n",
       "    </tr>\n",
       "    <tr>\n",
       "      <th>2</th>\n",
       "      <td>1/2/2016 20:25</td>\n",
       "      <td>Fort Pierce</td>\n",
       "    </tr>\n",
       "    <tr>\n",
       "      <th>3</th>\n",
       "      <td>1/5/2016 17:31</td>\n",
       "      <td>Fort Pierce</td>\n",
       "    </tr>\n",
       "    <tr>\n",
       "      <th>4</th>\n",
       "      <td>1/6/2016 14:42</td>\n",
       "      <td>Fort Pierce</td>\n",
       "    </tr>\n",
       "    <tr>\n",
       "      <th>5</th>\n",
       "      <td>1/6/2016 17:15</td>\n",
       "      <td>West Palm Beach</td>\n",
       "    </tr>\n",
       "    <tr>\n",
       "      <th>6</th>\n",
       "      <td>1/6/2016 17:30</td>\n",
       "      <td>West Palm Beach</td>\n",
       "    </tr>\n",
       "    <tr>\n",
       "      <th>7</th>\n",
       "      <td>1/7/2016 13:27</td>\n",
       "      <td>Cary</td>\n",
       "    </tr>\n",
       "    <tr>\n",
       "      <th>8</th>\n",
       "      <td>1/10/2016 8:05</td>\n",
       "      <td>Cary</td>\n",
       "    </tr>\n",
       "    <tr>\n",
       "      <th>9</th>\n",
       "      <td>1/10/2016 12:17</td>\n",
       "      <td>Jamaica</td>\n",
       "    </tr>\n",
       "  </tbody>\n",
       "</table>\n",
       "</div>"
      ],
      "text/plain": [
       "       START_DATE*           START*\n",
       "0   1/1/2016 21:11      Fort Pierce\n",
       "1    1/2/2016 1:25      Fort Pierce\n",
       "2   1/2/2016 20:25      Fort Pierce\n",
       "3   1/5/2016 17:31      Fort Pierce\n",
       "4   1/6/2016 14:42      Fort Pierce\n",
       "5   1/6/2016 17:15  West Palm Beach\n",
       "6   1/6/2016 17:30  West Palm Beach\n",
       "7   1/7/2016 13:27             Cary\n",
       "8   1/10/2016 8:05             Cary\n",
       "9  1/10/2016 12:17          Jamaica"
      ]
     },
     "execution_count": 16,
     "metadata": {},
     "output_type": "execute_result"
    }
   ],
   "source": [
    "uber_df.iloc[0:10,[0,3]]"
   ]
  },
  {
   "cell_type": "code",
   "execution_count": 17,
   "id": "c02a2bf9",
   "metadata": {},
   "outputs": [
    {
     "data": {
      "text/html": [
       "<div>\n",
       "<style scoped>\n",
       "    .dataframe tbody tr th:only-of-type {\n",
       "        vertical-align: middle;\n",
       "    }\n",
       "\n",
       "    .dataframe tbody tr th {\n",
       "        vertical-align: top;\n",
       "    }\n",
       "\n",
       "    .dataframe thead th {\n",
       "        text-align: right;\n",
       "    }\n",
       "</style>\n",
       "<table border=\"1\" class=\"dataframe\">\n",
       "  <thead>\n",
       "    <tr style=\"text-align: right;\">\n",
       "      <th></th>\n",
       "      <th>START*</th>\n",
       "      <th>STOP*</th>\n",
       "    </tr>\n",
       "  </thead>\n",
       "  <tbody>\n",
       "    <tr>\n",
       "      <th>0</th>\n",
       "      <td>Fort Pierce</td>\n",
       "      <td>Fort Pierce</td>\n",
       "    </tr>\n",
       "    <tr>\n",
       "      <th>1</th>\n",
       "      <td>Fort Pierce</td>\n",
       "      <td>Fort Pierce</td>\n",
       "    </tr>\n",
       "    <tr>\n",
       "      <th>2</th>\n",
       "      <td>Fort Pierce</td>\n",
       "      <td>Fort Pierce</td>\n",
       "    </tr>\n",
       "    <tr>\n",
       "      <th>3</th>\n",
       "      <td>Fort Pierce</td>\n",
       "      <td>Fort Pierce</td>\n",
       "    </tr>\n",
       "    <tr>\n",
       "      <th>4</th>\n",
       "      <td>Fort Pierce</td>\n",
       "      <td>West Palm Beach</td>\n",
       "    </tr>\n",
       "    <tr>\n",
       "      <th>5</th>\n",
       "      <td>West Palm Beach</td>\n",
       "      <td>West Palm Beach</td>\n",
       "    </tr>\n",
       "  </tbody>\n",
       "</table>\n",
       "</div>"
      ],
      "text/plain": [
       "            START*            STOP*\n",
       "0      Fort Pierce      Fort Pierce\n",
       "1      Fort Pierce      Fort Pierce\n",
       "2      Fort Pierce      Fort Pierce\n",
       "3      Fort Pierce      Fort Pierce\n",
       "4      Fort Pierce  West Palm Beach\n",
       "5  West Palm Beach  West Palm Beach"
      ]
     },
     "execution_count": 17,
     "metadata": {},
     "output_type": "execute_result"
    }
   ],
   "source": [
    "uber_df.loc[0:5,[\"START*\",\"STOP*\"]] # here,we are calling rows by names & not by indexing"
   ]
  },
  {
   "cell_type": "markdown",
   "id": "ad1175de",
   "metadata": {},
   "source": [
    "# Conditional Selection"
   ]
  },
  {
   "cell_type": "code",
   "execution_count": 18,
   "id": "b6b28357",
   "metadata": {},
   "outputs": [
    {
     "data": {
      "text/plain": [
       "0       False\n",
       "1       False\n",
       "2        True\n",
       "3        True\n",
       "4       False\n",
       "        ...  \n",
       "1150     True\n",
       "1151     True\n",
       "1152    False\n",
       "1153    False\n",
       "1154    False\n",
       "Name: MILES*, Length: 1155, dtype: bool"
      ]
     },
     "execution_count": 18,
     "metadata": {},
     "output_type": "execute_result"
    }
   ],
   "source": [
    "uber_df[\"MILES*\"] < 5 # HERE,BOOLEAN ARRAY WILL BE GIVEN.."
   ]
  },
  {
   "cell_type": "code",
   "execution_count": 19,
   "id": "e501e84d",
   "metadata": {},
   "outputs": [
    {
     "name": "stdout",
     "output_type": "stream",
     "text": [
      "The number of rides where the total miles covers is less than 5 is: \n",
      "496\n"
     ]
    }
   ],
   "source": [
    "print(\"The number of rides where the total miles covers is less than 5 is: \")\n",
    "print(uber_df[uber_df[\"MILES*\"] < 5].shape[0]) # rIDES LESS THAN 5 MILES"
   ]
  },
  {
   "cell_type": "code",
   "execution_count": 20,
   "id": "8d4225e9",
   "metadata": {},
   "outputs": [
    {
     "name": "stdout",
     "output_type": "stream",
     "text": [
      "496\n"
     ]
    }
   ],
   "source": [
    "print(uber_df[uber_df[\"MILES*\"] < 5].shape[0]) # rIDES LESS THAN 5 MILES"
   ]
  },
  {
   "cell_type": "markdown",
   "id": "e7b317f0",
   "metadata": {},
   "source": [
    "shape[0] is the tuple postion of the output i.e 496 at 0 position & 7 on 1 position in (496,7)"
   ]
  },
  {
   "cell_type": "code",
   "execution_count": 21,
   "id": "e6021e53",
   "metadata": {},
   "outputs": [
    {
     "data": {
      "text/html": [
       "<div>\n",
       "<style scoped>\n",
       "    .dataframe tbody tr th:only-of-type {\n",
       "        vertical-align: middle;\n",
       "    }\n",
       "\n",
       "    .dataframe tbody tr th {\n",
       "        vertical-align: top;\n",
       "    }\n",
       "\n",
       "    .dataframe thead th {\n",
       "        text-align: right;\n",
       "    }\n",
       "</style>\n",
       "<table border=\"1\" class=\"dataframe\">\n",
       "  <thead>\n",
       "    <tr style=\"text-align: right;\">\n",
       "      <th></th>\n",
       "      <th>CATEGORY*</th>\n",
       "      <th>MILES*</th>\n",
       "      <th>PURPOSE*</th>\n",
       "    </tr>\n",
       "  </thead>\n",
       "  <tbody>\n",
       "    <tr>\n",
       "      <th>2</th>\n",
       "      <td>Business</td>\n",
       "      <td>4.8</td>\n",
       "      <td>Errand/Supplies</td>\n",
       "    </tr>\n",
       "    <tr>\n",
       "      <th>3</th>\n",
       "      <td>Business</td>\n",
       "      <td>4.7</td>\n",
       "      <td>Meeting</td>\n",
       "    </tr>\n",
       "    <tr>\n",
       "      <th>5</th>\n",
       "      <td>Business</td>\n",
       "      <td>4.3</td>\n",
       "      <td>Meal/Entertain</td>\n",
       "    </tr>\n",
       "    <tr>\n",
       "      <th>7</th>\n",
       "      <td>Business</td>\n",
       "      <td>0.8</td>\n",
       "      <td>Meeting</td>\n",
       "    </tr>\n",
       "    <tr>\n",
       "      <th>14</th>\n",
       "      <td>Business</td>\n",
       "      <td>1.6</td>\n",
       "      <td>Errand/Supplies</td>\n",
       "    </tr>\n",
       "    <tr>\n",
       "      <th>...</th>\n",
       "      <td>...</td>\n",
       "      <td>...</td>\n",
       "      <td>...</td>\n",
       "    </tr>\n",
       "    <tr>\n",
       "      <th>1147</th>\n",
       "      <td>Business</td>\n",
       "      <td>4.6</td>\n",
       "      <td>Errand/Supplies</td>\n",
       "    </tr>\n",
       "    <tr>\n",
       "      <th>1148</th>\n",
       "      <td>Business</td>\n",
       "      <td>4.6</td>\n",
       "      <td>Meeting</td>\n",
       "    </tr>\n",
       "    <tr>\n",
       "      <th>1149</th>\n",
       "      <td>Business</td>\n",
       "      <td>0.8</td>\n",
       "      <td>Customer Visit</td>\n",
       "    </tr>\n",
       "    <tr>\n",
       "      <th>1150</th>\n",
       "      <td>Business</td>\n",
       "      <td>0.7</td>\n",
       "      <td>Meeting</td>\n",
       "    </tr>\n",
       "    <tr>\n",
       "      <th>1151</th>\n",
       "      <td>Business</td>\n",
       "      <td>3.9</td>\n",
       "      <td>Temporary Site</td>\n",
       "    </tr>\n",
       "  </tbody>\n",
       "</table>\n",
       "<p>496 rows × 3 columns</p>\n",
       "</div>"
      ],
      "text/plain": [
       "     CATEGORY*  MILES*         PURPOSE*\n",
       "2     Business     4.8  Errand/Supplies\n",
       "3     Business     4.7          Meeting\n",
       "5     Business     4.3   Meal/Entertain\n",
       "7     Business     0.8          Meeting\n",
       "14    Business     1.6  Errand/Supplies\n",
       "...        ...     ...              ...\n",
       "1147  Business     4.6  Errand/Supplies\n",
       "1148  Business     4.6          Meeting\n",
       "1149  Business     0.8   Customer Visit\n",
       "1150  Business     0.7          Meeting\n",
       "1151  Business     3.9   Temporary Site\n",
       "\n",
       "[496 rows x 3 columns]"
      ]
     },
     "execution_count": 21,
     "metadata": {},
     "output_type": "execute_result"
    }
   ],
   "source": [
    "uber_df.loc[uber_df[\"MILES*\"] < 5,[\"CATEGORY*\",\"MILES*\",\"PURPOSE*\"]]\n",
    "\n",
    "# WHEN WE WANT RECORD TO BE FETCH OUT ONLY ON THESE THEREE COLUMNS."
   ]
  },
  {
   "cell_type": "markdown",
   "id": "c3b39723",
   "metadata": {},
   "source": [
    "# Sorting"
   ]
  },
  {
   "cell_type": "markdown",
   "id": "fd714cdb",
   "metadata": {},
   "source": [
    "**Sorting DF acc to miles column**"
   ]
  },
  {
   "cell_type": "code",
   "execution_count": 22,
   "id": "2ec0c1cb",
   "metadata": {},
   "outputs": [
    {
     "data": {
      "text/html": [
       "<div>\n",
       "<style scoped>\n",
       "    .dataframe tbody tr th:only-of-type {\n",
       "        vertical-align: middle;\n",
       "    }\n",
       "\n",
       "    .dataframe tbody tr th {\n",
       "        vertical-align: top;\n",
       "    }\n",
       "\n",
       "    .dataframe thead th {\n",
       "        text-align: right;\n",
       "    }\n",
       "</style>\n",
       "<table border=\"1\" class=\"dataframe\">\n",
       "  <thead>\n",
       "    <tr style=\"text-align: right;\">\n",
       "      <th></th>\n",
       "      <th>START_DATE*</th>\n",
       "      <th>END_DATE*</th>\n",
       "      <th>CATEGORY*</th>\n",
       "      <th>START*</th>\n",
       "      <th>STOP*</th>\n",
       "      <th>MILES*</th>\n",
       "      <th>PURPOSE*</th>\n",
       "    </tr>\n",
       "  </thead>\n",
       "  <tbody>\n",
       "    <tr>\n",
       "      <th>269</th>\n",
       "      <td>3/25/2016 16:52</td>\n",
       "      <td>3/25/2016 22:22</td>\n",
       "      <td>Business</td>\n",
       "      <td>Latta</td>\n",
       "      <td>Jacksonville</td>\n",
       "      <td>310.3</td>\n",
       "      <td>Customer Visit</td>\n",
       "    </tr>\n",
       "    <tr>\n",
       "      <th>270</th>\n",
       "      <td>3/25/2016 22:54</td>\n",
       "      <td>3/26/2016 1:39</td>\n",
       "      <td>Business</td>\n",
       "      <td>Jacksonville</td>\n",
       "      <td>Kissimmee</td>\n",
       "      <td>201.0</td>\n",
       "      <td>Meeting</td>\n",
       "    </tr>\n",
       "    <tr>\n",
       "      <th>881</th>\n",
       "      <td>10/30/2016 15:22</td>\n",
       "      <td>10/30/2016 18:23</td>\n",
       "      <td>Business</td>\n",
       "      <td>Asheville</td>\n",
       "      <td>Mebane</td>\n",
       "      <td>195.9</td>\n",
       "      <td>NaN</td>\n",
       "    </tr>\n",
       "    <tr>\n",
       "      <th>776</th>\n",
       "      <td>9/27/2016 21:01</td>\n",
       "      <td>9/28/2016 2:37</td>\n",
       "      <td>Business</td>\n",
       "      <td>Unknown Location</td>\n",
       "      <td>Unknown Location</td>\n",
       "      <td>195.6</td>\n",
       "      <td>NaN</td>\n",
       "    </tr>\n",
       "    <tr>\n",
       "      <th>546</th>\n",
       "      <td>7/14/2016 16:39</td>\n",
       "      <td>7/14/2016 20:05</td>\n",
       "      <td>Business</td>\n",
       "      <td>Morrisville</td>\n",
       "      <td>Banner Elk</td>\n",
       "      <td>195.3</td>\n",
       "      <td>NaN</td>\n",
       "    </tr>\n",
       "    <tr>\n",
       "      <th>...</th>\n",
       "      <td>...</td>\n",
       "      <td>...</td>\n",
       "      <td>...</td>\n",
       "      <td>...</td>\n",
       "      <td>...</td>\n",
       "      <td>...</td>\n",
       "      <td>...</td>\n",
       "    </tr>\n",
       "    <tr>\n",
       "      <th>945</th>\n",
       "      <td>11/12/2016 13:46</td>\n",
       "      <td>11/12/2016 13:50</td>\n",
       "      <td>Business</td>\n",
       "      <td>Central</td>\n",
       "      <td>West Berkeley</td>\n",
       "      <td>0.6</td>\n",
       "      <td>NaN</td>\n",
       "    </tr>\n",
       "    <tr>\n",
       "      <th>1121</th>\n",
       "      <td>12/27/2016 12:53</td>\n",
       "      <td>12/27/2016 12:57</td>\n",
       "      <td>Business</td>\n",
       "      <td>Kar?chi</td>\n",
       "      <td>Kar?chi</td>\n",
       "      <td>0.6</td>\n",
       "      <td>Meal/Entertain</td>\n",
       "    </tr>\n",
       "    <tr>\n",
       "      <th>420</th>\n",
       "      <td>6/8/2016 17:16</td>\n",
       "      <td>6/8/2016 17:18</td>\n",
       "      <td>Business</td>\n",
       "      <td>Soho</td>\n",
       "      <td>Tribeca</td>\n",
       "      <td>0.5</td>\n",
       "      <td>Errand/Supplies</td>\n",
       "    </tr>\n",
       "    <tr>\n",
       "      <th>44</th>\n",
       "      <td>1/26/2016 17:27</td>\n",
       "      <td>1/26/2016 17:29</td>\n",
       "      <td>Business</td>\n",
       "      <td>Cary</td>\n",
       "      <td>Cary</td>\n",
       "      <td>0.5</td>\n",
       "      <td>Errand/Supplies</td>\n",
       "    </tr>\n",
       "    <tr>\n",
       "      <th>120</th>\n",
       "      <td>2/17/2016 16:38</td>\n",
       "      <td>2/17/2016 16:43</td>\n",
       "      <td>Business</td>\n",
       "      <td>Katunayaka</td>\n",
       "      <td>Katunayaka</td>\n",
       "      <td>0.5</td>\n",
       "      <td>Errand/Supplies</td>\n",
       "    </tr>\n",
       "  </tbody>\n",
       "</table>\n",
       "<p>1155 rows × 7 columns</p>\n",
       "</div>"
      ],
      "text/plain": [
       "           START_DATE*         END_DATE* CATEGORY*            START*  \\\n",
       "269    3/25/2016 16:52   3/25/2016 22:22  Business             Latta   \n",
       "270    3/25/2016 22:54    3/26/2016 1:39  Business      Jacksonville   \n",
       "881   10/30/2016 15:22  10/30/2016 18:23  Business         Asheville   \n",
       "776    9/27/2016 21:01    9/28/2016 2:37  Business  Unknown Location   \n",
       "546    7/14/2016 16:39   7/14/2016 20:05  Business       Morrisville   \n",
       "...                ...               ...       ...               ...   \n",
       "945   11/12/2016 13:46  11/12/2016 13:50  Business           Central   \n",
       "1121  12/27/2016 12:53  12/27/2016 12:57  Business           Kar?chi   \n",
       "420     6/8/2016 17:16    6/8/2016 17:18  Business              Soho   \n",
       "44     1/26/2016 17:27   1/26/2016 17:29  Business              Cary   \n",
       "120    2/17/2016 16:38   2/17/2016 16:43  Business        Katunayaka   \n",
       "\n",
       "                 STOP*  MILES*         PURPOSE*  \n",
       "269       Jacksonville   310.3   Customer Visit  \n",
       "270          Kissimmee   201.0          Meeting  \n",
       "881             Mebane   195.9              NaN  \n",
       "776   Unknown Location   195.6              NaN  \n",
       "546         Banner Elk   195.3              NaN  \n",
       "...                ...     ...              ...  \n",
       "945      West Berkeley     0.6              NaN  \n",
       "1121           Kar?chi     0.6   Meal/Entertain  \n",
       "420            Tribeca     0.5  Errand/Supplies  \n",
       "44                Cary     0.5  Errand/Supplies  \n",
       "120         Katunayaka     0.5  Errand/Supplies  \n",
       "\n",
       "[1155 rows x 7 columns]"
      ]
     },
     "execution_count": 22,
     "metadata": {},
     "output_type": "execute_result"
    }
   ],
   "source": [
    "uber_df.sort_values(by =\"MILES*\",ascending=False)"
   ]
  },
  {
   "cell_type": "code",
   "execution_count": 23,
   "id": "1a1d4bf6",
   "metadata": {},
   "outputs": [
    {
     "data": {
      "text/html": [
       "<div>\n",
       "<style scoped>\n",
       "    .dataframe tbody tr th:only-of-type {\n",
       "        vertical-align: middle;\n",
       "    }\n",
       "\n",
       "    .dataframe tbody tr th {\n",
       "        vertical-align: top;\n",
       "    }\n",
       "\n",
       "    .dataframe thead th {\n",
       "        text-align: right;\n",
       "    }\n",
       "</style>\n",
       "<table border=\"1\" class=\"dataframe\">\n",
       "  <thead>\n",
       "    <tr style=\"text-align: right;\">\n",
       "      <th></th>\n",
       "      <th>START_DATE*</th>\n",
       "      <th>END_DATE*</th>\n",
       "      <th>CATEGORY*</th>\n",
       "      <th>START*</th>\n",
       "      <th>STOP*</th>\n",
       "      <th>MILES*</th>\n",
       "      <th>PURPOSE*</th>\n",
       "    </tr>\n",
       "  </thead>\n",
       "  <tbody>\n",
       "    <tr>\n",
       "      <th>269</th>\n",
       "      <td>3/25/2016 16:52</td>\n",
       "      <td>3/25/2016 22:22</td>\n",
       "      <td>Business</td>\n",
       "      <td>Latta</td>\n",
       "      <td>Jacksonville</td>\n",
       "      <td>310.3</td>\n",
       "      <td>Customer Visit</td>\n",
       "    </tr>\n",
       "    <tr>\n",
       "      <th>270</th>\n",
       "      <td>3/25/2016 22:54</td>\n",
       "      <td>3/26/2016 1:39</td>\n",
       "      <td>Business</td>\n",
       "      <td>Jacksonville</td>\n",
       "      <td>Kissimmee</td>\n",
       "      <td>201.0</td>\n",
       "      <td>Meeting</td>\n",
       "    </tr>\n",
       "    <tr>\n",
       "      <th>881</th>\n",
       "      <td>10/30/2016 15:22</td>\n",
       "      <td>10/30/2016 18:23</td>\n",
       "      <td>Business</td>\n",
       "      <td>Asheville</td>\n",
       "      <td>Mebane</td>\n",
       "      <td>195.9</td>\n",
       "      <td>NaN</td>\n",
       "    </tr>\n",
       "    <tr>\n",
       "      <th>776</th>\n",
       "      <td>9/27/2016 21:01</td>\n",
       "      <td>9/28/2016 2:37</td>\n",
       "      <td>Business</td>\n",
       "      <td>Unknown Location</td>\n",
       "      <td>Unknown Location</td>\n",
       "      <td>195.6</td>\n",
       "      <td>NaN</td>\n",
       "    </tr>\n",
       "    <tr>\n",
       "      <th>546</th>\n",
       "      <td>7/14/2016 16:39</td>\n",
       "      <td>7/14/2016 20:05</td>\n",
       "      <td>Business</td>\n",
       "      <td>Morrisville</td>\n",
       "      <td>Banner Elk</td>\n",
       "      <td>195.3</td>\n",
       "      <td>NaN</td>\n",
       "    </tr>\n",
       "    <tr>\n",
       "      <th>559</th>\n",
       "      <td>7/17/2016 12:20</td>\n",
       "      <td>7/17/2016 15:25</td>\n",
       "      <td>Personal</td>\n",
       "      <td>Boone</td>\n",
       "      <td>Cary</td>\n",
       "      <td>180.2</td>\n",
       "      <td>Commute</td>\n",
       "    </tr>\n",
       "    <tr>\n",
       "      <th>297</th>\n",
       "      <td>4/2/2016 19:38</td>\n",
       "      <td>4/2/2016 22:36</td>\n",
       "      <td>Business</td>\n",
       "      <td>Jacksonville</td>\n",
       "      <td>Ridgeland</td>\n",
       "      <td>174.2</td>\n",
       "      <td>Customer Visit</td>\n",
       "    </tr>\n",
       "    <tr>\n",
       "      <th>299</th>\n",
       "      <td>4/3/2016 2:00</td>\n",
       "      <td>4/3/2016 4:16</td>\n",
       "      <td>Business</td>\n",
       "      <td>Florence</td>\n",
       "      <td>Cary</td>\n",
       "      <td>159.3</td>\n",
       "      <td>Meeting</td>\n",
       "    </tr>\n",
       "    <tr>\n",
       "      <th>727</th>\n",
       "      <td>8/27/2016 16:15</td>\n",
       "      <td>8/27/2016 19:13</td>\n",
       "      <td>Business</td>\n",
       "      <td>Unknown Location</td>\n",
       "      <td>Unknown Location</td>\n",
       "      <td>156.9</td>\n",
       "      <td>NaN</td>\n",
       "    </tr>\n",
       "    <tr>\n",
       "      <th>268</th>\n",
       "      <td>3/25/2016 13:24</td>\n",
       "      <td>3/25/2016 16:22</td>\n",
       "      <td>Business</td>\n",
       "      <td>Cary</td>\n",
       "      <td>Latta</td>\n",
       "      <td>144.0</td>\n",
       "      <td>Customer Visit</td>\n",
       "    </tr>\n",
       "    <tr>\n",
       "      <th>298</th>\n",
       "      <td>4/2/2016 23:11</td>\n",
       "      <td>4/3/2016 1:34</td>\n",
       "      <td>Business</td>\n",
       "      <td>Ridgeland</td>\n",
       "      <td>Florence</td>\n",
       "      <td>144.0</td>\n",
       "      <td>Meeting</td>\n",
       "    </tr>\n",
       "    <tr>\n",
       "      <th>232</th>\n",
       "      <td>3/17/2016 12:52</td>\n",
       "      <td>3/17/2016 15:11</td>\n",
       "      <td>Business</td>\n",
       "      <td>Austin</td>\n",
       "      <td>Katy</td>\n",
       "      <td>136.0</td>\n",
       "      <td>Customer Visit</td>\n",
       "    </tr>\n",
       "    <tr>\n",
       "      <th>870</th>\n",
       "      <td>10/28/2016 18:13</td>\n",
       "      <td>10/28/2016 20:07</td>\n",
       "      <td>Business</td>\n",
       "      <td>Winston Salem</td>\n",
       "      <td>Asheville</td>\n",
       "      <td>133.6</td>\n",
       "      <td>Meeting</td>\n",
       "    </tr>\n",
       "    <tr>\n",
       "      <th>788</th>\n",
       "      <td>10/6/2016 17:23</td>\n",
       "      <td>10/6/2016 17:40</td>\n",
       "      <td>Business</td>\n",
       "      <td>R?walpindi</td>\n",
       "      <td>Unknown Location</td>\n",
       "      <td>112.6</td>\n",
       "      <td>NaN</td>\n",
       "    </tr>\n",
       "    <tr>\n",
       "      <th>869</th>\n",
       "      <td>10/28/2016 15:53</td>\n",
       "      <td>10/28/2016 17:59</td>\n",
       "      <td>Business</td>\n",
       "      <td>Cary</td>\n",
       "      <td>Winston Salem</td>\n",
       "      <td>107.0</td>\n",
       "      <td>Meeting</td>\n",
       "    </tr>\n",
       "  </tbody>\n",
       "</table>\n",
       "</div>"
      ],
      "text/plain": [
       "          START_DATE*         END_DATE* CATEGORY*            START*  \\\n",
       "269   3/25/2016 16:52   3/25/2016 22:22  Business             Latta   \n",
       "270   3/25/2016 22:54    3/26/2016 1:39  Business      Jacksonville   \n",
       "881  10/30/2016 15:22  10/30/2016 18:23  Business         Asheville   \n",
       "776   9/27/2016 21:01    9/28/2016 2:37  Business  Unknown Location   \n",
       "546   7/14/2016 16:39   7/14/2016 20:05  Business       Morrisville   \n",
       "559   7/17/2016 12:20   7/17/2016 15:25  Personal             Boone   \n",
       "297    4/2/2016 19:38    4/2/2016 22:36  Business      Jacksonville   \n",
       "299     4/3/2016 2:00     4/3/2016 4:16  Business          Florence   \n",
       "727   8/27/2016 16:15   8/27/2016 19:13  Business  Unknown Location   \n",
       "268   3/25/2016 13:24   3/25/2016 16:22  Business              Cary   \n",
       "298    4/2/2016 23:11     4/3/2016 1:34  Business         Ridgeland   \n",
       "232   3/17/2016 12:52   3/17/2016 15:11  Business            Austin   \n",
       "870  10/28/2016 18:13  10/28/2016 20:07  Business     Winston Salem   \n",
       "788   10/6/2016 17:23   10/6/2016 17:40  Business        R?walpindi   \n",
       "869  10/28/2016 15:53  10/28/2016 17:59  Business              Cary   \n",
       "\n",
       "                STOP*  MILES*        PURPOSE*  \n",
       "269      Jacksonville   310.3  Customer Visit  \n",
       "270         Kissimmee   201.0         Meeting  \n",
       "881            Mebane   195.9             NaN  \n",
       "776  Unknown Location   195.6             NaN  \n",
       "546        Banner Elk   195.3             NaN  \n",
       "559              Cary   180.2         Commute  \n",
       "297         Ridgeland   174.2  Customer Visit  \n",
       "299              Cary   159.3         Meeting  \n",
       "727  Unknown Location   156.9             NaN  \n",
       "268             Latta   144.0  Customer Visit  \n",
       "298          Florence   144.0         Meeting  \n",
       "232              Katy   136.0  Customer Visit  \n",
       "870         Asheville   133.6         Meeting  \n",
       "788  Unknown Location   112.6             NaN  \n",
       "869     Winston Salem   107.0         Meeting  "
      ]
     },
     "execution_count": 23,
     "metadata": {},
     "output_type": "execute_result"
    }
   ],
   "source": [
    "uber_df.sort_values(by =\"MILES*\",ascending=False).head(15)"
   ]
  },
  {
   "cell_type": "markdown",
   "id": "b8284b67",
   "metadata": {},
   "source": [
    "# Sorting by two column.."
   ]
  },
  {
   "cell_type": "code",
   "execution_count": 24,
   "id": "8c908537",
   "metadata": {},
   "outputs": [
    {
     "data": {
      "text/html": [
       "<div>\n",
       "<style scoped>\n",
       "    .dataframe tbody tr th:only-of-type {\n",
       "        vertical-align: middle;\n",
       "    }\n",
       "\n",
       "    .dataframe tbody tr th {\n",
       "        vertical-align: top;\n",
       "    }\n",
       "\n",
       "    .dataframe thead th {\n",
       "        text-align: right;\n",
       "    }\n",
       "</style>\n",
       "<table border=\"1\" class=\"dataframe\">\n",
       "  <thead>\n",
       "    <tr style=\"text-align: right;\">\n",
       "      <th></th>\n",
       "      <th>START_DATE*</th>\n",
       "      <th>END_DATE*</th>\n",
       "      <th>CATEGORY*</th>\n",
       "      <th>START*</th>\n",
       "      <th>STOP*</th>\n",
       "      <th>MILES*</th>\n",
       "      <th>PURPOSE*</th>\n",
       "    </tr>\n",
       "  </thead>\n",
       "  <tbody>\n",
       "    <tr>\n",
       "      <th>906</th>\n",
       "      <td>11/4/2016 21:04</td>\n",
       "      <td>11/4/2016 21:20</td>\n",
       "      <td>Business</td>\n",
       "      <td>Agnew</td>\n",
       "      <td>Cory</td>\n",
       "      <td>4.3</td>\n",
       "      <td>NaN</td>\n",
       "    </tr>\n",
       "    <tr>\n",
       "      <th>911</th>\n",
       "      <td>11/6/2016 10:50</td>\n",
       "      <td>11/6/2016 11:04</td>\n",
       "      <td>Business</td>\n",
       "      <td>Agnew</td>\n",
       "      <td>Renaissance</td>\n",
       "      <td>2.4</td>\n",
       "      <td>NaN</td>\n",
       "    </tr>\n",
       "    <tr>\n",
       "      <th>908</th>\n",
       "      <td>11/5/2016 8:34</td>\n",
       "      <td>11/5/2016 8:43</td>\n",
       "      <td>Business</td>\n",
       "      <td>Agnew</td>\n",
       "      <td>Renaissance</td>\n",
       "      <td>2.2</td>\n",
       "      <td>NaN</td>\n",
       "    </tr>\n",
       "    <tr>\n",
       "      <th>910</th>\n",
       "      <td>11/5/2016 19:20</td>\n",
       "      <td>11/5/2016 19:28</td>\n",
       "      <td>Business</td>\n",
       "      <td>Agnew</td>\n",
       "      <td>Agnew</td>\n",
       "      <td>2.2</td>\n",
       "      <td>NaN</td>\n",
       "    </tr>\n",
       "    <tr>\n",
       "      <th>879</th>\n",
       "      <td>10/30/2016 12:58</td>\n",
       "      <td>10/30/2016 13:18</td>\n",
       "      <td>Business</td>\n",
       "      <td>Almond</td>\n",
       "      <td>Bryson City</td>\n",
       "      <td>15.2</td>\n",
       "      <td>NaN</td>\n",
       "    </tr>\n",
       "    <tr>\n",
       "      <th>1001</th>\n",
       "      <td>11/26/2016 17:36</td>\n",
       "      <td>11/26/2016 17:56</td>\n",
       "      <td>Business</td>\n",
       "      <td>Apex</td>\n",
       "      <td>Holly Springs</td>\n",
       "      <td>9.0</td>\n",
       "      <td>Meeting</td>\n",
       "    </tr>\n",
       "    <tr>\n",
       "      <th>1033</th>\n",
       "      <td>12/9/2016 13:15</td>\n",
       "      <td>12/9/2016 13:43</td>\n",
       "      <td>Business</td>\n",
       "      <td>Apex</td>\n",
       "      <td>Cary</td>\n",
       "      <td>8.8</td>\n",
       "      <td>Temporary Site</td>\n",
       "    </tr>\n",
       "    <tr>\n",
       "      <th>410</th>\n",
       "      <td>6/6/2016 21:08</td>\n",
       "      <td>6/6/2016 21:37</td>\n",
       "      <td>Business</td>\n",
       "      <td>Apex</td>\n",
       "      <td>Cary</td>\n",
       "      <td>7.2</td>\n",
       "      <td>Meal/Entertain</td>\n",
       "    </tr>\n",
       "    <tr>\n",
       "      <th>647</th>\n",
       "      <td>8/10/2016 19:47</td>\n",
       "      <td>8/10/2016 20:02</td>\n",
       "      <td>Business</td>\n",
       "      <td>Apex</td>\n",
       "      <td>Cary</td>\n",
       "      <td>6.0</td>\n",
       "      <td>NaN</td>\n",
       "    </tr>\n",
       "    <tr>\n",
       "      <th>60</th>\n",
       "      <td>1/30/2016 18:09</td>\n",
       "      <td>1/30/2016 18:24</td>\n",
       "      <td>Business</td>\n",
       "      <td>Apex</td>\n",
       "      <td>Cary</td>\n",
       "      <td>5.7</td>\n",
       "      <td>Customer Visit</td>\n",
       "    </tr>\n",
       "    <tr>\n",
       "      <th>80</th>\n",
       "      <td>2/7/2016 18:03</td>\n",
       "      <td>2/7/2016 18:17</td>\n",
       "      <td>Business</td>\n",
       "      <td>Apex</td>\n",
       "      <td>Cary</td>\n",
       "      <td>5.7</td>\n",
       "      <td>Customer Visit</td>\n",
       "    </tr>\n",
       "    <tr>\n",
       "      <th>173</th>\n",
       "      <td>2/29/2016 12:36</td>\n",
       "      <td>2/29/2016 12:48</td>\n",
       "      <td>Business</td>\n",
       "      <td>Apex</td>\n",
       "      <td>Cary</td>\n",
       "      <td>5.6</td>\n",
       "      <td>Meeting</td>\n",
       "    </tr>\n",
       "    <tr>\n",
       "      <th>58</th>\n",
       "      <td>1/29/2016 21:21</td>\n",
       "      <td>1/29/2016 21:40</td>\n",
       "      <td>Business</td>\n",
       "      <td>Apex</td>\n",
       "      <td>Cary</td>\n",
       "      <td>5.5</td>\n",
       "      <td>Meal/Entertain</td>\n",
       "    </tr>\n",
       "    <tr>\n",
       "      <th>565</th>\n",
       "      <td>7/18/2016 18:32</td>\n",
       "      <td>7/18/2016 18:47</td>\n",
       "      <td>Business</td>\n",
       "      <td>Apex</td>\n",
       "      <td>Cary</td>\n",
       "      <td>5.5</td>\n",
       "      <td>Meal/Entertain</td>\n",
       "    </tr>\n",
       "    <tr>\n",
       "      <th>978</th>\n",
       "      <td>11/19/2016 21:14</td>\n",
       "      <td>11/19/2016 21:35</td>\n",
       "      <td>Business</td>\n",
       "      <td>Apex</td>\n",
       "      <td>Cary</td>\n",
       "      <td>5.4</td>\n",
       "      <td>Customer Visit</td>\n",
       "    </tr>\n",
       "    <tr>\n",
       "      <th>826</th>\n",
       "      <td>10/17/2016 19:08</td>\n",
       "      <td>10/17/2016 19:25</td>\n",
       "      <td>Business</td>\n",
       "      <td>Apex</td>\n",
       "      <td>Cary</td>\n",
       "      <td>5.3</td>\n",
       "      <td>NaN</td>\n",
       "    </tr>\n",
       "    <tr>\n",
       "      <th>1014</th>\n",
       "      <td>12/2/2016 13:07</td>\n",
       "      <td>12/2/2016 13:22</td>\n",
       "      <td>Business</td>\n",
       "      <td>Apex</td>\n",
       "      <td>Cary</td>\n",
       "      <td>5.3</td>\n",
       "      <td>Customer Visit</td>\n",
       "    </tr>\n",
       "    <tr>\n",
       "      <th>1045</th>\n",
       "      <td>12/12/2016 14:26</td>\n",
       "      <td>12/12/2016 14:39</td>\n",
       "      <td>Business</td>\n",
       "      <td>Apex</td>\n",
       "      <td>Cary</td>\n",
       "      <td>4.7</td>\n",
       "      <td>Customer Visit</td>\n",
       "    </tr>\n",
       "    <tr>\n",
       "      <th>616</th>\n",
       "      <td>8/1/2016 15:40</td>\n",
       "      <td>8/1/2016 15:47</td>\n",
       "      <td>Business</td>\n",
       "      <td>Apex</td>\n",
       "      <td>Cary</td>\n",
       "      <td>4.6</td>\n",
       "      <td>NaN</td>\n",
       "    </tr>\n",
       "    <tr>\n",
       "      <th>825</th>\n",
       "      <td>10/17/2016 18:31</td>\n",
       "      <td>10/17/2016 18:45</td>\n",
       "      <td>Business</td>\n",
       "      <td>Apex</td>\n",
       "      <td>Apex</td>\n",
       "      <td>3.3</td>\n",
       "      <td>NaN</td>\n",
       "    </tr>\n",
       "  </tbody>\n",
       "</table>\n",
       "</div>"
      ],
      "text/plain": [
       "           START_DATE*         END_DATE* CATEGORY*  START*          STOP*  \\\n",
       "906    11/4/2016 21:04   11/4/2016 21:20  Business   Agnew           Cory   \n",
       "911    11/6/2016 10:50   11/6/2016 11:04  Business   Agnew    Renaissance   \n",
       "908     11/5/2016 8:34    11/5/2016 8:43  Business   Agnew    Renaissance   \n",
       "910    11/5/2016 19:20   11/5/2016 19:28  Business   Agnew          Agnew   \n",
       "879   10/30/2016 12:58  10/30/2016 13:18  Business  Almond    Bryson City   \n",
       "1001  11/26/2016 17:36  11/26/2016 17:56  Business    Apex  Holly Springs   \n",
       "1033   12/9/2016 13:15   12/9/2016 13:43  Business    Apex           Cary   \n",
       "410     6/6/2016 21:08    6/6/2016 21:37  Business    Apex           Cary   \n",
       "647    8/10/2016 19:47   8/10/2016 20:02  Business    Apex           Cary   \n",
       "60     1/30/2016 18:09   1/30/2016 18:24  Business    Apex           Cary   \n",
       "80      2/7/2016 18:03    2/7/2016 18:17  Business    Apex           Cary   \n",
       "173    2/29/2016 12:36   2/29/2016 12:48  Business    Apex           Cary   \n",
       "58     1/29/2016 21:21   1/29/2016 21:40  Business    Apex           Cary   \n",
       "565    7/18/2016 18:32   7/18/2016 18:47  Business    Apex           Cary   \n",
       "978   11/19/2016 21:14  11/19/2016 21:35  Business    Apex           Cary   \n",
       "826   10/17/2016 19:08  10/17/2016 19:25  Business    Apex           Cary   \n",
       "1014   12/2/2016 13:07   12/2/2016 13:22  Business    Apex           Cary   \n",
       "1045  12/12/2016 14:26  12/12/2016 14:39  Business    Apex           Cary   \n",
       "616     8/1/2016 15:40    8/1/2016 15:47  Business    Apex           Cary   \n",
       "825   10/17/2016 18:31  10/17/2016 18:45  Business    Apex           Apex   \n",
       "\n",
       "      MILES*        PURPOSE*  \n",
       "906      4.3             NaN  \n",
       "911      2.4             NaN  \n",
       "908      2.2             NaN  \n",
       "910      2.2             NaN  \n",
       "879     15.2             NaN  \n",
       "1001     9.0         Meeting  \n",
       "1033     8.8  Temporary Site  \n",
       "410      7.2  Meal/Entertain  \n",
       "647      6.0             NaN  \n",
       "60       5.7  Customer Visit  \n",
       "80       5.7  Customer Visit  \n",
       "173      5.6         Meeting  \n",
       "58       5.5  Meal/Entertain  \n",
       "565      5.5  Meal/Entertain  \n",
       "978      5.4  Customer Visit  \n",
       "826      5.3             NaN  \n",
       "1014     5.3  Customer Visit  \n",
       "1045     4.7  Customer Visit  \n",
       "616      4.6             NaN  \n",
       "825      3.3             NaN  "
      ]
     },
     "execution_count": 24,
     "metadata": {},
     "output_type": "execute_result"
    }
   ],
   "source": [
    "uber_df.sort_values(by =[\"START*\",\"MILES*\"],ascending = [True,False]).head(20)"
   ]
  },
  {
   "cell_type": "markdown",
   "id": "2b5a583e",
   "metadata": {},
   "source": [
    "# Groupby"
   ]
  },
  {
   "cell_type": "markdown",
   "id": "7b855f36",
   "metadata": {},
   "source": [
    "avg distance covered started from Agnew location.."
   ]
  },
  {
   "cell_type": "code",
   "execution_count": 25,
   "id": "783592e4",
   "metadata": {},
   "outputs": [
    {
     "name": "stdout",
     "output_type": "stream",
     "text": [
      "<class 'pandas.core.groupby.generic.DataFrameGroupBy'>\n"
     ]
    }
   ],
   "source": [
    "uber_df_grp = uber_df.groupby(\"START*\")\n",
    "\n",
    "print(type(uber_df_grp)) # we can see that this is just a groupby object..\n",
    "\n",
    "# groupby method should be followed by aggregate method & these are count,mean etc"
   ]
  },
  {
   "cell_type": "code",
   "execution_count": 26,
   "id": "3d7b43aa",
   "metadata": {},
   "outputs": [
    {
     "data": {
      "text/html": [
       "<div>\n",
       "<style scoped>\n",
       "    .dataframe tbody tr th:only-of-type {\n",
       "        vertical-align: middle;\n",
       "    }\n",
       "\n",
       "    .dataframe tbody tr th {\n",
       "        vertical-align: top;\n",
       "    }\n",
       "\n",
       "    .dataframe thead th {\n",
       "        text-align: right;\n",
       "    }\n",
       "</style>\n",
       "<table border=\"1\" class=\"dataframe\">\n",
       "  <thead>\n",
       "    <tr style=\"text-align: right;\">\n",
       "      <th></th>\n",
       "      <th>START_DATE*</th>\n",
       "      <th>END_DATE*</th>\n",
       "      <th>CATEGORY*</th>\n",
       "      <th>STOP*</th>\n",
       "      <th>MILES*</th>\n",
       "      <th>PURPOSE*</th>\n",
       "    </tr>\n",
       "    <tr>\n",
       "      <th>START*</th>\n",
       "      <th></th>\n",
       "      <th></th>\n",
       "      <th></th>\n",
       "      <th></th>\n",
       "      <th></th>\n",
       "      <th></th>\n",
       "    </tr>\n",
       "  </thead>\n",
       "  <tbody>\n",
       "    <tr>\n",
       "      <th>Agnew</th>\n",
       "      <td>4</td>\n",
       "      <td>4</td>\n",
       "      <td>4</td>\n",
       "      <td>4</td>\n",
       "      <td>4</td>\n",
       "      <td>0</td>\n",
       "    </tr>\n",
       "    <tr>\n",
       "      <th>Almond</th>\n",
       "      <td>1</td>\n",
       "      <td>1</td>\n",
       "      <td>1</td>\n",
       "      <td>1</td>\n",
       "      <td>1</td>\n",
       "      <td>0</td>\n",
       "    </tr>\n",
       "    <tr>\n",
       "      <th>Apex</th>\n",
       "      <td>17</td>\n",
       "      <td>17</td>\n",
       "      <td>17</td>\n",
       "      <td>17</td>\n",
       "      <td>17</td>\n",
       "      <td>11</td>\n",
       "    </tr>\n",
       "    <tr>\n",
       "      <th>Arabi</th>\n",
       "      <td>1</td>\n",
       "      <td>1</td>\n",
       "      <td>1</td>\n",
       "      <td>1</td>\n",
       "      <td>1</td>\n",
       "      <td>1</td>\n",
       "    </tr>\n",
       "    <tr>\n",
       "      <th>Arlington</th>\n",
       "      <td>1</td>\n",
       "      <td>1</td>\n",
       "      <td>1</td>\n",
       "      <td>1</td>\n",
       "      <td>1</td>\n",
       "      <td>0</td>\n",
       "    </tr>\n",
       "    <tr>\n",
       "      <th>...</th>\n",
       "      <td>...</td>\n",
       "      <td>...</td>\n",
       "      <td>...</td>\n",
       "      <td>...</td>\n",
       "      <td>...</td>\n",
       "      <td>...</td>\n",
       "    </tr>\n",
       "    <tr>\n",
       "      <th>West University</th>\n",
       "      <td>2</td>\n",
       "      <td>2</td>\n",
       "      <td>2</td>\n",
       "      <td>2</td>\n",
       "      <td>2</td>\n",
       "      <td>1</td>\n",
       "    </tr>\n",
       "    <tr>\n",
       "      <th>Weston</th>\n",
       "      <td>2</td>\n",
       "      <td>2</td>\n",
       "      <td>2</td>\n",
       "      <td>2</td>\n",
       "      <td>2</td>\n",
       "      <td>1</td>\n",
       "    </tr>\n",
       "    <tr>\n",
       "      <th>Westpark Place</th>\n",
       "      <td>17</td>\n",
       "      <td>17</td>\n",
       "      <td>17</td>\n",
       "      <td>17</td>\n",
       "      <td>17</td>\n",
       "      <td>5</td>\n",
       "    </tr>\n",
       "    <tr>\n",
       "      <th>Whitebridge</th>\n",
       "      <td>68</td>\n",
       "      <td>68</td>\n",
       "      <td>68</td>\n",
       "      <td>68</td>\n",
       "      <td>68</td>\n",
       "      <td>36</td>\n",
       "    </tr>\n",
       "    <tr>\n",
       "      <th>Winston Salem</th>\n",
       "      <td>1</td>\n",
       "      <td>1</td>\n",
       "      <td>1</td>\n",
       "      <td>1</td>\n",
       "      <td>1</td>\n",
       "      <td>1</td>\n",
       "    </tr>\n",
       "  </tbody>\n",
       "</table>\n",
       "<p>177 rows × 6 columns</p>\n",
       "</div>"
      ],
      "text/plain": [
       "                 START_DATE*  END_DATE*  CATEGORY*  STOP*  MILES*  PURPOSE*\n",
       "START*                                                                     \n",
       "Agnew                      4          4          4      4       4         0\n",
       "Almond                     1          1          1      1       1         0\n",
       "Apex                      17         17         17     17      17        11\n",
       "Arabi                      1          1          1      1       1         1\n",
       "Arlington                  1          1          1      1       1         0\n",
       "...                      ...        ...        ...    ...     ...       ...\n",
       "West University            2          2          2      2       2         1\n",
       "Weston                     2          2          2      2       2         1\n",
       "Westpark Place            17         17         17     17      17         5\n",
       "Whitebridge               68         68         68     68      68        36\n",
       "Winston Salem              1          1          1      1       1         1\n",
       "\n",
       "[177 rows x 6 columns]"
      ]
     },
     "execution_count": 26,
     "metadata": {},
     "output_type": "execute_result"
    }
   ],
   "source": [
    "uber_df_grp.count()"
   ]
  },
  {
   "cell_type": "code",
   "execution_count": 27,
   "id": "caafcd67",
   "metadata": {},
   "outputs": [
    {
     "data": {
      "text/plain": [
       "START*\n",
       "Agnew                2.775000\n",
       "Almond              15.200000\n",
       "Apex                 5.341176\n",
       "Arabi               17.000000\n",
       "Arlington            4.900000\n",
       "                      ...    \n",
       "West University      2.200000\n",
       "Weston               4.000000\n",
       "Westpark Place       2.182353\n",
       "Whitebridge          4.020588\n",
       "Winston Salem      133.600000\n",
       "Name: MILES*, Length: 177, dtype: float64"
      ]
     },
     "execution_count": 27,
     "metadata": {},
     "output_type": "execute_result"
    }
   ],
   "source": [
    "uber_df.groupby(\"START*\")[\"MILES*\"].agg(\"mean\")\n",
    "\n",
    "# When you want to see only MILES column & not others which are of no use."
   ]
  },
  {
   "cell_type": "code",
   "execution_count": 28,
   "id": "a8cb21f0",
   "metadata": {},
   "outputs": [
    {
     "data": {
      "text/plain": [
       "START*\n",
       "Agnew         2.775000\n",
       "Almond       15.200000\n",
       "Apex          5.341176\n",
       "Arabi        17.000000\n",
       "Arlington     4.900000\n",
       "Name: MILES*, dtype: float64"
      ]
     },
     "execution_count": 28,
     "metadata": {},
     "output_type": "execute_result"
    }
   ],
   "source": [
    "uber_df.groupby(\"START*\")[\"MILES*\"].agg(\"mean\").head()\n"
   ]
  },
  {
   "cell_type": "code",
   "execution_count": 29,
   "id": "749f0f0e",
   "metadata": {},
   "outputs": [
    {
     "data": {
      "text/html": [
       "<div>\n",
       "<style scoped>\n",
       "    .dataframe tbody tr th:only-of-type {\n",
       "        vertical-align: middle;\n",
       "    }\n",
       "\n",
       "    .dataframe tbody tr th {\n",
       "        vertical-align: top;\n",
       "    }\n",
       "\n",
       "    .dataframe thead th {\n",
       "        text-align: right;\n",
       "    }\n",
       "</style>\n",
       "<table border=\"1\" class=\"dataframe\">\n",
       "  <thead>\n",
       "    <tr style=\"text-align: right;\">\n",
       "      <th></th>\n",
       "      <th>mean</th>\n",
       "      <th>sum</th>\n",
       "    </tr>\n",
       "    <tr>\n",
       "      <th>START*</th>\n",
       "      <th></th>\n",
       "      <th></th>\n",
       "    </tr>\n",
       "  </thead>\n",
       "  <tbody>\n",
       "    <tr>\n",
       "      <th>Agnew</th>\n",
       "      <td>2.775000</td>\n",
       "      <td>11.1</td>\n",
       "    </tr>\n",
       "    <tr>\n",
       "      <th>Almond</th>\n",
       "      <td>15.200000</td>\n",
       "      <td>15.2</td>\n",
       "    </tr>\n",
       "    <tr>\n",
       "      <th>Apex</th>\n",
       "      <td>5.341176</td>\n",
       "      <td>90.8</td>\n",
       "    </tr>\n",
       "    <tr>\n",
       "      <th>Arabi</th>\n",
       "      <td>17.000000</td>\n",
       "      <td>17.0</td>\n",
       "    </tr>\n",
       "    <tr>\n",
       "      <th>Arlington</th>\n",
       "      <td>4.900000</td>\n",
       "      <td>4.9</td>\n",
       "    </tr>\n",
       "  </tbody>\n",
       "</table>\n",
       "</div>"
      ],
      "text/plain": [
       "                mean   sum\n",
       "START*                    \n",
       "Agnew       2.775000  11.1\n",
       "Almond     15.200000  15.2\n",
       "Apex        5.341176  90.8\n",
       "Arabi      17.000000  17.0\n",
       "Arlington   4.900000   4.9"
      ]
     },
     "execution_count": 29,
     "metadata": {},
     "output_type": "execute_result"
    }
   ],
   "source": [
    "uber_df.groupby(\"START*\")[\"MILES*\"].agg([\"mean\",\"sum\"]).head(5)\n"
   ]
  },
  {
   "cell_type": "markdown",
   "id": "3f221b10",
   "metadata": {},
   "source": [
    "# Missing values"
   ]
  },
  {
   "cell_type": "markdown",
   "id": "6e2a5e36",
   "metadata": {},
   "source": [
    "**How to detect the missing values in your dataset..**"
   ]
  },
  {
   "cell_type": "code",
   "execution_count": 30,
   "id": "ce736b1e",
   "metadata": {},
   "outputs": [
    {
     "data": {
      "text/html": [
       "<div>\n",
       "<style scoped>\n",
       "    .dataframe tbody tr th:only-of-type {\n",
       "        vertical-align: middle;\n",
       "    }\n",
       "\n",
       "    .dataframe tbody tr th {\n",
       "        vertical-align: top;\n",
       "    }\n",
       "\n",
       "    .dataframe thead th {\n",
       "        text-align: right;\n",
       "    }\n",
       "</style>\n",
       "<table border=\"1\" class=\"dataframe\">\n",
       "  <thead>\n",
       "    <tr style=\"text-align: right;\">\n",
       "      <th></th>\n",
       "      <th>START_DATE*</th>\n",
       "      <th>END_DATE*</th>\n",
       "      <th>CATEGORY*</th>\n",
       "      <th>START*</th>\n",
       "      <th>STOP*</th>\n",
       "      <th>MILES*</th>\n",
       "      <th>PURPOSE*</th>\n",
       "    </tr>\n",
       "  </thead>\n",
       "  <tbody>\n",
       "    <tr>\n",
       "      <th>0</th>\n",
       "      <td>False</td>\n",
       "      <td>False</td>\n",
       "      <td>False</td>\n",
       "      <td>False</td>\n",
       "      <td>False</td>\n",
       "      <td>False</td>\n",
       "      <td>False</td>\n",
       "    </tr>\n",
       "    <tr>\n",
       "      <th>1</th>\n",
       "      <td>False</td>\n",
       "      <td>False</td>\n",
       "      <td>False</td>\n",
       "      <td>False</td>\n",
       "      <td>False</td>\n",
       "      <td>False</td>\n",
       "      <td>True</td>\n",
       "    </tr>\n",
       "    <tr>\n",
       "      <th>2</th>\n",
       "      <td>False</td>\n",
       "      <td>False</td>\n",
       "      <td>False</td>\n",
       "      <td>False</td>\n",
       "      <td>False</td>\n",
       "      <td>False</td>\n",
       "      <td>False</td>\n",
       "    </tr>\n",
       "    <tr>\n",
       "      <th>3</th>\n",
       "      <td>False</td>\n",
       "      <td>False</td>\n",
       "      <td>False</td>\n",
       "      <td>False</td>\n",
       "      <td>False</td>\n",
       "      <td>False</td>\n",
       "      <td>False</td>\n",
       "    </tr>\n",
       "    <tr>\n",
       "      <th>4</th>\n",
       "      <td>False</td>\n",
       "      <td>False</td>\n",
       "      <td>False</td>\n",
       "      <td>False</td>\n",
       "      <td>False</td>\n",
       "      <td>False</td>\n",
       "      <td>False</td>\n",
       "    </tr>\n",
       "    <tr>\n",
       "      <th>...</th>\n",
       "      <td>...</td>\n",
       "      <td>...</td>\n",
       "      <td>...</td>\n",
       "      <td>...</td>\n",
       "      <td>...</td>\n",
       "      <td>...</td>\n",
       "      <td>...</td>\n",
       "    </tr>\n",
       "    <tr>\n",
       "      <th>1150</th>\n",
       "      <td>False</td>\n",
       "      <td>False</td>\n",
       "      <td>False</td>\n",
       "      <td>False</td>\n",
       "      <td>False</td>\n",
       "      <td>False</td>\n",
       "      <td>False</td>\n",
       "    </tr>\n",
       "    <tr>\n",
       "      <th>1151</th>\n",
       "      <td>False</td>\n",
       "      <td>False</td>\n",
       "      <td>False</td>\n",
       "      <td>False</td>\n",
       "      <td>False</td>\n",
       "      <td>False</td>\n",
       "      <td>False</td>\n",
       "    </tr>\n",
       "    <tr>\n",
       "      <th>1152</th>\n",
       "      <td>False</td>\n",
       "      <td>False</td>\n",
       "      <td>False</td>\n",
       "      <td>False</td>\n",
       "      <td>False</td>\n",
       "      <td>False</td>\n",
       "      <td>False</td>\n",
       "    </tr>\n",
       "    <tr>\n",
       "      <th>1153</th>\n",
       "      <td>False</td>\n",
       "      <td>False</td>\n",
       "      <td>False</td>\n",
       "      <td>False</td>\n",
       "      <td>False</td>\n",
       "      <td>False</td>\n",
       "      <td>False</td>\n",
       "    </tr>\n",
       "    <tr>\n",
       "      <th>1154</th>\n",
       "      <td>False</td>\n",
       "      <td>False</td>\n",
       "      <td>False</td>\n",
       "      <td>False</td>\n",
       "      <td>False</td>\n",
       "      <td>False</td>\n",
       "      <td>False</td>\n",
       "    </tr>\n",
       "  </tbody>\n",
       "</table>\n",
       "<p>1155 rows × 7 columns</p>\n",
       "</div>"
      ],
      "text/plain": [
       "      START_DATE*  END_DATE*  CATEGORY*  START*  STOP*  MILES*  PURPOSE*\n",
       "0           False      False      False   False  False   False     False\n",
       "1           False      False      False   False  False   False      True\n",
       "2           False      False      False   False  False   False     False\n",
       "3           False      False      False   False  False   False     False\n",
       "4           False      False      False   False  False   False     False\n",
       "...           ...        ...        ...     ...    ...     ...       ...\n",
       "1150        False      False      False   False  False   False     False\n",
       "1151        False      False      False   False  False   False     False\n",
       "1152        False      False      False   False  False   False     False\n",
       "1153        False      False      False   False  False   False     False\n",
       "1154        False      False      False   False  False   False     False\n",
       "\n",
       "[1155 rows x 7 columns]"
      ]
     },
     "execution_count": 30,
     "metadata": {},
     "output_type": "execute_result"
    }
   ],
   "source": [
    "uber_df.isnull() # Will only give boolean o/p.."
   ]
  },
  {
   "cell_type": "code",
   "execution_count": 31,
   "id": "a7f37804",
   "metadata": {},
   "outputs": [
    {
     "data": {
      "text/plain": [
       "START_DATE*      0\n",
       "END_DATE*        0\n",
       "CATEGORY*        0\n",
       "START*           0\n",
       "STOP*            0\n",
       "MILES*           0\n",
       "PURPOSE*       502\n",
       "dtype: int64"
      ]
     },
     "execution_count": 31,
     "metadata": {},
     "output_type": "execute_result"
    }
   ],
   "source": [
    "uber_df.isnull().sum()"
   ]
  },
  {
   "cell_type": "markdown",
   "id": "e22c4492",
   "metadata": {},
   "source": [
    "We could infer from above that null values present only in purpose column & there are 502 null values in the \"Purpose\" column."
   ]
  },
  {
   "cell_type": "markdown",
   "id": "0f01e58e",
   "metadata": {},
   "source": [
    "**How to impute these null values**?"
   ]
  },
  {
   "cell_type": "markdown",
   "id": "a0254c61",
   "metadata": {},
   "source": [
    "**1.if the null values are present in a categorical column,impute them with most frequently occuring values that is with the \"mode\"**"
   ]
  },
  {
   "cell_type": "markdown",
   "id": "8a279646",
   "metadata": {},
   "source": [
    "**2.if the null values are present in a continuous numerical value column,impute them with either the mean or median values.**"
   ]
  },
  {
   "cell_type": "code",
   "execution_count": 32,
   "id": "1301c53d",
   "metadata": {},
   "outputs": [
    {
     "data": {
      "text/plain": [
       "Meeting            187\n",
       "Meal/Entertain     160\n",
       "Errand/Supplies    128\n",
       "Customer Visit     101\n",
       "Temporary Site      50\n",
       "Between Offices     18\n",
       "Moving               4\n",
       "Airport/Travel       3\n",
       "Charity ($)          1\n",
       "Commute              1\n",
       "Name: PURPOSE*, dtype: int64"
      ]
     },
     "execution_count": 32,
     "metadata": {},
     "output_type": "execute_result"
    }
   ],
   "source": [
    "uber_df[\"PURPOSE*\"].value_counts()"
   ]
  },
  {
   "cell_type": "code",
   "execution_count": 33,
   "id": "d548b1cf",
   "metadata": {},
   "outputs": [
    {
     "data": {
      "text/plain": [
       "0        Meal/Entertain\n",
       "1               Meeting\n",
       "2       Errand/Supplies\n",
       "3               Meeting\n",
       "4        Customer Visit\n",
       "             ...       \n",
       "1150            Meeting\n",
       "1151     Temporary Site\n",
       "1152            Meeting\n",
       "1153     Temporary Site\n",
       "1154     Temporary Site\n",
       "Name: PURPOSE*, Length: 1155, dtype: object"
      ]
     },
     "execution_count": 33,
     "metadata": {},
     "output_type": "execute_result"
    }
   ],
   "source": [
    "uber_df[\"PURPOSE*\"].fillna(\"Meeting\") # this is only view..won't affect dataframe."
   ]
  },
  {
   "cell_type": "markdown",
   "id": "47d1ac1c",
   "metadata": {},
   "source": [
    "if you want the above imputation to reflect in the original dataset,use either of the two commands shown below."
   ]
  },
  {
   "cell_type": "code",
   "execution_count": 34,
   "id": "e45d93f7",
   "metadata": {},
   "outputs": [],
   "source": [
    "uber_df[\"PURPOSE\"]= uber_df[\"PURPOSE*\"].fillna(\"Meeting\") # assign the value"
   ]
  },
  {
   "cell_type": "markdown",
   "id": "6d023571",
   "metadata": {},
   "source": [
    "**OR**"
   ]
  },
  {
   "cell_type": "code",
   "execution_count": 35,
   "id": "ae19ce50",
   "metadata": {},
   "outputs": [],
   "source": [
    "uber_df[\"PURPOSE*\"].fillna(\"Meeting\",inplace= True) # Set the inplace parameter value to True"
   ]
  },
  {
   "cell_type": "code",
   "execution_count": 36,
   "id": "b1552c12",
   "metadata": {},
   "outputs": [
    {
     "data": {
      "text/plain": [
       "START_DATE*    0\n",
       "END_DATE*      0\n",
       "CATEGORY*      0\n",
       "START*         0\n",
       "STOP*          0\n",
       "MILES*         0\n",
       "PURPOSE*       0\n",
       "PURPOSE        0\n",
       "dtype: int64"
      ]
     },
     "execution_count": 36,
     "metadata": {},
     "output_type": "execute_result"
    }
   ],
   "source": [
    "uber_df.isnull().sum() \n",
    "\n",
    "# checking the imputation being reflected on original dataset"
   ]
  },
  {
   "cell_type": "markdown",
   "id": "e0120c11",
   "metadata": {},
   "source": [
    "So,We could confirm from above code that there are no null values in datasets."
   ]
  },
  {
   "cell_type": "code",
   "execution_count": null,
   "id": "c8c85246",
   "metadata": {},
   "outputs": [],
   "source": [
    "References\n",
    "\n",
    "1. "
   ]
  }
 ],
 "metadata": {
  "kernelspec": {
   "display_name": "Python 3 (ipykernel)",
   "language": "python",
   "name": "python3"
  },
  "language_info": {
   "codemirror_mode": {
    "name": "ipython",
    "version": 3
   },
   "file_extension": ".py",
   "mimetype": "text/x-python",
   "name": "python",
   "nbconvert_exporter": "python",
   "pygments_lexer": "ipython3",
   "version": "3.9.7"
  }
 },
 "nbformat": 4,
 "nbformat_minor": 5
}
