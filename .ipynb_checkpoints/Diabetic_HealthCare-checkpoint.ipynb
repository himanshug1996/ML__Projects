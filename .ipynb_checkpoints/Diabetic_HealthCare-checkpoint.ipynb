{
 "cells": [
  {
   "cell_type": "code",
   "execution_count": 1,
   "id": "007113f5",
   "metadata": {},
   "outputs": [],
   "source": [
    "import pandas as pd\n",
    "import seaborn as sns\n",
    "import numpy as np\n",
    "import matplotlib.pyplot as plt"
   ]
  },
  {
   "cell_type": "code",
   "execution_count": 2,
   "id": "61a8b6a0",
   "metadata": {},
   "outputs": [
    {
     "data": {
      "text/html": [
       "<div>\n",
       "<style scoped>\n",
       "    .dataframe tbody tr th:only-of-type {\n",
       "        vertical-align: middle;\n",
       "    }\n",
       "\n",
       "    .dataframe tbody tr th {\n",
       "        vertical-align: top;\n",
       "    }\n",
       "\n",
       "    .dataframe thead th {\n",
       "        text-align: right;\n",
       "    }\n",
       "</style>\n",
       "<table border=\"1\" class=\"dataframe\">\n",
       "  <thead>\n",
       "    <tr style=\"text-align: right;\">\n",
       "      <th></th>\n",
       "      <th>Pregnancies</th>\n",
       "      <th>Glucose</th>\n",
       "      <th>BloodPressure</th>\n",
       "      <th>SkinThickness</th>\n",
       "      <th>Insulin</th>\n",
       "      <th>BMI</th>\n",
       "      <th>DiabetesPedigreeFunction</th>\n",
       "      <th>Age</th>\n",
       "      <th>Outcome</th>\n",
       "    </tr>\n",
       "  </thead>\n",
       "  <tbody>\n",
       "    <tr>\n",
       "      <th>0</th>\n",
       "      <td>6</td>\n",
       "      <td>148</td>\n",
       "      <td>72</td>\n",
       "      <td>35</td>\n",
       "      <td>0</td>\n",
       "      <td>33.6</td>\n",
       "      <td>0.627</td>\n",
       "      <td>50</td>\n",
       "      <td>1</td>\n",
       "    </tr>\n",
       "    <tr>\n",
       "      <th>1</th>\n",
       "      <td>1</td>\n",
       "      <td>85</td>\n",
       "      <td>66</td>\n",
       "      <td>29</td>\n",
       "      <td>0</td>\n",
       "      <td>26.6</td>\n",
       "      <td>0.351</td>\n",
       "      <td>31</td>\n",
       "      <td>0</td>\n",
       "    </tr>\n",
       "    <tr>\n",
       "      <th>2</th>\n",
       "      <td>8</td>\n",
       "      <td>183</td>\n",
       "      <td>64</td>\n",
       "      <td>0</td>\n",
       "      <td>0</td>\n",
       "      <td>23.3</td>\n",
       "      <td>0.672</td>\n",
       "      <td>32</td>\n",
       "      <td>1</td>\n",
       "    </tr>\n",
       "    <tr>\n",
       "      <th>3</th>\n",
       "      <td>1</td>\n",
       "      <td>89</td>\n",
       "      <td>66</td>\n",
       "      <td>23</td>\n",
       "      <td>94</td>\n",
       "      <td>28.1</td>\n",
       "      <td>0.167</td>\n",
       "      <td>21</td>\n",
       "      <td>0</td>\n",
       "    </tr>\n",
       "    <tr>\n",
       "      <th>4</th>\n",
       "      <td>0</td>\n",
       "      <td>137</td>\n",
       "      <td>40</td>\n",
       "      <td>35</td>\n",
       "      <td>168</td>\n",
       "      <td>43.1</td>\n",
       "      <td>2.288</td>\n",
       "      <td>33</td>\n",
       "      <td>1</td>\n",
       "    </tr>\n",
       "  </tbody>\n",
       "</table>\n",
       "</div>"
      ],
      "text/plain": [
       "   Pregnancies  Glucose  BloodPressure  SkinThickness  Insulin   BMI  \\\n",
       "0            6      148             72             35        0  33.6   \n",
       "1            1       85             66             29        0  26.6   \n",
       "2            8      183             64              0        0  23.3   \n",
       "3            1       89             66             23       94  28.1   \n",
       "4            0      137             40             35      168  43.1   \n",
       "\n",
       "   DiabetesPedigreeFunction  Age  Outcome  \n",
       "0                     0.627   50        1  \n",
       "1                     0.351   31        0  \n",
       "2                     0.672   32        1  \n",
       "3                     0.167   21        0  \n",
       "4                     2.288   33        1  "
      ]
     },
     "execution_count": 2,
     "metadata": {},
     "output_type": "execute_result"
    }
   ],
   "source": [
    "df = pd.read_csv(r\"C:\\Users\\HP\\Desktop\\Data_Science\\CapStone\\Data-Science-Capstone-Projects-master\\Project_2\\HealthcareDiabetes\\Health_care_Diabetes.csv\")\n",
    "df.head()"
   ]
  },
  {
   "cell_type": "code",
   "execution_count": 3,
   "id": "1b135d9a",
   "metadata": {},
   "outputs": [
    {
     "data": {
      "text/plain": [
       "'C:\\\\Users\\\\HP\\\\Documents\\\\My_Notebooks'"
      ]
     },
     "execution_count": 3,
     "metadata": {},
     "output_type": "execute_result"
    }
   ],
   "source": [
    "import os\n",
    "os.getcwd()"
   ]
  },
  {
   "cell_type": "code",
   "execution_count": 4,
   "id": "24a823f5",
   "metadata": {},
   "outputs": [
    {
     "data": {
      "text/plain": [
       "['.condarc',\n",
       " '.ipynb_checkpoints',\n",
       " 'C10.1_ML_PCa_LdA_VB.ipynb',\n",
       " 'C10_ML_Hier_Agglo.ipynb',\n",
       " 'C10_Pandas_overview...ipynb',\n",
       " 'C11_VB_Chi-Square Test.ipynb',\n",
       " 'C7_VB_Matplotlib.ipynb',\n",
       " 'C8_ML_CrossValidation_XGBoost.ipynb',\n",
       " 'C9_DS_Webscraping.ipynb',\n",
       " 'C9_ML_Partitional_Clustering_Techniques.ipynb',\n",
       " 'Class 5 NumPy VB.ipynb',\n",
       " 'Cubic_Function.png',\n",
       " 'Data_Pre.ipynb',\n",
       " 'Data_Preprocessing.ipynb',\n",
       " 'Decision_Tree _KNN_Algo.ipynb',\n",
       " 'Diabetic_HealthCare.ipynb',\n",
       " 'Ensemble_Demo_Full.ipynb',\n",
       " 'health care diabetes new.csv',\n",
       " 'Income_Qualification.ipynb',\n",
       " 'Item_based_CF_Recommender_System.ipynb',\n",
       " 'Linear_Regression.ipynb',\n",
       " 'LogReg_Demo.ipynb',\n",
       " 'movie_ratings.csv',\n",
       " 'movie_ratings2',\n",
       " 'movie_ratings_without_row_label.csv',\n",
       " 'mtcars.ipynb',\n",
       " 'mtcars2.ipynb']"
      ]
     },
     "execution_count": 4,
     "metadata": {},
     "output_type": "execute_result"
    }
   ],
   "source": [
    "os.listdir(os.getcwd())"
   ]
  },
  {
   "cell_type": "markdown",
   "id": "b001d0cc",
   "metadata": {},
   "source": [
    "# Week No. 1,Task No.1"
   ]
  },
  {
   "cell_type": "markdown",
   "id": "8ca089b0",
   "metadata": {},
   "source": [
    "**Decriptive Analysis**"
   ]
  },
  {
   "cell_type": "markdown",
   "id": "96a072c6",
   "metadata": {},
   "source": [
    "\n",
    "**1. Perform descriptive analysis. Understand the variables and their corresponding values.\n",
    "On the columns below, a value of zero does not make sense and thus indicates missing\n",
    "value**\n",
    "\n",
    "• Glucose\n",
    "\n",
    "• BloodPressure\n",
    "\n",
    "• SkinThickness\n",
    "\n",
    "• Insulin\n",
    "\n",
    "• BMI\n"
   ]
  },
  {
   "cell_type": "markdown",
   "id": "26c2479c",
   "metadata": {},
   "source": [
    "**It is a summary statistic that quantitatively describes or summarizes features from a collection of information.**"
   ]
  },
  {
   "cell_type": "code",
   "execution_count": 5,
   "id": "1ab3e13b",
   "metadata": {},
   "outputs": [
    {
     "data": {
      "text/html": [
       "<div>\n",
       "<style scoped>\n",
       "    .dataframe tbody tr th:only-of-type {\n",
       "        vertical-align: middle;\n",
       "    }\n",
       "\n",
       "    .dataframe tbody tr th {\n",
       "        vertical-align: top;\n",
       "    }\n",
       "\n",
       "    .dataframe thead th {\n",
       "        text-align: right;\n",
       "    }\n",
       "</style>\n",
       "<table border=\"1\" class=\"dataframe\">\n",
       "  <thead>\n",
       "    <tr style=\"text-align: right;\">\n",
       "      <th></th>\n",
       "      <th>Pregnancies</th>\n",
       "      <th>Glucose</th>\n",
       "      <th>BloodPressure</th>\n",
       "      <th>SkinThickness</th>\n",
       "      <th>Insulin</th>\n",
       "      <th>BMI</th>\n",
       "      <th>DiabetesPedigreeFunction</th>\n",
       "      <th>Age</th>\n",
       "      <th>Outcome</th>\n",
       "    </tr>\n",
       "  </thead>\n",
       "  <tbody>\n",
       "    <tr>\n",
       "      <th>0</th>\n",
       "      <td>6</td>\n",
       "      <td>148</td>\n",
       "      <td>72</td>\n",
       "      <td>35</td>\n",
       "      <td>0</td>\n",
       "      <td>33.6</td>\n",
       "      <td>0.627</td>\n",
       "      <td>50</td>\n",
       "      <td>1</td>\n",
       "    </tr>\n",
       "    <tr>\n",
       "      <th>1</th>\n",
       "      <td>1</td>\n",
       "      <td>85</td>\n",
       "      <td>66</td>\n",
       "      <td>29</td>\n",
       "      <td>0</td>\n",
       "      <td>26.6</td>\n",
       "      <td>0.351</td>\n",
       "      <td>31</td>\n",
       "      <td>0</td>\n",
       "    </tr>\n",
       "    <tr>\n",
       "      <th>2</th>\n",
       "      <td>8</td>\n",
       "      <td>183</td>\n",
       "      <td>64</td>\n",
       "      <td>0</td>\n",
       "      <td>0</td>\n",
       "      <td>23.3</td>\n",
       "      <td>0.672</td>\n",
       "      <td>32</td>\n",
       "      <td>1</td>\n",
       "    </tr>\n",
       "    <tr>\n",
       "      <th>3</th>\n",
       "      <td>1</td>\n",
       "      <td>89</td>\n",
       "      <td>66</td>\n",
       "      <td>23</td>\n",
       "      <td>94</td>\n",
       "      <td>28.1</td>\n",
       "      <td>0.167</td>\n",
       "      <td>21</td>\n",
       "      <td>0</td>\n",
       "    </tr>\n",
       "    <tr>\n",
       "      <th>4</th>\n",
       "      <td>0</td>\n",
       "      <td>137</td>\n",
       "      <td>40</td>\n",
       "      <td>35</td>\n",
       "      <td>168</td>\n",
       "      <td>43.1</td>\n",
       "      <td>2.288</td>\n",
       "      <td>33</td>\n",
       "      <td>1</td>\n",
       "    </tr>\n",
       "  </tbody>\n",
       "</table>\n",
       "</div>"
      ],
      "text/plain": [
       "   Pregnancies  Glucose  BloodPressure  SkinThickness  Insulin   BMI  \\\n",
       "0            6      148             72             35        0  33.6   \n",
       "1            1       85             66             29        0  26.6   \n",
       "2            8      183             64              0        0  23.3   \n",
       "3            1       89             66             23       94  28.1   \n",
       "4            0      137             40             35      168  43.1   \n",
       "\n",
       "   DiabetesPedigreeFunction  Age  Outcome  \n",
       "0                     0.627   50        1  \n",
       "1                     0.351   31        0  \n",
       "2                     0.672   32        1  \n",
       "3                     0.167   21        0  \n",
       "4                     2.288   33        1  "
      ]
     },
     "execution_count": 5,
     "metadata": {},
     "output_type": "execute_result"
    }
   ],
   "source": [
    "df.head()"
   ]
  },
  {
   "cell_type": "code",
   "execution_count": 6,
   "id": "1e4074cf",
   "metadata": {},
   "outputs": [
    {
     "data": {
      "text/plain": [
       "17"
      ]
     },
     "execution_count": 6,
     "metadata": {},
     "output_type": "execute_result"
    }
   ],
   "source": [
    "df['Pregnancies'].max()"
   ]
  },
  {
   "cell_type": "code",
   "execution_count": 7,
   "id": "dcb83cab",
   "metadata": {},
   "outputs": [
    {
     "data": {
      "text/plain": [
       "0"
      ]
     },
     "execution_count": 7,
     "metadata": {},
     "output_type": "execute_result"
    }
   ],
   "source": [
    "df['Pregnancies'].min()"
   ]
  },
  {
   "cell_type": "code",
   "execution_count": 8,
   "id": "59a6ae72",
   "metadata": {},
   "outputs": [
    {
     "data": {
      "text/plain": [
       "199"
      ]
     },
     "execution_count": 8,
     "metadata": {},
     "output_type": "execute_result"
    }
   ],
   "source": [
    "df['Glucose'].max()"
   ]
  },
  {
   "cell_type": "code",
   "execution_count": 9,
   "id": "3e400167",
   "metadata": {},
   "outputs": [
    {
     "data": {
      "text/plain": [
       "0"
      ]
     },
     "execution_count": 9,
     "metadata": {},
     "output_type": "execute_result"
    }
   ],
   "source": [
    "df['Glucose'].min()"
   ]
  },
  {
   "cell_type": "code",
   "execution_count": 10,
   "id": "3a1a2e73",
   "metadata": {},
   "outputs": [
    {
     "data": {
      "text/html": [
       "<div>\n",
       "<style scoped>\n",
       "    .dataframe tbody tr th:only-of-type {\n",
       "        vertical-align: middle;\n",
       "    }\n",
       "\n",
       "    .dataframe tbody tr th {\n",
       "        vertical-align: top;\n",
       "    }\n",
       "\n",
       "    .dataframe thead th {\n",
       "        text-align: right;\n",
       "    }\n",
       "</style>\n",
       "<table border=\"1\" class=\"dataframe\">\n",
       "  <thead>\n",
       "    <tr style=\"text-align: right;\">\n",
       "      <th></th>\n",
       "      <th>Pregnancies</th>\n",
       "      <th>Glucose</th>\n",
       "      <th>BloodPressure</th>\n",
       "      <th>SkinThickness</th>\n",
       "      <th>Insulin</th>\n",
       "      <th>BMI</th>\n",
       "      <th>DiabetesPedigreeFunction</th>\n",
       "      <th>Age</th>\n",
       "      <th>Outcome</th>\n",
       "    </tr>\n",
       "  </thead>\n",
       "  <tbody>\n",
       "    <tr>\n",
       "      <th>count</th>\n",
       "      <td>768.000000</td>\n",
       "      <td>768.000000</td>\n",
       "      <td>768.000000</td>\n",
       "      <td>768.000000</td>\n",
       "      <td>768.000000</td>\n",
       "      <td>768.000000</td>\n",
       "      <td>768.000000</td>\n",
       "      <td>768.000000</td>\n",
       "      <td>768.000000</td>\n",
       "    </tr>\n",
       "    <tr>\n",
       "      <th>mean</th>\n",
       "      <td>3.845052</td>\n",
       "      <td>120.894531</td>\n",
       "      <td>69.105469</td>\n",
       "      <td>20.536458</td>\n",
       "      <td>79.799479</td>\n",
       "      <td>31.992578</td>\n",
       "      <td>0.471876</td>\n",
       "      <td>33.240885</td>\n",
       "      <td>0.348958</td>\n",
       "    </tr>\n",
       "    <tr>\n",
       "      <th>std</th>\n",
       "      <td>3.369578</td>\n",
       "      <td>31.972618</td>\n",
       "      <td>19.355807</td>\n",
       "      <td>15.952218</td>\n",
       "      <td>115.244002</td>\n",
       "      <td>7.884160</td>\n",
       "      <td>0.331329</td>\n",
       "      <td>11.760232</td>\n",
       "      <td>0.476951</td>\n",
       "    </tr>\n",
       "    <tr>\n",
       "      <th>min</th>\n",
       "      <td>0.000000</td>\n",
       "      <td>0.000000</td>\n",
       "      <td>0.000000</td>\n",
       "      <td>0.000000</td>\n",
       "      <td>0.000000</td>\n",
       "      <td>0.000000</td>\n",
       "      <td>0.078000</td>\n",
       "      <td>21.000000</td>\n",
       "      <td>0.000000</td>\n",
       "    </tr>\n",
       "    <tr>\n",
       "      <th>25%</th>\n",
       "      <td>1.000000</td>\n",
       "      <td>99.000000</td>\n",
       "      <td>62.000000</td>\n",
       "      <td>0.000000</td>\n",
       "      <td>0.000000</td>\n",
       "      <td>27.300000</td>\n",
       "      <td>0.243750</td>\n",
       "      <td>24.000000</td>\n",
       "      <td>0.000000</td>\n",
       "    </tr>\n",
       "    <tr>\n",
       "      <th>50%</th>\n",
       "      <td>3.000000</td>\n",
       "      <td>117.000000</td>\n",
       "      <td>72.000000</td>\n",
       "      <td>23.000000</td>\n",
       "      <td>30.500000</td>\n",
       "      <td>32.000000</td>\n",
       "      <td>0.372500</td>\n",
       "      <td>29.000000</td>\n",
       "      <td>0.000000</td>\n",
       "    </tr>\n",
       "    <tr>\n",
       "      <th>75%</th>\n",
       "      <td>6.000000</td>\n",
       "      <td>140.250000</td>\n",
       "      <td>80.000000</td>\n",
       "      <td>32.000000</td>\n",
       "      <td>127.250000</td>\n",
       "      <td>36.600000</td>\n",
       "      <td>0.626250</td>\n",
       "      <td>41.000000</td>\n",
       "      <td>1.000000</td>\n",
       "    </tr>\n",
       "    <tr>\n",
       "      <th>max</th>\n",
       "      <td>17.000000</td>\n",
       "      <td>199.000000</td>\n",
       "      <td>122.000000</td>\n",
       "      <td>99.000000</td>\n",
       "      <td>846.000000</td>\n",
       "      <td>67.100000</td>\n",
       "      <td>2.420000</td>\n",
       "      <td>81.000000</td>\n",
       "      <td>1.000000</td>\n",
       "    </tr>\n",
       "  </tbody>\n",
       "</table>\n",
       "</div>"
      ],
      "text/plain": [
       "       Pregnancies     Glucose  BloodPressure  SkinThickness     Insulin  \\\n",
       "count   768.000000  768.000000     768.000000     768.000000  768.000000   \n",
       "mean      3.845052  120.894531      69.105469      20.536458   79.799479   \n",
       "std       3.369578   31.972618      19.355807      15.952218  115.244002   \n",
       "min       0.000000    0.000000       0.000000       0.000000    0.000000   \n",
       "25%       1.000000   99.000000      62.000000       0.000000    0.000000   \n",
       "50%       3.000000  117.000000      72.000000      23.000000   30.500000   \n",
       "75%       6.000000  140.250000      80.000000      32.000000  127.250000   \n",
       "max      17.000000  199.000000     122.000000      99.000000  846.000000   \n",
       "\n",
       "              BMI  DiabetesPedigreeFunction         Age     Outcome  \n",
       "count  768.000000                768.000000  768.000000  768.000000  \n",
       "mean    31.992578                  0.471876   33.240885    0.348958  \n",
       "std      7.884160                  0.331329   11.760232    0.476951  \n",
       "min      0.000000                  0.078000   21.000000    0.000000  \n",
       "25%     27.300000                  0.243750   24.000000    0.000000  \n",
       "50%     32.000000                  0.372500   29.000000    0.000000  \n",
       "75%     36.600000                  0.626250   41.000000    1.000000  \n",
       "max     67.100000                  2.420000   81.000000    1.000000  "
      ]
     },
     "execution_count": 10,
     "metadata": {},
     "output_type": "execute_result"
    }
   ],
   "source": [
    "df.describe(include = \"all\")"
   ]
  },
  {
   "cell_type": "markdown",
   "id": "09bde18d",
   "metadata": {},
   "source": [
    "**Here,We Could infer that there is far difference in mean & median(50%) values of \"Insulin\" & \"Age\" columns in this dataset.**"
   ]
  },
  {
   "cell_type": "code",
   "execution_count": 11,
   "id": "a50b8f75",
   "metadata": {},
   "outputs": [
    {
     "data": {
      "text/plain": [
       "Pregnancies                   int64\n",
       "Glucose                       int64\n",
       "BloodPressure                 int64\n",
       "SkinThickness                 int64\n",
       "Insulin                       int64\n",
       "BMI                         float64\n",
       "DiabetesPedigreeFunction    float64\n",
       "Age                           int64\n",
       "Outcome                       int64\n",
       "dtype: object"
      ]
     },
     "execution_count": 11,
     "metadata": {},
     "output_type": "execute_result"
    }
   ],
   "source": [
    "df.dtypes # type of features  & target variable in dataset.."
   ]
  },
  {
   "cell_type": "code",
   "execution_count": 12,
   "id": "3ca5142c",
   "metadata": {},
   "outputs": [
    {
     "name": "stdout",
     "output_type": "stream",
     "text": [
      "<class 'pandas.core.frame.DataFrame'>\n",
      "RangeIndex: 768 entries, 0 to 767\n",
      "Data columns (total 9 columns):\n",
      " #   Column                    Non-Null Count  Dtype  \n",
      "---  ------                    --------------  -----  \n",
      " 0   Pregnancies               768 non-null    int64  \n",
      " 1   Glucose                   768 non-null    int64  \n",
      " 2   BloodPressure             768 non-null    int64  \n",
      " 3   SkinThickness             768 non-null    int64  \n",
      " 4   Insulin                   768 non-null    int64  \n",
      " 5   BMI                       768 non-null    float64\n",
      " 6   DiabetesPedigreeFunction  768 non-null    float64\n",
      " 7   Age                       768 non-null    int64  \n",
      " 8   Outcome                   768 non-null    int64  \n",
      "dtypes: float64(2), int64(7)\n",
      "memory usage: 54.1 KB\n"
     ]
    }
   ],
   "source": [
    "df.info() # here,we can get glimpse of dataset columns.."
   ]
  },
  {
   "cell_type": "code",
   "execution_count": 13,
   "id": "13d73ea4",
   "metadata": {},
   "outputs": [
    {
     "data": {
      "text/plain": [
       "Pregnancies                 0\n",
       "Glucose                     0\n",
       "BloodPressure               0\n",
       "SkinThickness               0\n",
       "Insulin                     0\n",
       "BMI                         0\n",
       "DiabetesPedigreeFunction    0\n",
       "Age                         0\n",
       "Outcome                     0\n",
       "dtype: int64"
      ]
     },
     "execution_count": 13,
     "metadata": {},
     "output_type": "execute_result"
    }
   ],
   "source": [
    "df.isnull().sum() # To get the how many null values are there in the each columns.."
   ]
  },
  {
   "cell_type": "markdown",
   "id": "fa164f41",
   "metadata": {},
   "source": [
    "**Correlation** explains how one or more variables are related to each other."
   ]
  },
  {
   "cell_type": "code",
   "execution_count": 14,
   "id": "fa56cceb",
   "metadata": {},
   "outputs": [
    {
     "data": {
      "text/html": [
       "<div>\n",
       "<style scoped>\n",
       "    .dataframe tbody tr th:only-of-type {\n",
       "        vertical-align: middle;\n",
       "    }\n",
       "\n",
       "    .dataframe tbody tr th {\n",
       "        vertical-align: top;\n",
       "    }\n",
       "\n",
       "    .dataframe thead th {\n",
       "        text-align: right;\n",
       "    }\n",
       "</style>\n",
       "<table border=\"1\" class=\"dataframe\">\n",
       "  <thead>\n",
       "    <tr style=\"text-align: right;\">\n",
       "      <th></th>\n",
       "      <th>Pregnancies</th>\n",
       "      <th>Glucose</th>\n",
       "      <th>BloodPressure</th>\n",
       "      <th>SkinThickness</th>\n",
       "      <th>Insulin</th>\n",
       "      <th>BMI</th>\n",
       "      <th>DiabetesPedigreeFunction</th>\n",
       "      <th>Age</th>\n",
       "      <th>Outcome</th>\n",
       "    </tr>\n",
       "  </thead>\n",
       "  <tbody>\n",
       "    <tr>\n",
       "      <th>Pregnancies</th>\n",
       "      <td>1.000000</td>\n",
       "      <td>0.129459</td>\n",
       "      <td>0.141282</td>\n",
       "      <td>-0.081672</td>\n",
       "      <td>-0.073535</td>\n",
       "      <td>0.017683</td>\n",
       "      <td>-0.033523</td>\n",
       "      <td>0.544341</td>\n",
       "      <td>0.221898</td>\n",
       "    </tr>\n",
       "    <tr>\n",
       "      <th>Glucose</th>\n",
       "      <td>0.129459</td>\n",
       "      <td>1.000000</td>\n",
       "      <td>0.152590</td>\n",
       "      <td>0.057328</td>\n",
       "      <td>0.331357</td>\n",
       "      <td>0.221071</td>\n",
       "      <td>0.137337</td>\n",
       "      <td>0.263514</td>\n",
       "      <td>0.466581</td>\n",
       "    </tr>\n",
       "    <tr>\n",
       "      <th>BloodPressure</th>\n",
       "      <td>0.141282</td>\n",
       "      <td>0.152590</td>\n",
       "      <td>1.000000</td>\n",
       "      <td>0.207371</td>\n",
       "      <td>0.088933</td>\n",
       "      <td>0.281805</td>\n",
       "      <td>0.041265</td>\n",
       "      <td>0.239528</td>\n",
       "      <td>0.065068</td>\n",
       "    </tr>\n",
       "    <tr>\n",
       "      <th>SkinThickness</th>\n",
       "      <td>-0.081672</td>\n",
       "      <td>0.057328</td>\n",
       "      <td>0.207371</td>\n",
       "      <td>1.000000</td>\n",
       "      <td>0.436783</td>\n",
       "      <td>0.392573</td>\n",
       "      <td>0.183928</td>\n",
       "      <td>-0.113970</td>\n",
       "      <td>0.074752</td>\n",
       "    </tr>\n",
       "    <tr>\n",
       "      <th>Insulin</th>\n",
       "      <td>-0.073535</td>\n",
       "      <td>0.331357</td>\n",
       "      <td>0.088933</td>\n",
       "      <td>0.436783</td>\n",
       "      <td>1.000000</td>\n",
       "      <td>0.197859</td>\n",
       "      <td>0.185071</td>\n",
       "      <td>-0.042163</td>\n",
       "      <td>0.130548</td>\n",
       "    </tr>\n",
       "    <tr>\n",
       "      <th>BMI</th>\n",
       "      <td>0.017683</td>\n",
       "      <td>0.221071</td>\n",
       "      <td>0.281805</td>\n",
       "      <td>0.392573</td>\n",
       "      <td>0.197859</td>\n",
       "      <td>1.000000</td>\n",
       "      <td>0.140647</td>\n",
       "      <td>0.036242</td>\n",
       "      <td>0.292695</td>\n",
       "    </tr>\n",
       "    <tr>\n",
       "      <th>DiabetesPedigreeFunction</th>\n",
       "      <td>-0.033523</td>\n",
       "      <td>0.137337</td>\n",
       "      <td>0.041265</td>\n",
       "      <td>0.183928</td>\n",
       "      <td>0.185071</td>\n",
       "      <td>0.140647</td>\n",
       "      <td>1.000000</td>\n",
       "      <td>0.033561</td>\n",
       "      <td>0.173844</td>\n",
       "    </tr>\n",
       "    <tr>\n",
       "      <th>Age</th>\n",
       "      <td>0.544341</td>\n",
       "      <td>0.263514</td>\n",
       "      <td>0.239528</td>\n",
       "      <td>-0.113970</td>\n",
       "      <td>-0.042163</td>\n",
       "      <td>0.036242</td>\n",
       "      <td>0.033561</td>\n",
       "      <td>1.000000</td>\n",
       "      <td>0.238356</td>\n",
       "    </tr>\n",
       "    <tr>\n",
       "      <th>Outcome</th>\n",
       "      <td>0.221898</td>\n",
       "      <td>0.466581</td>\n",
       "      <td>0.065068</td>\n",
       "      <td>0.074752</td>\n",
       "      <td>0.130548</td>\n",
       "      <td>0.292695</td>\n",
       "      <td>0.173844</td>\n",
       "      <td>0.238356</td>\n",
       "      <td>1.000000</td>\n",
       "    </tr>\n",
       "  </tbody>\n",
       "</table>\n",
       "</div>"
      ],
      "text/plain": [
       "                          Pregnancies   Glucose  BloodPressure  SkinThickness  \\\n",
       "Pregnancies                  1.000000  0.129459       0.141282      -0.081672   \n",
       "Glucose                      0.129459  1.000000       0.152590       0.057328   \n",
       "BloodPressure                0.141282  0.152590       1.000000       0.207371   \n",
       "SkinThickness               -0.081672  0.057328       0.207371       1.000000   \n",
       "Insulin                     -0.073535  0.331357       0.088933       0.436783   \n",
       "BMI                          0.017683  0.221071       0.281805       0.392573   \n",
       "DiabetesPedigreeFunction    -0.033523  0.137337       0.041265       0.183928   \n",
       "Age                          0.544341  0.263514       0.239528      -0.113970   \n",
       "Outcome                      0.221898  0.466581       0.065068       0.074752   \n",
       "\n",
       "                           Insulin       BMI  DiabetesPedigreeFunction  \\\n",
       "Pregnancies              -0.073535  0.017683                 -0.033523   \n",
       "Glucose                   0.331357  0.221071                  0.137337   \n",
       "BloodPressure             0.088933  0.281805                  0.041265   \n",
       "SkinThickness             0.436783  0.392573                  0.183928   \n",
       "Insulin                   1.000000  0.197859                  0.185071   \n",
       "BMI                       0.197859  1.000000                  0.140647   \n",
       "DiabetesPedigreeFunction  0.185071  0.140647                  1.000000   \n",
       "Age                      -0.042163  0.036242                  0.033561   \n",
       "Outcome                   0.130548  0.292695                  0.173844   \n",
       "\n",
       "                               Age   Outcome  \n",
       "Pregnancies               0.544341  0.221898  \n",
       "Glucose                   0.263514  0.466581  \n",
       "BloodPressure             0.239528  0.065068  \n",
       "SkinThickness            -0.113970  0.074752  \n",
       "Insulin                  -0.042163  0.130548  \n",
       "BMI                       0.036242  0.292695  \n",
       "DiabetesPedigreeFunction  0.033561  0.173844  \n",
       "Age                       1.000000  0.238356  \n",
       "Outcome                   0.238356  1.000000  "
      ]
     },
     "execution_count": 14,
     "metadata": {},
     "output_type": "execute_result"
    }
   ],
   "source": [
    "df.corr() # All the diagonal values are 1."
   ]
  },
  {
   "cell_type": "code",
   "execution_count": 15,
   "id": "3e8d3d2c",
   "metadata": {},
   "outputs": [
    {
     "data": {
      "text/plain": [
       "<AxesSubplot:>"
      ]
     },
     "execution_count": 15,
     "metadata": {},
     "output_type": "execute_result"
    },
    {
     "data": {
      "image/png": "[encoded data removed]",
      "text/plain": [
       "<Figure size 432x288 with 1 Axes>"
      ]
     },
     "metadata": {
      "needs_background": "light"
     },
     "output_type": "display_data"
    }
   ],
   "source": [
    "sns.heatmap(df.isnull(),yticklabels = False,cbar=False,cmap = 'Accent')"
   ]
  },
  {
   "cell_type": "code",
   "execution_count": 16,
   "id": "b778b00f",
   "metadata": {},
   "outputs": [
    {
     "data": {
      "image/png": "[encoded data removed]",
      "text/plain": [
       "<Figure size 864x576 with 1 Axes>"
      ]
     },
     "metadata": {
      "needs_background": "light"
     },
     "output_type": "display_data"
    }
   ],
   "source": [
    "plt.figure(figsize=(12,8))\n",
    "df.boxplot();"
   ]
  },
  {
   "cell_type": "code",
   "execution_count": 17,
   "id": "e610e37a",
   "metadata": {},
   "outputs": [
    {
     "data": {
      "text/plain": [
       "Index(['Pregnancies', 'Glucose', 'BloodPressure', 'SkinThickness', 'Insulin',\n",
       "       'BMI', 'DiabetesPedigreeFunction', 'Age', 'Outcome'],\n",
       "      dtype='object')"
      ]
     },
     "execution_count": 17,
     "metadata": {},
     "output_type": "execute_result"
    }
   ],
   "source": [
    "df.columns"
   ]
  },
  {
   "cell_type": "code",
   "execution_count": 18,
   "id": "30e51292",
   "metadata": {},
   "outputs": [
    {
     "data": {
      "text/plain": [
       "Pregnancies                 0\n",
       "Glucose                     0\n",
       "BloodPressure               0\n",
       "SkinThickness               0\n",
       "Insulin                     0\n",
       "BMI                         0\n",
       "DiabetesPedigreeFunction    0\n",
       "Age                         0\n",
       "Outcome                     0\n",
       "dtype: int64"
      ]
     },
     "execution_count": 18,
     "metadata": {},
     "output_type": "execute_result"
    }
   ],
   "source": [
    "df.isnull().sum()"
   ]
  },
  {
   "cell_type": "code",
   "execution_count": 19,
   "id": "266543a8",
   "metadata": {},
   "outputs": [
    {
     "name": "stdout",
     "output_type": "stream",
     "text": [
      "Glucose\n",
      "0.006510416666666667 \n",
      "\n",
      "\n",
      "BloodPressure\n",
      "0.045572916666666664 \n",
      "\n",
      "\n",
      "SkinThickness\n",
      "0.2955729166666667 \n",
      "\n",
      "\n",
      "Insulin\n",
      "0.4869791666666667 \n",
      "\n",
      "\n",
      "BMI\n",
      "0.014322916666666666 \n",
      "\n",
      "\n"
     ]
    }
   ],
   "source": [
    "for i in ['Glucose', 'BloodPressure', 'SkinThickness', 'Insulin','BMI']:\n",
    "    print(i)\n",
    "    print(df[i].value_counts(normalize=True)[0],\"\\n\\n\")"
   ]
  },
  {
   "cell_type": "code",
   "execution_count": 20,
   "id": "bd4385be",
   "metadata": {},
   "outputs": [
    {
     "data": {
      "text/plain": [
       "125.0"
      ]
     },
     "execution_count": 20,
     "metadata": {},
     "output_type": "execute_result"
    }
   ],
   "source": [
    "df[df[\"Insulin\"]!=0][\"Insulin\"].median() # checking the median value of \"Insulin\" column"
   ]
  },
  {
   "cell_type": "code",
   "execution_count": 21,
   "id": "3b2327e8",
   "metadata": {},
   "outputs": [
    {
     "data": {
      "text/plain": [
       "29.0"
      ]
     },
     "execution_count": 21,
     "metadata": {},
     "output_type": "execute_result"
    }
   ],
   "source": [
    "df[df[\"Age\"]!=0][\"Age\"].median() # checking the median value of \"Age\" column"
   ]
  },
  {
   "cell_type": "markdown",
   "id": "6337b4f7",
   "metadata": {},
   "source": [
    "**Replacing zeros with Median values**"
   ]
  },
  {
   "cell_type": "code",
   "execution_count": 22,
   "id": "deab78a2",
   "metadata": {},
   "outputs": [
    {
     "name": "stdout",
     "output_type": "stream",
     "text": [
      "Glucose\n",
      "117.0\n",
      "BloodPressure\n",
      "72.0\n",
      "SkinThickness\n",
      "29.0\n",
      "Insulin\n",
      "125.0\n",
      "BMI\n",
      "32.3\n"
     ]
    }
   ],
   "source": [
    "for i in ['Glucose', 'BloodPressure', 'SkinThickness', 'Insulin','BMI']:\n",
    "    print(i)\n",
    "    \n",
    "    # print(df[df[i]!=0][i].median(),\"\\n\\n\")\n",
    "    \n",
    "    median_value = df[df[i]!=0][i].median() # df[df[i]!=0][i]-->Finding non-zero data points..\n",
    "    \n",
    "    print(median_value)\n",
    "    \n",
    "    df[i].replace(0,median_value,inplace=True)"
   ]
  },
  {
   "cell_type": "code",
   "execution_count": 23,
   "id": "4a9a513d",
   "metadata": {},
   "outputs": [
    {
     "data": {
      "text/plain": [
       "Pregnancies                 0\n",
       "Glucose                     0\n",
       "BloodPressure               0\n",
       "SkinThickness               0\n",
       "Insulin                     0\n",
       "BMI                         0\n",
       "DiabetesPedigreeFunction    0\n",
       "Age                         0\n",
       "Outcome                     0\n",
       "dtype: int64"
      ]
     },
     "execution_count": 23,
     "metadata": {},
     "output_type": "execute_result"
    }
   ],
   "source": [
    "df[df[['Glucose', 'BloodPressure', 'SkinThickness', 'Insulin','BMI']]==0].count() \n",
    "\n",
    "# checking whether change has impacted data or not here in this case it is impacted & changes has been made.."
   ]
  },
  {
   "cell_type": "markdown",
   "id": "fd503109",
   "metadata": {},
   "source": [
    "# Task No.2"
   ]
  },
  {
   "cell_type": "markdown",
   "id": "4a51ad6b",
   "metadata": {},
   "source": [
    "**2. Visually explore these variables using histograms. Treat the missing values\n",
    "accordingly.**"
   ]
  },
  {
   "cell_type": "code",
   "execution_count": 24,
   "id": "b0a2e0bf",
   "metadata": {},
   "outputs": [
    {
     "data": {
      "text/plain": [
       "Index(['Pregnancies', 'Glucose', 'BloodPressure', 'SkinThickness', 'Insulin',\n",
       "       'BMI', 'DiabetesPedigreeFunction', 'Age', 'Outcome'],\n",
       "      dtype='object')"
      ]
     },
     "execution_count": 24,
     "metadata": {},
     "output_type": "execute_result"
    }
   ],
   "source": [
    "df.columns"
   ]
  },
  {
   "cell_type": "markdown",
   "id": "a6ebcf9b",
   "metadata": {},
   "source": [
    "**Creating Histogram..**"
   ]
  },
  {
   "cell_type": "code",
   "execution_count": 25,
   "id": "f8f2e7b8",
   "metadata": {},
   "outputs": [
    {
     "name": "stdout",
     "output_type": "stream",
     "text": [
      "Glucose\n",
      "b\n"
     ]
    },
    {
     "data": {
      "image/png": "[encoded data removed]",
      "text/plain": [
       "<Figure size 432x288 with 1 Axes>"
      ]
     },
     "metadata": {
      "needs_background": "light"
     },
     "output_type": "display_data"
    },
    {
     "name": "stdout",
     "output_type": "stream",
     "text": [
      "BloodPressure\n",
      "g\n"
     ]
    },
    {
     "data": {
      "image/png": "[encoded data removed]",
      "text/plain": [
       "<Figure size 432x288 with 1 Axes>"
      ]
     },
     "metadata": {
      "needs_background": "light"
     },
     "output_type": "display_data"
    },
    {
     "name": "stdout",
     "output_type": "stream",
     "text": [
      "SkinThickness\n",
      "r\n"
     ]
    },
    {
     "data": {
      "image/png": "[encoded data removed]",
      "text/plain": [
       "<Figure size 432x288 with 1 Axes>"
      ]
     },
     "metadata": {
      "needs_background": "light"
     },
     "output_type": "display_data"
    },
    {
     "name": "stdout",
     "output_type": "stream",
     "text": [
      "Insulin\n",
      "c\n"
     ]
    },
    {
     "data": {
      "image/png": "[encoded data removed]",
      "text/plain": [
       "<Figure size 432x288 with 1 Axes>"
      ]
     },
     "metadata": {
      "needs_background": "light"
     },
     "output_type": "display_data"
    },
    {
     "name": "stdout",
     "output_type": "stream",
     "text": [
      "BMI\n",
      "y\n"
     ]
    },
    {
     "data": {
      "image/png": "[encoded data removed]",
      "text/plain": [
       "<Figure size 432x288 with 1 Axes>"
      ]
     },
     "metadata": {
      "needs_background": "light"
     },
     "output_type": "display_data"
    }
   ],
   "source": [
    "x =  ['Glucose', 'BloodPressure', 'SkinThickness', 'Insulin',\n",
    "       'BMI']\n",
    "\n",
    "color = ['b','g','r','c','y']\n",
    "\n",
    "for (i,j) in zip(x,color):\n",
    "    print(i)\n",
    "    print(j)\n",
    "    plt.hist(df[i],color=j,bins =10)\n",
    "    plt.show()"
   ]
  },
  {
   "cell_type": "markdown",
   "id": "89457e95",
   "metadata": {},
   "source": [
    "# Task No. 3"
   ]
  },
  {
   "cell_type": "markdown",
   "id": "6c82e1d2",
   "metadata": {},
   "source": [
    "**3. There are integer and float data type variables in this dataset. Create a count\n",
    "(frequency) plot describing the data types and the count of variables.**\n"
   ]
  },
  {
   "cell_type": "code",
   "execution_count": 26,
   "id": "939dfcf4",
   "metadata": {},
   "outputs": [
    {
     "name": "stderr",
     "output_type": "stream",
     "text": [
      "C:\\Users\\HP\\anaconda3\\lib\\site-packages\\seaborn\\_decorators.py:36: FutureWarning: Pass the following variable as a keyword arg: x. From version 0.12, the only valid positional argument will be `data`, and passing other arguments without an explicit keyword will result in an error or misinterpretation.\n",
      "  warnings.warn(\n"
     ]
    },
    {
     "data": {
      "image/png": "[encoded data removed]",
      "text/plain": [
       "<Figure size 432x288 with 1 Axes>"
      ]
     },
     "metadata": {
      "needs_background": "light"
     },
     "output_type": "display_data"
    }
   ],
   "source": [
    "sns.countplot(df['Outcome']);"
   ]
  },
  {
   "cell_type": "code",
   "execution_count": 27,
   "id": "3cffd525",
   "metadata": {},
   "outputs": [
    {
     "data": {
      "image/png": "[encoded data removed]",
      "text/plain": [
       "<Figure size 432x288 with 1 Axes>"
      ]
     },
     "metadata": {
      "needs_background": "light"
     },
     "output_type": "display_data"
    }
   ],
   "source": [
    "sns.countplot(y=df['Pregnancies']);"
   ]
  },
  {
   "cell_type": "code",
   "execution_count": 28,
   "id": "65df10bd",
   "metadata": {},
   "outputs": [
    {
     "data": {
      "image/png": "[encoded data removed]",
      "text/plain": [
       "<Figure size 1296x1296 with 1 Axes>"
      ]
     },
     "metadata": {
      "needs_background": "light"
     },
     "output_type": "display_data"
    }
   ],
   "source": [
    "plt.figure(figsize=(18,18))\n",
    "sns.countplot(y=df['Glucose']);"
   ]
  },
  {
   "cell_type": "code",
   "execution_count": 29,
   "id": "a3323d9b",
   "metadata": {},
   "outputs": [
    {
     "data": {
      "text/plain": [
       "<Figure size 1296x1296 with 0 Axes>"
      ]
     },
     "execution_count": 29,
     "metadata": {},
     "output_type": "execute_result"
    },
    {
     "data": {
      "image/png": "[encoded data removed]",
      "text/plain": [
       "<Figure size 432x288 with 1 Axes>"
      ]
     },
     "metadata": {
      "needs_background": "light"
     },
     "output_type": "display_data"
    },
    {
     "data": {
      "text/plain": [
       "<Figure size 1296x1296 with 0 Axes>"
      ]
     },
     "metadata": {},
     "output_type": "display_data"
    }
   ],
   "source": [
    "sns.countplot(y=df['BloodPressure']);\n",
    "plt.figure(figsize=(18,18))"
   ]
  },
  {
   "cell_type": "code",
   "execution_count": 30,
   "id": "510274d9",
   "metadata": {},
   "outputs": [
    {
     "data": {
      "image/png": "[encoded data removed]",
      "text/plain": [
       "<Figure size 432x288 with 1 Axes>"
      ]
     },
     "metadata": {
      "needs_background": "light"
     },
     "output_type": "display_data"
    }
   ],
   "source": [
    "sns.countplot(y=df['SkinThickness']);"
   ]
  },
  {
   "cell_type": "code",
   "execution_count": 31,
   "id": "6caa48a4",
   "metadata": {},
   "outputs": [
    {
     "data": {
      "image/png": "[encoded data removed]",
      "text/plain": [
       "<Figure size 1296x1296 with 1 Axes>"
      ]
     },
     "metadata": {
      "needs_background": "light"
     },
     "output_type": "display_data"
    }
   ],
   "source": [
    "plt.figure(figsize=(18,18))\n",
    "sns.countplot(y=df['Insulin'],orient = \"h\");"
   ]
  },
  {
   "cell_type": "markdown",
   "id": "ca6171eb",
   "metadata": {},
   "source": [
    "**Count of Variables**"
   ]
  },
  {
   "cell_type": "code",
   "execution_count": 32,
   "id": "dae5d694",
   "metadata": {},
   "outputs": [
    {
     "data": {
      "text/plain": [
       "int64      7\n",
       "float64    2\n",
       "dtype: int64"
      ]
     },
     "execution_count": 32,
     "metadata": {},
     "output_type": "execute_result"
    }
   ],
   "source": [
    "df.dtypes.value_counts() # Count of variables"
   ]
  },
  {
   "cell_type": "markdown",
   "id": "06649944",
   "metadata": {},
   "source": [
    "# Week No. 2,Task No.1"
   ]
  },
  {
   "cell_type": "markdown",
   "id": "1db18906",
   "metadata": {},
   "source": [
    "**Data Exploration**\n",
    "\n",
    "**1. Check the balance of the data by plotting the count of outcomes by their value.\n",
    "Describe your findings and plan future course of action.**\n"
   ]
  },
  {
   "cell_type": "code",
   "execution_count": 33,
   "id": "0f9d3b5b",
   "metadata": {},
   "outputs": [
    {
     "data": {
      "text/plain": [
       "<AxesSubplot:xlabel='Pregnancies', ylabel='Age'>"
      ]
     },
     "execution_count": 33,
     "metadata": {},
     "output_type": "execute_result"
    },
    {
     "data": {
      "image/png": "[encoded data removed]",
      "text/plain": [
       "<Figure size 432x288 with 1 Axes>"
      ]
     },
     "metadata": {
      "needs_background": "light"
     },
     "output_type": "display_data"
    }
   ],
   "source": [
    "# Age with Pregnancies and Outcome\n",
    "sns.pointplot(x=\"Pregnancies\",y='Age', hue=\"Outcome\" ,data=df)\n"
   ]
  },
  {
   "cell_type": "code",
   "execution_count": 34,
   "id": "943a1033",
   "metadata": {},
   "outputs": [
    {
     "data": {
      "image/png": "[encoded data removed]",
      "text/plain": [
       "<Figure size 432x288 with 1 Axes>"
      ]
     },
     "metadata": {
      "needs_background": "light"
     },
     "output_type": "display_data"
    }
   ],
   "source": [
    "# Glucose with Outcome as hue = \"Outcome\"\n",
    "sns.histplot(x='Glucose', data=df, kde=True, hue=\"Outcome\");"
   ]
  },
  {
   "cell_type": "code",
   "execution_count": 35,
   "id": "1fc75ceb",
   "metadata": {},
   "outputs": [
    {
     "data": {
      "image/png": "[encoded data removed]",
      "text/plain": [
       "<Figure size 432x432 with 3 Axes>"
      ]
     },
     "metadata": {
      "needs_background": "light"
     },
     "output_type": "display_data"
    }
   ],
   "source": [
    "# SkinThickness with Insulin\n",
    "sns.jointplot(x='Insulin',y='SkinThickness',hue='Outcome',data=df);"
   ]
  },
  {
   "cell_type": "code",
   "execution_count": 36,
   "id": "3eba61c0",
   "metadata": {},
   "outputs": [
    {
     "data": {
      "text/plain": [
       "0    65.104167\n",
       "1    34.895833\n",
       "Name: Outcome, dtype: float64"
      ]
     },
     "execution_count": 36,
     "metadata": {},
     "output_type": "execute_result"
    }
   ],
   "source": [
    "df.Outcome.value_counts(normalize=True)*100"
   ]
  },
  {
   "cell_type": "markdown",
   "id": "0f1b300f",
   "metadata": {},
   "source": [
    "**2. Create scatter charts between the pair of variables to understand the relationships.\n",
    "Describe your findings.**"
   ]
  },
  {
   "cell_type": "code",
   "execution_count": null,
   "id": "2c1c17c9",
   "metadata": {},
   "outputs": [],
   "source": [
    "plt.figure(figsize=(5,5))\n",
    "\n",
    "sns.pairplot(df,hue='Outcome')\n",
    "\n",
    "plt.show()"
   ]
  },
  {
   "cell_type": "code",
   "execution_count": null,
   "id": "ad54d8dd",
   "metadata": {},
   "outputs": [],
   "source": [
    "sns.distplot(df)"
   ]
  },
  {
   "cell_type": "markdown",
   "id": "a14a5577",
   "metadata": {},
   "source": [
    "**3. Perform correlation analysis. Visually explore it using a heat map.**"
   ]
  },
  {
   "cell_type": "code",
   "execution_count": null,
   "id": "b55a7246",
   "metadata": {},
   "outputs": [],
   "source": [
    "plt.figure(figsize=(10,6))\n",
    "\n",
    "sns.heatmap(df.corr(),annot=True);"
   ]
  },
  {
   "cell_type": "markdown",
   "id": "4ad10e7e",
   "metadata": {},
   "source": [
    "# Week No. 3,Task No.1"
   ]
  },
  {
   "cell_type": "markdown",
   "id": "5472df41",
   "metadata": {},
   "source": [
    "# Data Modeling"
   ]
  },
  {
   "cell_type": "markdown",
   "id": "1e4fa48e",
   "metadata": {},
   "source": [
    "**1. Devise strategies for model building. It is important to decide the right validation\n",
    "framework. Express your thought process.**"
   ]
  },
  {
   "cell_type": "code",
   "execution_count": null,
   "id": "82aac1d0",
   "metadata": {},
   "outputs": [],
   "source": [
    "from sklearn.model_selection import train_test_split"
   ]
  },
  {
   "cell_type": "code",
   "execution_count": null,
   "id": "d308231b",
   "metadata": {},
   "outputs": [],
   "source": [
    "final_output = pd.DataFrame()\n",
    "final_output['Actual Output'] = y_test\n"
   ]
  },
  {
   "cell_type": "code",
   "execution_count": null,
   "id": "9a522da8",
   "metadata": {},
   "outputs": [],
   "source": [
    "x = df.drop(\"Outcome\",axis=1)\n",
    "y = df[\"Outcome\"]"
   ]
  },
  {
   "cell_type": "code",
   "execution_count": null,
   "id": "5e86b166",
   "metadata": {},
   "outputs": [],
   "source": [
    "df[\"Outcome\"].value_counts(normalize=True)"
   ]
  },
  {
   "cell_type": "code",
   "execution_count": null,
   "id": "b382a8e3",
   "metadata": {},
   "outputs": [],
   "source": [
    "train_x,test_x,train_y,test_y = train_test_split(x,y,random_state=5,test_size =25,stratify =y)"
   ]
  },
  {
   "cell_type": "code",
   "execution_count": null,
   "id": "1421daf1",
   "metadata": {},
   "outputs": [],
   "source": [
    "train_x.shape"
   ]
  },
  {
   "cell_type": "code",
   "execution_count": null,
   "id": "78020c97",
   "metadata": {},
   "outputs": [],
   "source": [
    "test_x.shape"
   ]
  },
  {
   "cell_type": "code",
   "execution_count": null,
   "id": "2a2ab757",
   "metadata": {},
   "outputs": [],
   "source": [
    "train_y.value_counts(normalize=True)"
   ]
  },
  {
   "cell_type": "code",
   "execution_count": null,
   "id": "1442c1bd",
   "metadata": {},
   "outputs": [],
   "source": [
    "test_y.value_counts(normalize=True)"
   ]
  },
  {
   "cell_type": "code",
   "execution_count": null,
   "id": "032209a2",
   "metadata": {},
   "outputs": [],
   "source": [
    "from sklearn.neighbors import KNeighborsClassifier"
   ]
  },
  {
   "cell_type": "code",
   "execution_count": null,
   "id": "4d15ab46",
   "metadata": {},
   "outputs": [],
   "source": [
    "model =KNeighborsClassifier(3)"
   ]
  },
  {
   "cell_type": "code",
   "execution_count": null,
   "id": "5cedec0e",
   "metadata": {},
   "outputs": [],
   "source": [
    "from sklearn.preprocessing import MinMaxScaler"
   ]
  },
  {
   "cell_type": "code",
   "execution_count": null,
   "id": "346a1108",
   "metadata": {},
   "outputs": [],
   "source": [
    "scaler = MinMaxScaler()"
   ]
  },
  {
   "cell_type": "code",
   "execution_count": null,
   "id": "ec5dd5b2",
   "metadata": {},
   "outputs": [],
   "source": [
    "scalled_train_x = scaler.fit_transform(train_x)"
   ]
  },
  {
   "cell_type": "code",
   "execution_count": null,
   "id": "a9129437",
   "metadata": {},
   "outputs": [],
   "source": [
    "scalled_test_x = scaler.fit_transform(test_x)"
   ]
  },
  {
   "cell_type": "code",
   "execution_count": null,
   "id": "7b31551d",
   "metadata": {},
   "outputs": [],
   "source": [
    "# scaler.fit(train_x)\n",
    "# scalled_train_x = scaler.fit_transform(train_x)\n",
    "scalled_train_x"
   ]
  },
  {
   "cell_type": "code",
   "execution_count": null,
   "id": "87bf0b77",
   "metadata": {},
   "outputs": [],
   "source": [
    "scalled_test_x = scaler.fit_transform(test_x)\n",
    "scalled_test_x"
   ]
  },
  {
   "cell_type": "code",
   "execution_count": null,
   "id": "f40a3a1d",
   "metadata": {},
   "outputs": [],
   "source": [
    "model.fit(scalled_train_x,train_y)"
   ]
  },
  {
   "cell_type": "code",
   "execution_count": null,
   "id": "29a5bbf0",
   "metadata": {},
   "outputs": [],
   "source": [
    "model.score(scalled_train_x,train_y)"
   ]
  },
  {
   "cell_type": "code",
   "execution_count": null,
   "id": "90751932",
   "metadata": {},
   "outputs": [],
   "source": [
    "model.score(scalled_test_x,test_y)"
   ]
  },
  {
   "cell_type": "code",
   "execution_count": null,
   "id": "b3185910",
   "metadata": {},
   "outputs": [],
   "source": [
    "from sklearn.metrics import classification_report,confusion_matrix"
   ]
  },
  {
   "cell_type": "code",
   "execution_count": null,
   "id": "0fb403c6",
   "metadata": {},
   "outputs": [],
   "source": [
    "y_pred= model.predict(scalled_test_x)"
   ]
  },
  {
   "cell_type": "code",
   "execution_count": null,
   "id": "e32c3745",
   "metadata": {},
   "outputs": [],
   "source": [
    "print(classification_report(test_y,y_pred))"
   ]
  },
  {
   "cell_type": "code",
   "execution_count": null,
   "id": "1197482c",
   "metadata": {},
   "outputs": [],
   "source": [
    "from sklearn.metrics import accuracy_score\n",
    "\n",
    "print(\"The accuracy score of the model on test data is :\")\n",
    "print(accuracy_score(test_y,y_pred)) # --> Actual values & Predicted value"
   ]
  },
  {
   "cell_type": "code",
   "execution_count": null,
   "id": "024ea0d8",
   "metadata": {},
   "outputs": [],
   "source": [
    "final_output['KNN'] = y_pred\n",
    "final_output.head()"
   ]
  },
  {
   "cell_type": "code",
   "execution_count": null,
   "id": "bc7a5754",
   "metadata": {},
   "outputs": [],
   "source": [
    "print(confusion_matrix(test_y,y_pred))"
   ]
  },
  {
   "cell_type": "markdown",
   "id": "7fd38586",
   "metadata": {},
   "source": [
    "Compairing Results with Logistic Regression."
   ]
  },
  {
   "cell_type": "code",
   "execution_count": null,
   "id": "13459e9b",
   "metadata": {},
   "outputs": [],
   "source": [
    "x = df.drop(\"Outcome\" ,axis =1)\n",
    "y = df[\"Outcome\"]"
   ]
  },
  {
   "cell_type": "code",
   "execution_count": null,
   "id": "9fdb0269",
   "metadata": {},
   "outputs": [],
   "source": [
    "from sklearn.model_selection import train_test_split\n",
    "x_train,x_test,y_train,y_test = train_test_split(x , y ,test_size = 25, random_state =5,stratify =y)"
   ]
  },
  {
   "cell_type": "code",
   "execution_count": null,
   "id": "9378bb97",
   "metadata": {},
   "outputs": [],
   "source": [
    "print(\"Shape of x_train is : \", x_train.shape)\n",
    "print(\"Shape of x_test is : \", x_test.shape)\n",
    "print(\"Shape of y_train is : \", y_train.shape)\n",
    "print(\"Shape of y_test is : \", y_test.shape)\n"
   ]
  },
  {
   "cell_type": "code",
   "execution_count": null,
   "id": "71da13a1",
   "metadata": {},
   "outputs": [],
   "source": [
    "from sklearn.linear_model import LogisticRegression"
   ]
  },
  {
   "cell_type": "code",
   "execution_count": null,
   "id": "fccd43c4",
   "metadata": {},
   "outputs": [],
   "source": [
    "logreg_model = LogisticRegression(solver = \"newton-cg\") \n",
    "# --> When your data is continuous numerical 'newton-cg' is more appropriate than 'lbfgs'.\n",
    "# --> newton-cg -- within max_iter=100 there is still convergence so we put newton-cg to increase interations."
   ]
  },
  {
   "cell_type": "code",
   "execution_count": null,
   "id": "1ae5f60a",
   "metadata": {},
   "outputs": [],
   "source": [
    "logreg_model.fit(x_train,y_train)"
   ]
  },
  {
   "cell_type": "code",
   "execution_count": null,
   "id": "d143b7eb",
   "metadata": {},
   "outputs": [],
   "source": [
    "y_pred_test = logreg_model.predict(x_test )"
   ]
  },
  {
   "cell_type": "code",
   "execution_count": null,
   "id": "64fc92cd",
   "metadata": {},
   "outputs": [],
   "source": [
    "from sklearn.metrics import accuracy_score\n",
    "\n",
    "print(\"The accuracy score of the model on test data is :\")\n",
    "print(accuracy_score(y_test,y_pred_test)) # --> Actual values & Predicted value"
   ]
  },
  {
   "cell_type": "code",
   "execution_count": null,
   "id": "d1733739",
   "metadata": {},
   "outputs": [],
   "source": [
    "from sklearn.metrics import classification_report"
   ]
  },
  {
   "cell_type": "markdown",
   "id": "5caaf02c",
   "metadata": {},
   "source": [
    "# Classification Report of KNN Algorithm.."
   ]
  },
  {
   "cell_type": "code",
   "execution_count": null,
   "id": "e531b255",
   "metadata": {},
   "outputs": [],
   "source": [
    "print(classification_report(test_y,y_pred))"
   ]
  },
  {
   "cell_type": "markdown",
   "id": "cc2f4109",
   "metadata": {},
   "source": [
    "# Classification Report of Logistic Regression Model.."
   ]
  },
  {
   "cell_type": "code",
   "execution_count": null,
   "id": "35da8cb0",
   "metadata": {},
   "outputs": [],
   "source": [
    "print(classification_report(y_test,y_pred_test))"
   ]
  },
  {
   "cell_type": "code",
   "execution_count": null,
   "id": "ff56fdde",
   "metadata": {},
   "outputs": [],
   "source": [
    "from sklearn.metrics import confusion_matrix\n",
    "\n",
    "print(confusion_matrix(y_test,y_pred_test))"
   ]
  },
  {
   "cell_type": "code",
   "execution_count": null,
   "id": "4049cb7f",
   "metadata": {},
   "outputs": [],
   "source": [
    "final_output['Logistic_Regression'] = y_pred_test\n",
    "final_output.head()"
   ]
  },
  {
   "cell_type": "markdown",
   "id": "6841bc0f",
   "metadata": {},
   "source": [
    "# Checking Results With Decision Tree Classifier"
   ]
  },
  {
   "cell_type": "markdown",
   "id": "297e3d41",
   "metadata": {},
   "source": [
    "**Importing Required libraries**"
   ]
  },
  {
   "cell_type": "code",
   "execution_count": null,
   "id": "27b5d482",
   "metadata": {},
   "outputs": [],
   "source": [
    "from sklearn.tree import DecisionTreeClassifier"
   ]
  },
  {
   "cell_type": "code",
   "execution_count": null,
   "id": "9979d155",
   "metadata": {},
   "outputs": [],
   "source": [
    "dt_model = DecisionTreeClassifier() # Instantiating the estimator object"
   ]
  },
  {
   "cell_type": "markdown",
   "id": "04d18b21",
   "metadata": {},
   "source": [
    "**Fitting The Model**"
   ]
  },
  {
   "cell_type": "code",
   "execution_count": null,
   "id": "99143ef4",
   "metadata": {},
   "outputs": [],
   "source": [
    "dt_model.fit(x_train,y_train)"
   ]
  },
  {
   "cell_type": "markdown",
   "id": "e2fbf7e9",
   "metadata": {},
   "source": [
    "**Declaring The Predicted Variable**"
   ]
  },
  {
   "cell_type": "code",
   "execution_count": null,
   "id": "25ce507d",
   "metadata": {},
   "outputs": [],
   "source": [
    "y_predict = dt_model.predict(x_test)"
   ]
  },
  {
   "cell_type": "code",
   "execution_count": null,
   "id": "744d1a0c",
   "metadata": {},
   "outputs": [],
   "source": [
    "from sklearn.metrics import accuracy_score"
   ]
  },
  {
   "cell_type": "code",
   "execution_count": null,
   "id": "61721afa",
   "metadata": {},
   "outputs": [],
   "source": [
    "accuracy = accuracy_score(y_predict,y_test)\n",
    "\n",
    "print(\"The Prediction accuracy score of the Decision Tree model on test data is :\", accuracy)"
   ]
  },
  {
   "cell_type": "code",
   "execution_count": null,
   "id": "19ab8a0e",
   "metadata": {},
   "outputs": [],
   "source": [
    "y_predict_train = dt_model.predict(x_train)\n",
    "\n",
    "accuracy = accuracy_score(y_predict_train,y_train)\n",
    "\n",
    "print(\"The Prediction accuracy score of the Decision Tree model on train data is :\", accuracy)\n",
    "\n"
   ]
  },
  {
   "cell_type": "markdown",
   "id": "24544014",
   "metadata": {},
   "source": [
    "# Let's check whether Pruning affects the accuracy of the model.."
   ]
  },
  {
   "cell_type": "code",
   "execution_count": null,
   "id": "4761f66c",
   "metadata": {},
   "outputs": [],
   "source": [
    "from sklearn.tree import DecisionTreeClassifier\n",
    "\n",
    "dt_model4 = DecisionTreeClassifier(max_depth=3) # Instantiating the estimator object\n",
    "\n",
    "dt_model4.fit(x_train,y_train)\n",
    "\n",
    "y_predict4 = dt_model4.predict(x_test)"
   ]
  },
  {
   "cell_type": "code",
   "execution_count": null,
   "id": "76553b66",
   "metadata": {},
   "outputs": [],
   "source": [
    "accuracy = accuracy_score(y_predict4,y_test)\n",
    "\n",
    "print(\"The Prediction accuracy score of the Decision Tree model on test data is :\", accuracy)\n"
   ]
  },
  {
   "cell_type": "code",
   "execution_count": null,
   "id": "7c95f6fa",
   "metadata": {},
   "outputs": [],
   "source": [
    "y_predict_train = dt_model4.predict(x_train)\n",
    "\n",
    "accuracy = accuracy_score(y_predict_train,y_train)\n",
    "\n",
    "print(\"The Prediction accuracy score of the Decision Tree model on train data is :\", accuracy)\n",
    "\n"
   ]
  },
  {
   "cell_type": "markdown",
   "id": "39e12323",
   "metadata": {},
   "source": [
    "From the above we could infer that pruning does affect the model accuracy.."
   ]
  },
  {
   "cell_type": "code",
   "execution_count": null,
   "id": "a6733fca",
   "metadata": {},
   "outputs": [],
   "source": [
    "from sklearn.metrics import classification_report"
   ]
  },
  {
   "cell_type": "markdown",
   "id": "52831ec4",
   "metadata": {},
   "source": [
    "# Classification Report of Decision Tree model."
   ]
  },
  {
   "cell_type": "code",
   "execution_count": null,
   "id": "36a14db6",
   "metadata": {},
   "outputs": [],
   "source": [
    "print(classification_report(y_test,y_predict))"
   ]
  },
  {
   "cell_type": "markdown",
   "id": "daf3e8c0",
   "metadata": {},
   "source": [
    "# Classification Report Of KNN algorithm.."
   ]
  },
  {
   "cell_type": "code",
   "execution_count": null,
   "id": "63d965c6",
   "metadata": {},
   "outputs": [],
   "source": [
    "print(classification_report(test_y,y_predict))"
   ]
  },
  {
   "cell_type": "code",
   "execution_count": null,
   "id": "d3e734c0",
   "metadata": {},
   "outputs": [],
   "source": [
    "final_output['Decision_Tree'] = y_predict\n",
    "final_output.head()"
   ]
  },
  {
   "cell_type": "markdown",
   "id": "eabfdd66",
   "metadata": {},
   "source": [
    "# Let's Try Naive Baye's Classifier - GaussianNB"
   ]
  },
  {
   "cell_type": "code",
   "execution_count": null,
   "id": "924605ab",
   "metadata": {},
   "outputs": [],
   "source": [
    "from sklearn.naive_bayes import GaussianNB\n"
   ]
  },
  {
   "cell_type": "code",
   "execution_count": null,
   "id": "5ac7172e",
   "metadata": {},
   "outputs": [],
   "source": [
    "gnb_model = GaussianNB()"
   ]
  },
  {
   "cell_type": "code",
   "execution_count": null,
   "id": "4ec2df2d",
   "metadata": {},
   "outputs": [],
   "source": [
    "gnb_model.fit(x_train,y_train)"
   ]
  },
  {
   "cell_type": "code",
   "execution_count": null,
   "id": "19c6ff0f",
   "metadata": {},
   "outputs": [],
   "source": [
    "y_pred_test_gnb = gnb_model.predict(x_test)"
   ]
  },
  {
   "cell_type": "code",
   "execution_count": null,
   "id": "3d39b4dd",
   "metadata": {},
   "outputs": [],
   "source": [
    "accuracy = accuracy_score(y_pred_test_gnb,y_test)\n",
    "print(\"The Prediction accuracy score of the GaussianNB model on test data is :\", accuracy)\n"
   ]
  },
  {
   "cell_type": "code",
   "execution_count": null,
   "id": "189c62f8",
   "metadata": {},
   "outputs": [],
   "source": [
    "y_predict_train = gnb_model.predict(x_train)\n",
    "\n",
    "accuracy = accuracy_score(y_predict_train,y_train)\n",
    "\n",
    "print(\"The Prediction accuracy score of the GaussianNB model on train data is :\", accuracy)\n",
    "\n"
   ]
  },
  {
   "cell_type": "code",
   "execution_count": null,
   "id": "af7ee6f1",
   "metadata": {},
   "outputs": [],
   "source": [
    "from sklearn.metrics import classification_report"
   ]
  },
  {
   "cell_type": "markdown",
   "id": "e13c6d6b",
   "metadata": {},
   "source": [
    "# Classification Report of Naive Baye's Classifier"
   ]
  },
  {
   "cell_type": "code",
   "execution_count": null,
   "id": "3cbc9b35",
   "metadata": {},
   "outputs": [],
   "source": [
    "print(classification_report(y_test,y_pred_test_gnb))"
   ]
  },
  {
   "cell_type": "markdown",
   "id": "c66d1941",
   "metadata": {},
   "source": [
    "# Classification Report Of KNN"
   ]
  },
  {
   "cell_type": "code",
   "execution_count": null,
   "id": "df9e92f1",
   "metadata": {},
   "outputs": [],
   "source": [
    "print(classification_report(test_y,y_pred))"
   ]
  },
  {
   "cell_type": "code",
   "execution_count": null,
   "id": "55c4df8c",
   "metadata": {},
   "outputs": [],
   "source": [
    "final_output['Naive Baye\\'s'] = y_pred\n",
    "final_output.head()"
   ]
  },
  {
   "cell_type": "markdown",
   "id": "5a5eb58d",
   "metadata": {},
   "source": [
    "# Let's Try XGBClassifier"
   ]
  },
  {
   "cell_type": "code",
   "execution_count": null,
   "id": "37072655",
   "metadata": {},
   "outputs": [],
   "source": [
    "from xgboost.sklearn import XGBClassifier"
   ]
  },
  {
   "cell_type": "code",
   "execution_count": null,
   "id": "d0ed817e",
   "metadata": {},
   "outputs": [],
   "source": [
    "xgb_clf_model = XGBClassifier(objective = \"multi:softmax\",num_class =3)"
   ]
  },
  {
   "cell_type": "code",
   "execution_count": null,
   "id": "b780c2dd",
   "metadata": {},
   "outputs": [],
   "source": [
    "xgb_clf_model.fit(x_train,y_train)"
   ]
  },
  {
   "cell_type": "code",
   "execution_count": null,
   "id": "c5e4a489",
   "metadata": {},
   "outputs": [],
   "source": [
    "y_pred_test2 = xgb_clf_model.predict(x_test)"
   ]
  },
  {
   "cell_type": "code",
   "execution_count": null,
   "id": "cb361847",
   "metadata": {},
   "outputs": [],
   "source": [
    "print(\"The testing accuracy of the xgb clf model is :\")\n",
    "\n",
    "print(accuracy_score(y_test,y_pred_test2))"
   ]
  },
  {
   "cell_type": "code",
   "execution_count": null,
   "id": "4e7a8886",
   "metadata": {},
   "outputs": [],
   "source": [
    "y_predict_train = xgb_clf_model.predict(x_train)\n",
    "\n",
    "accuracy = accuracy_score(y_predict_train,y_train)\n",
    "\n",
    "print(\"The Prediction accuracy score of the XGBClassifier model on train data is :\", accuracy)\n",
    "\n"
   ]
  },
  {
   "cell_type": "markdown",
   "id": "01993d3b",
   "metadata": {},
   "source": [
    "**from the above we could infer that model overfits here and need hyperparameter tuning.**"
   ]
  },
  {
   "cell_type": "markdown",
   "id": "9be29dd6",
   "metadata": {},
   "source": [
    "# Hyperparameter Tuning"
   ]
  },
  {
   "cell_type": "code",
   "execution_count": null,
   "id": "677dbb07",
   "metadata": {},
   "outputs": [],
   "source": [
    "xgb_clf_model = XGBClassifier(objective = \"multi:softmax\",num_class =3,\n",
    "                              subsample = 0.8,\n",
    "                              n_estimators = 200,\n",
    "                              min_child_weight =1,\n",
    "                              learning_rate =0.01,\n",
    "                             reg_alpha=0,\n",
    "                             reg_lambda= 1)\n",
    "\n",
    "xgb_clf_model.fit(x_train,y_train)\n",
    "y_pred_test2 = xgb_clf_model.predict(x_test)\n",
    "\n",
    "print(\"The testing accuracy of the xgb clf model is :\")\n",
    "\n",
    "print(accuracy_score(y_test,y_pred_test2))\n",
    "\n",
    "y_predict_train = xgb_clf_model.predict(x_train)\n",
    "\n",
    "accuracy = accuracy_score(y_predict_train,y_train)\n",
    "\n",
    "print(\"The Prediction accuracy score of the XGBClassifier model on train data is :\", accuracy)\n",
    "\n"
   ]
  },
  {
   "cell_type": "code",
   "execution_count": null,
   "id": "c6d8f925",
   "metadata": {},
   "outputs": [],
   "source": [
    "final_output['XGBoost'] = y_pred_test2\n",
    "final_output.head()"
   ]
  },
  {
   "cell_type": "markdown",
   "id": "0823c7c4",
   "metadata": {},
   "source": [
    "**The training & Testing accuracy is same and this is generalised model can be used for prediction as compared to KNN..**"
   ]
  },
  {
   "cell_type": "markdown",
   "id": "1ab8e860",
   "metadata": {},
   "source": [
    "# Build SVC Model"
   ]
  },
  {
   "cell_type": "code",
   "execution_count": null,
   "id": "9067756d",
   "metadata": {},
   "outputs": [],
   "source": [
    "from sklearn.svm import SVC\n",
    "\n",
    "svc_model = SVC()\n",
    "                            \n",
    "svc_model.fit(x_train,y_train)\n",
    "\n",
    "y_pred_test_svc = svc_model.predict(x_test)"
   ]
  },
  {
   "cell_type": "code",
   "execution_count": null,
   "id": "b97caaa0",
   "metadata": {},
   "outputs": [],
   "source": [
    "from sklearn.metrics import accuracy_score\n",
    "\n",
    "print(\"The accuracy score of the  SVC model on test data is :\")\n",
    "print(accuracy_score(y_test,y_pred_test_svc)) # --> Actual values & Predicted value"
   ]
  },
  {
   "cell_type": "code",
   "execution_count": null,
   "id": "6c67a0b7",
   "metadata": {},
   "outputs": [],
   "source": [
    "y_pred_train = svc_model.predict(x_train)"
   ]
  },
  {
   "cell_type": "code",
   "execution_count": null,
   "id": "7bba9a66",
   "metadata": {},
   "outputs": [],
   "source": [
    "print(\"The accuracy score of the SVC model on train data is :\")\n",
    "print(accuracy_score(y_train,y_pred_train)) # --> Actual values & Predicted value"
   ]
  },
  {
   "cell_type": "code",
   "execution_count": null,
   "id": "36de9eac",
   "metadata": {},
   "outputs": [],
   "source": [
    "final_output['SVC'] = y_pred_test_svc\n",
    "final_output.head()"
   ]
  },
  {
   "cell_type": "markdown",
   "id": "e2722888",
   "metadata": {},
   "source": [
    "# Project Task: Week 4\n",
    "    \n",
    "**Data Modeling**\n",
    "    \n",
    "**1. Create a classification report by analyzing sensitivity, specificity, AUC (ROC curve), \n",
    "etc. Please be descriptive to explain what values of these parameter you have used.**"
   ]
  },
  {
   "cell_type": "code",
   "execution_count": null,
   "id": "a27af9f9",
   "metadata": {},
   "outputs": [],
   "source": [
    "from sklearn.metrics import roc_curve\n",
    "from sklearn.metrics import roc_auc_score"
   ]
  },
  {
   "cell_type": "code",
   "execution_count": null,
   "id": "80bd188f",
   "metadata": {},
   "outputs": [],
   "source": [
    "# roc curve for models\n",
    "fpr1, tpr1, thresh1 = roc_curve(y_test, y_pred[:,], pos_label=1) # knn\n",
    "fpr2, tpr2, thresh2 = roc_curve(y_test, y_pred_test[:,], pos_label=1) # logistic\n",
    "fpr3, tpr3, thresh3 = roc_curve(y_test, y_pred_test_gnb[:,], pos_label=1) # naive baye's\n",
    "fpr4, tpr4, thresh4 = roc_curve(y_test, y_pred_test_svc[:,], pos_label=1) # svc\n",
    "fpr5, tpr5, thresh5 = roc_curve(y_test, y_pred_test2[:,], pos_label=1) # xgb\n",
    "fpr6, tpr6, thresh6 = roc_curve(y_test, y_predict[:,], pos_label=1) # Decision Tree\n",
    "\n",
    "\n",
    "# roc curve for tpr = fpr \n",
    "random_probs = [0 for i in range(len(y_test))]\n",
    "p_fpr, p_tpr, _ = roc_curve(y_test, random_probs, pos_label=1)\n"
   ]
  },
  {
   "cell_type": "code",
   "execution_count": null,
   "id": "bf4f96bb",
   "metadata": {},
   "outputs": [],
   "source": [
    "plt.style.use('seaborn')\n",
    "\n",
    "# plot roc curves\n",
    "plt.plot(fpr1, tpr1, linestyle='--',color='orange', label='KNN')\n",
    "plt.plot(fpr2, tpr2, linestyle='--',color='green', label='logistic')\n",
    "plt.plot(fpr3, tpr3, linestyle='--',color='red', label='Naive Bayes Classifier')\n",
    "plt.plot(fpr4, tpr4, linestyle='--',color='pink', label='svc')\n",
    "plt.plot(fpr5, tpr5, linestyle='--',color='cyan', label='xgb')\n",
    "plt.plot(fpr6, tpr6, linestyle='--',color='magenta', label='Decision tree')\n",
    "\n",
    "\n",
    "plt.plot(p_fpr, p_tpr, linestyle='--', color='black')\n",
    "# title\n",
    "plt.title('ROC curve')\n",
    "# x label\n",
    "plt.xlabel('False Positive Rate')\n",
    "# y label\n",
    "plt.ylabel('True Positive rate')\n",
    "\n",
    "plt.legend(loc='best')\n",
    "plt.savefig('ROC',dpi=2000)\n",
    "plt.show();"
   ]
  },
  {
   "cell_type": "markdown",
   "id": "2397928e",
   "metadata": {},
   "source": [
    "**From the above we could infer that** \n",
    "\n",
    "**KNN,Decision Tree & Naive Baye's Classifier has same curve**\n",
    "\n",
    "**&**\n",
    "\n",
    "**XGBoost having Excellent Curve**\n",
    "\n",
    "**&**\n",
    "\n",
    "**svc having worst curve.**"
   ]
  },
  {
   "cell_type": "markdown",
   "id": "df8d131d",
   "metadata": {},
   "source": [
    "For Tableau Project we are using file without Null Values or Missing values."
   ]
  },
  {
   "cell_type": "code",
   "execution_count": null,
   "id": "3deede34",
   "metadata": {},
   "outputs": [],
   "source": [
    "df.to_csv(\"Health_care_Diabetes.csv\")"
   ]
  },
  {
   "cell_type": "code",
   "execution_count": null,
   "id": "d47d516c",
   "metadata": {},
   "outputs": [],
   "source": []
  }
 ],
 "metadata": {
  "kernelspec": {
   "display_name": "Python 3 (ipykernel)",
   "language": "python",
   "name": "python3"
  },
  "language_info": {
   "codemirror_mode": {
    "name": "ipython",
    "version": 3
   },
   "file_extension": ".py",
   "mimetype": "text/x-python",
   "name": "python",
   "nbconvert_exporter": "python",
   "pygments_lexer": "ipython3",
   "version": "3.9.7"
  }
 },
 "nbformat": 4,
 "nbformat_minor": 5
}
