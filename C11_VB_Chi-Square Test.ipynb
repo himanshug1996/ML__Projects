{
 "cells": [
  {
   "cell_type": "markdown",
   "id": "4031b320",
   "metadata": {},
   "source": [
    "We will be learning about how to perform the Chi-square Test  for independence here.\n",
    "\n",
    "Chi-Square test --> the test is applied when you have two categorical variable from a single population.it is used to determine whether there is asignificant association b/w two variables.e.g--> in an election survey,voters might be classified by gender(m & f) and voting preference (Democrat,Republican,or Independent).We could use a chi-square test for independence to determine whether gender is related to voting preference."
   ]
  },
  {
   "cell_type": "code",
   "execution_count": 1,
   "id": "d142d0ad",
   "metadata": {},
   "outputs": [],
   "source": [
    "import pandas as pd"
   ]
  },
  {
   "cell_type": "code",
   "execution_count": 2,
   "id": "f01d398a",
   "metadata": {},
   "outputs": [],
   "source": [
    "df_chi = pd.read_csv(r\"C:\\Users\\HP\\Desktop\\Data_Science\\DS With Python by Vaishali Balaji\\DataSet\\chi-test.csv\")"
   ]
  },
  {
   "cell_type": "code",
   "execution_count": 3,
   "id": "22261edd",
   "metadata": {},
   "outputs": [
    {
     "data": {
      "text/html": [
       "<div>\n",
       "<style scoped>\n",
       "    .dataframe tbody tr th:only-of-type {\n",
       "        vertical-align: middle;\n",
       "    }\n",
       "\n",
       "    .dataframe tbody tr th {\n",
       "        vertical-align: top;\n",
       "    }\n",
       "\n",
       "    .dataframe thead th {\n",
       "        text-align: right;\n",
       "    }\n",
       "</style>\n",
       "<table border=\"1\" class=\"dataframe\">\n",
       "  <thead>\n",
       "    <tr style=\"text-align: right;\">\n",
       "      <th></th>\n",
       "      <th>Gender</th>\n",
       "      <th>Shopping</th>\n",
       "    </tr>\n",
       "  </thead>\n",
       "  <tbody>\n",
       "    <tr>\n",
       "      <th>0</th>\n",
       "      <td>Male</td>\n",
       "      <td>No</td>\n",
       "    </tr>\n",
       "    <tr>\n",
       "      <th>1</th>\n",
       "      <td>Female</td>\n",
       "      <td>Yes</td>\n",
       "    </tr>\n",
       "    <tr>\n",
       "      <th>2</th>\n",
       "      <td>Male</td>\n",
       "      <td>Yes</td>\n",
       "    </tr>\n",
       "    <tr>\n",
       "      <th>3</th>\n",
       "      <td>Female</td>\n",
       "      <td>Yes</td>\n",
       "    </tr>\n",
       "    <tr>\n",
       "      <th>4</th>\n",
       "      <td>Female</td>\n",
       "      <td>Yes</td>\n",
       "    </tr>\n",
       "    <tr>\n",
       "      <th>5</th>\n",
       "      <td>Male</td>\n",
       "      <td>Yes</td>\n",
       "    </tr>\n",
       "    <tr>\n",
       "      <th>6</th>\n",
       "      <td>Male</td>\n",
       "      <td>No</td>\n",
       "    </tr>\n",
       "    <tr>\n",
       "      <th>7</th>\n",
       "      <td>Female</td>\n",
       "      <td>No</td>\n",
       "    </tr>\n",
       "    <tr>\n",
       "      <th>8</th>\n",
       "      <td>Female</td>\n",
       "      <td>No</td>\n",
       "    </tr>\n",
       "  </tbody>\n",
       "</table>\n",
       "</div>"
      ],
      "text/plain": [
       "   Gender Shopping\n",
       "0    Male       No\n",
       "1  Female      Yes\n",
       "2    Male      Yes\n",
       "3  Female      Yes\n",
       "4  Female      Yes\n",
       "5    Male      Yes\n",
       "6    Male       No\n",
       "7  Female       No\n",
       "8  Female       No"
      ]
     },
     "execution_count": 3,
     "metadata": {},
     "output_type": "execute_result"
    }
   ],
   "source": [
    "df_chi"
   ]
  },
  {
   "cell_type": "markdown",
   "id": "0e66a5d4",
   "metadata": {},
   "source": [
    "the first step is to find contingency table."
   ]
  },
  {
   "cell_type": "markdown",
   "id": "f3716968",
   "metadata": {},
   "source": [
    "**What is contingency/crosstab table?**\n",
    "\n",
    "it is nothing but a frequency distribution table in which two variables are simultaneously shown.it is used in statistics to represent the relationship b/w categorical variables."
   ]
  },
  {
   "cell_type": "code",
   "execution_count": 4,
   "id": "9ac56d39",
   "metadata": {},
   "outputs": [
    {
     "name": "stdout",
     "output_type": "stream",
     "text": [
      "contingency_table: \n",
      " Shopping  No  Yes\n",
      "Gender           \n",
      "Female     2    3\n",
      "Male       2    2\n"
     ]
    }
   ],
   "source": [
    "contingency_table = pd.crosstab(df_chi[\"Gender\"],df_chi[\"Shopping\"])\n",
    "\n",
    "print(\"contingency_table: \\n\",contingency_table)"
   ]
  },
  {
   "cell_type": "markdown",
   "id": "e22c8f75",
   "metadata": {},
   "source": [
    "The next step is to define alpha value(significance level)\n",
    "\n",
    "alpha value is threshold value that is useful in finding out whether p-values which is also test statistics is statistically significant or not."
   ]
  },
  {
   "cell_type": "code",
   "execution_count": 5,
   "id": "2acacc5f",
   "metadata": {},
   "outputs": [
    {
     "name": "stdout",
     "output_type": "stream",
     "text": [
      "Significance level or the alpha value is:  0.05\n"
     ]
    }
   ],
   "source": [
    "alpha = 0.05\n",
    "\n",
    "print(\"Significance level or the alpha value is: \",alpha)"
   ]
  },
  {
   "cell_type": "markdown",
   "id": "a65b411d",
   "metadata": {},
   "source": [
    "The pearson's chi-squared test for independence can be calculated in Python using chi2_contingency() Scipy Function."
   ]
  },
  {
   "cell_type": "code",
   "execution_count": 6,
   "id": "1610a889",
   "metadata": {},
   "outputs": [],
   "source": [
    "from scipy.stats import chi2_contingency"
   ]
  },
  {
   "cell_type": "code",
   "execution_count": 7,
   "id": "71c05300",
   "metadata": {},
   "outputs": [],
   "source": [
    "stat,p,dof,expected = chi2_contingency(contingency_table) # order should be same"
   ]
  },
  {
   "cell_type": "code",
   "execution_count": 10,
   "id": "05140d5b",
   "metadata": {},
   "outputs": [
    {
     "name": "stdout",
     "output_type": "stream",
     "text": [
      "P-values is  1.0\n"
     ]
    }
   ],
   "source": [
    "print(\"P-values is \",p)"
   ]
  },
  {
   "cell_type": "markdown",
   "id": "087e127a",
   "metadata": {},
   "source": [
    "**Null Hypothesis,H0**---> There is no relationship b/w the columns-gender & shopping\n",
    "\n",
    "**Alternate Hypothesis,H1**---> There is relationship b/w the columns-gender & shopping."
   ]
  },
  {
   "cell_type": "markdown",
   "id": "1c3b0726",
   "metadata": {},
   "source": [
    "We compare the alpha & p-value to figure out which hypothesis holds to True."
   ]
  },
  {
   "cell_type": "code",
   "execution_count": 9,
   "id": "529c2658",
   "metadata": {},
   "outputs": [
    {
     "name": "stdout",
     "output_type": "stream",
     "text": [
      "Accept H0,There is no a relationship b/w the 2 categorical variables\n"
     ]
    }
   ],
   "source": [
    "if p <=alpha:\n",
    "    print(\"Reject H0,There is a relationship b/w the 2 categorical variables\")\n",
    "else:\n",
    "    print(\"Accept H0,There is no a relationship b/w the 2 categorical variables\")\n",
    "    "
   ]
  },
  {
   "cell_type": "markdown",
   "id": "4f95e2bb",
   "metadata": {},
   "source": [
    "# End of Section..."
   ]
  },
  {
   "cell_type": "code",
   "execution_count": null,
   "id": "4329e22d",
   "metadata": {},
   "outputs": [],
   "source": []
  }
 ],
 "metadata": {
  "kernelspec": {
   "display_name": "Python 3 (ipykernel)",
   "language": "python",
   "name": "python3"
  },
  "language_info": {
   "codemirror_mode": {
    "name": "ipython",
    "version": 3
   },
   "file_extension": ".py",
   "mimetype": "text/x-python",
   "name": "python",
   "nbconvert_exporter": "python",
   "pygments_lexer": "ipython3",
   "version": "3.9.7"
  }
 },
 "nbformat": 4,
 "nbformat_minor": 5
}
