{
 "cells": [
  {
   "cell_type": "code",
   "execution_count": 1,
   "id": "edda4c9f",
   "metadata": {},
   "outputs": [
    {
     "name": "stdout",
     "output_type": "stream",
     "text": [
      "[ 50 100  65 150]\n",
      "[10 20 14 30]\n"
     ]
    }
   ],
   "source": [
    "import numpy as np\n",
    "\n",
    "distance_list= [50,100,65,150]\n",
    "time_taken_list = [10,20,14,30]\n",
    "\n",
    "# creating a numpy array from lists\n",
    "distance_ndarray = np.array(distance_list)\n",
    "time_taken_ndarray = np.array(time_taken_list)\n",
    "\n",
    "print(distance_ndarray)\n",
    "print(time_taken_ndarray)"
   ]
  },
  {
   "cell_type": "code",
   "execution_count": 2,
   "id": "d1f7b835",
   "metadata": {},
   "outputs": [
    {
     "name": "stdout",
     "output_type": "stream",
     "text": [
      "[5.         5.         4.64285714 5.        ]\n"
     ]
    }
   ],
   "source": [
    "speed_ndarray = distance_ndarray / time_taken_ndarray\n",
    "print(speed_ndarray)"
   ]
  },
  {
   "cell_type": "markdown",
   "id": "9ac6c66b",
   "metadata": {},
   "source": [
    "#### we could observe that above operation was possible after converting the list to ndarray because numpy supports element wise operation."
   ]
  },
  {
   "cell_type": "markdown",
   "id": "601ebdb7",
   "metadata": {},
   "source": [
    "# Pandas"
   ]
  },
  {
   "cell_type": "code",
   "execution_count": 30,
   "id": "68fb48ea",
   "metadata": {},
   "outputs": [],
   "source": [
    "import pandas as pd"
   ]
  },
  {
   "cell_type": "markdown",
   "id": "7b0bb12e",
   "metadata": {},
   "source": [
    "Pandas support n dimentional data with different data datatypes.\n",
    "Datastructure of pandas ---Series & DataFrames\n",
    "Series -- one domentional datastructure of pandas.\n",
    "Dataframes -- two dimentional datastructure of pandas,every column in dataframe is a series object."
   ]
  },
  {
   "cell_type": "code",
   "execution_count": 4,
   "id": "e5280982",
   "metadata": {},
   "outputs": [],
   "source": [
    "cars_df = pd.read_csv(\"Desktop/Data_Science/ML/LESSON 13/PROJECT_1 UBER/cars.csv\")"
   ]
  },
  {
   "cell_type": "code",
   "execution_count": 5,
   "id": "57fdd3f7",
   "metadata": {},
   "outputs": [
    {
     "data": {
      "text/html": [
       "<div>\n",
       "<style scoped>\n",
       "    .dataframe tbody tr th:only-of-type {\n",
       "        vertical-align: middle;\n",
       "    }\n",
       "\n",
       "    .dataframe tbody tr th {\n",
       "        vertical-align: top;\n",
       "    }\n",
       "\n",
       "    .dataframe thead th {\n",
       "        text-align: right;\n",
       "    }\n",
       "</style>\n",
       "<table border=\"1\" class=\"dataframe\">\n",
       "  <thead>\n",
       "    <tr style=\"text-align: right;\">\n",
       "      <th></th>\n",
       "      <th>USCA</th>\n",
       "      <th>US</th>\n",
       "      <th>United States</th>\n",
       "      <th>809</th>\n",
       "      <th>FALSE</th>\n",
       "    </tr>\n",
       "  </thead>\n",
       "  <tbody>\n",
       "    <tr>\n",
       "      <th>0</th>\n",
       "      <td>ASPAC</td>\n",
       "      <td>AUS</td>\n",
       "      <td>Australia</td>\n",
       "      <td>731.0</td>\n",
       "      <td>True</td>\n",
       "    </tr>\n",
       "    <tr>\n",
       "      <th>1</th>\n",
       "      <td>ASPAC</td>\n",
       "      <td>JAP</td>\n",
       "      <td>Japan</td>\n",
       "      <td>588.0</td>\n",
       "      <td>True</td>\n",
       "    </tr>\n",
       "    <tr>\n",
       "      <th>2</th>\n",
       "      <td>ASPAC</td>\n",
       "      <td>IN</td>\n",
       "      <td>India</td>\n",
       "      <td>18.0</td>\n",
       "      <td>True</td>\n",
       "    </tr>\n",
       "    <tr>\n",
       "      <th>3</th>\n",
       "      <td>ASPAC</td>\n",
       "      <td>RU</td>\n",
       "      <td>Russia</td>\n",
       "      <td>200.0</td>\n",
       "      <td>False</td>\n",
       "    </tr>\n",
       "    <tr>\n",
       "      <th>4</th>\n",
       "      <td>LATAM</td>\n",
       "      <td>MOR</td>\n",
       "      <td>Morocco</td>\n",
       "      <td>70.0</td>\n",
       "      <td>False</td>\n",
       "    </tr>\n",
       "    <tr>\n",
       "      <th>5</th>\n",
       "      <td>AFR</td>\n",
       "      <td>EG</td>\n",
       "      <td>Egypt</td>\n",
       "      <td>45.0</td>\n",
       "      <td>False</td>\n",
       "    </tr>\n",
       "    <tr>\n",
       "      <th>6</th>\n",
       "      <td>EUR</td>\n",
       "      <td>ENG</td>\n",
       "      <td>England</td>\n",
       "      <td>NaN</td>\n",
       "      <td>True</td>\n",
       "    </tr>\n",
       "  </tbody>\n",
       "</table>\n",
       "</div>"
      ],
      "text/plain": [
       "    USCA   US United States    809  FALSE\n",
       "0  ASPAC  AUS     Australia  731.0   True\n",
       "1  ASPAC  JAP         Japan  588.0   True\n",
       "2  ASPAC   IN         India   18.0   True\n",
       "3  ASPAC   RU        Russia  200.0  False\n",
       "4  LATAM  MOR       Morocco   70.0  False\n",
       "5    AFR   EG         Egypt   45.0  False\n",
       "6    EUR  ENG       England    NaN   True"
      ]
     },
     "execution_count": 5,
     "metadata": {},
     "output_type": "execute_result"
    }
   ],
   "source": [
    "cars_df"
   ]
  },
  {
   "cell_type": "code",
   "execution_count": 8,
   "id": "2f38b79e",
   "metadata": {},
   "outputs": [
    {
     "data": {
      "text/plain": [
       "pandas.core.frame.DataFrame"
      ]
     },
     "execution_count": 8,
     "metadata": {},
     "output_type": "execute_result"
    }
   ],
   "source": [
    "cars_df.shape\n",
    "type(cars_df)"
   ]
  },
  {
   "cell_type": "markdown",
   "id": "05ad8f24",
   "metadata": {},
   "source": [
    "## Basic Dataframe Operations"
   ]
  },
  {
   "cell_type": "code",
   "execution_count": 9,
   "id": "5f38bfba",
   "metadata": {},
   "outputs": [
    {
     "data": {
      "text/plain": [
       "<bound method DataFrame.info of     USCA   US United States    809  FALSE\n",
       "0  ASPAC  AUS     Australia  731.0   True\n",
       "1  ASPAC  JAP         Japan  588.0   True\n",
       "2  ASPAC   IN         India   18.0   True\n",
       "3  ASPAC   RU        Russia  200.0  False\n",
       "4  LATAM  MOR       Morocco   70.0  False\n",
       "5    AFR   EG         Egypt   45.0  False\n",
       "6    EUR  ENG       England    NaN   True>"
      ]
     },
     "execution_count": 9,
     "metadata": {},
     "output_type": "execute_result"
    }
   ],
   "source": [
    "cars_df.info"
   ]
  },
  {
   "cell_type": "code",
   "execution_count": 10,
   "id": "84f60c00",
   "metadata": {},
   "outputs": [
    {
     "data": {
      "text/plain": [
       "<bound method NDFrame.describe of     USCA   US United States    809  FALSE\n",
       "0  ASPAC  AUS     Australia  731.0   True\n",
       "1  ASPAC  JAP         Japan  588.0   True\n",
       "2  ASPAC   IN         India   18.0   True\n",
       "3  ASPAC   RU        Russia  200.0  False\n",
       "4  LATAM  MOR       Morocco   70.0  False\n",
       "5    AFR   EG         Egypt   45.0  False\n",
       "6    EUR  ENG       England    NaN   True>"
      ]
     },
     "execution_count": 10,
     "metadata": {},
     "output_type": "execute_result"
    }
   ],
   "source": [
    "cars_df.describe # it gives statistical summary of the numerical data columns"
   ]
  },
  {
   "cell_type": "code",
   "execution_count": 12,
   "id": "e0a6dbbe",
   "metadata": {},
   "outputs": [
    {
     "data": {
      "text/plain": [
       "count         7\n",
       "unique        4\n",
       "top       ASPAC\n",
       "freq          4\n",
       "Name: USCA, dtype: object"
      ]
     },
     "execution_count": 12,
     "metadata": {},
     "output_type": "execute_result"
    }
   ],
   "source": [
    "cars_df[\"USCA\"].describe()"
   ]
  },
  {
   "cell_type": "code",
   "execution_count": null,
   "id": "92e47f64",
   "metadata": {},
   "outputs": [],
   "source": [
    "# cars_df[\"USCA\"].describe(include = 'all')"
   ]
  },
  {
   "cell_type": "markdown",
   "id": "a734ba6f",
   "metadata": {},
   "source": [
    "# attribute of a dataframe"
   ]
  },
  {
   "cell_type": "code",
   "execution_count": 13,
   "id": "06e27bb8",
   "metadata": {},
   "outputs": [
    {
     "data": {
      "text/plain": [
       "(7, 5)"
      ]
     },
     "execution_count": 13,
     "metadata": {},
     "output_type": "execute_result"
    }
   ],
   "source": [
    "cars_df.shape # it returns tuple why attribute --> "
   ]
  },
  {
   "cell_type": "code",
   "execution_count": 15,
   "id": "45726004",
   "metadata": {},
   "outputs": [
    {
     "data": {
      "text/plain": [
       "Index(['USCA', 'US', 'United States', '809', 'FALSE'], dtype='object')"
      ]
     },
     "execution_count": 15,
     "metadata": {},
     "output_type": "execute_result"
    }
   ],
   "source": [
    "cars_df.columns"
   ]
  },
  {
   "cell_type": "code",
   "execution_count": 16,
   "id": "bfb2b10c",
   "metadata": {},
   "outputs": [
    {
     "data": {
      "text/plain": [
       "35"
      ]
     },
     "execution_count": 16,
     "metadata": {},
     "output_type": "execute_result"
    }
   ],
   "source": [
    "cars_df.size # Total num of elements present in dataframe"
   ]
  },
  {
   "cell_type": "code",
   "execution_count": 17,
   "id": "ad399c0a",
   "metadata": {},
   "outputs": [
    {
     "data": {
      "text/plain": [
       "2"
      ]
     },
     "execution_count": 17,
     "metadata": {},
     "output_type": "execute_result"
    }
   ],
   "source": [
    "cars_df.ndim # Total num of dimentions of the variable"
   ]
  },
  {
   "cell_type": "code",
   "execution_count": 18,
   "id": "46a07908",
   "metadata": {},
   "outputs": [
    {
     "data": {
      "text/html": [
       "<div>\n",
       "<style scoped>\n",
       "    .dataframe tbody tr th:only-of-type {\n",
       "        vertical-align: middle;\n",
       "    }\n",
       "\n",
       "    .dataframe tbody tr th {\n",
       "        vertical-align: top;\n",
       "    }\n",
       "\n",
       "    .dataframe thead th {\n",
       "        text-align: right;\n",
       "    }\n",
       "</style>\n",
       "<table border=\"1\" class=\"dataframe\">\n",
       "  <thead>\n",
       "    <tr style=\"text-align: right;\">\n",
       "      <th></th>\n",
       "      <th>0</th>\n",
       "      <th>1</th>\n",
       "      <th>2</th>\n",
       "      <th>3</th>\n",
       "      <th>4</th>\n",
       "      <th>5</th>\n",
       "      <th>6</th>\n",
       "    </tr>\n",
       "  </thead>\n",
       "  <tbody>\n",
       "    <tr>\n",
       "      <th>USCA</th>\n",
       "      <td>ASPAC</td>\n",
       "      <td>ASPAC</td>\n",
       "      <td>ASPAC</td>\n",
       "      <td>ASPAC</td>\n",
       "      <td>LATAM</td>\n",
       "      <td>AFR</td>\n",
       "      <td>EUR</td>\n",
       "    </tr>\n",
       "    <tr>\n",
       "      <th>US</th>\n",
       "      <td>AUS</td>\n",
       "      <td>JAP</td>\n",
       "      <td>IN</td>\n",
       "      <td>RU</td>\n",
       "      <td>MOR</td>\n",
       "      <td>EG</td>\n",
       "      <td>ENG</td>\n",
       "    </tr>\n",
       "    <tr>\n",
       "      <th>United States</th>\n",
       "      <td>Australia</td>\n",
       "      <td>Japan</td>\n",
       "      <td>India</td>\n",
       "      <td>Russia</td>\n",
       "      <td>Morocco</td>\n",
       "      <td>Egypt</td>\n",
       "      <td>England</td>\n",
       "    </tr>\n",
       "    <tr>\n",
       "      <th>809</th>\n",
       "      <td>731.0</td>\n",
       "      <td>588.0</td>\n",
       "      <td>18.0</td>\n",
       "      <td>200.0</td>\n",
       "      <td>70.0</td>\n",
       "      <td>45.0</td>\n",
       "      <td>NaN</td>\n",
       "    </tr>\n",
       "    <tr>\n",
       "      <th>FALSE</th>\n",
       "      <td>True</td>\n",
       "      <td>True</td>\n",
       "      <td>True</td>\n",
       "      <td>False</td>\n",
       "      <td>False</td>\n",
       "      <td>False</td>\n",
       "      <td>True</td>\n",
       "    </tr>\n",
       "  </tbody>\n",
       "</table>\n",
       "</div>"
      ],
      "text/plain": [
       "                       0      1      2       3        4      5        6\n",
       "USCA               ASPAC  ASPAC  ASPAC   ASPAC    LATAM    AFR      EUR\n",
       "US                   AUS    JAP     IN      RU      MOR     EG      ENG\n",
       "United States  Australia  Japan  India  Russia  Morocco  Egypt  England\n",
       "809                731.0  588.0   18.0   200.0     70.0   45.0      NaN\n",
       "FALSE               True   True   True   False    False  False     True"
      ]
     },
     "execution_count": 18,
     "metadata": {},
     "output_type": "execute_result"
    }
   ],
   "source": [
    "cars_df.T # Transpose of the dataset"
   ]
  },
  {
   "cell_type": "markdown",
   "id": "32b58049",
   "metadata": {},
   "source": [
    "## Data Exploration Methods"
   ]
  },
  {
   "cell_type": "code",
   "execution_count": 19,
   "id": "c5149987",
   "metadata": {},
   "outputs": [
    {
     "data": {
      "text/plain": [
       "array(['AUS', 'JAP', 'IN', 'RU', 'MOR', 'EG', 'ENG'], dtype=object)"
      ]
     },
     "execution_count": 19,
     "metadata": {},
     "output_type": "execute_result"
    }
   ],
   "source": [
    "cars_df[\"US\"].unique()"
   ]
  },
  {
   "cell_type": "code",
   "execution_count": null,
   "id": "d7026c9b",
   "metadata": {},
   "outputs": [],
   "source": [
    " # cars_df = pd.read_csv(\"Desktop/Data_Science/ML/LESSON 13/PROJECT_1 UBER/cars.csv\",skipfooter = 1,engine = 'python')\n",
    "    # here u can avoid warnings"
   ]
  },
  {
   "cell_type": "code",
   "execution_count": 20,
   "id": "192bbf41",
   "metadata": {},
   "outputs": [
    {
     "data": {
      "text/plain": [
       "7"
      ]
     },
     "execution_count": 20,
     "metadata": {},
     "output_type": "execute_result"
    }
   ],
   "source": [
    "cars_df[\"US\"].nunique() # no of unique values"
   ]
  },
  {
   "cell_type": "code",
   "execution_count": 21,
   "id": "4fcbdd6b",
   "metadata": {},
   "outputs": [
    {
     "data": {
      "text/plain": [
       "AUS    1\n",
       "JAP    1\n",
       "IN     1\n",
       "RU     1\n",
       "MOR    1\n",
       "EG     1\n",
       "ENG    1\n",
       "Name: US, dtype: int64"
      ]
     },
     "execution_count": 21,
     "metadata": {},
     "output_type": "execute_result"
    }
   ],
   "source": [
    "cars_df[\"US\"].value_counts() # it excludes null values"
   ]
  },
  {
   "cell_type": "code",
   "execution_count": 22,
   "id": "6135f036",
   "metadata": {},
   "outputs": [
    {
     "data": {
      "text/plain": [
       "<AxesSubplot:>"
      ]
     },
     "execution_count": 22,
     "metadata": {},
     "output_type": "execute_result"
    },
    {
     "data": {
      "image/png": "[encoded data removed]",
      "text/plain": [
       "<Figure size 432x288 with 1 Axes>"
      ]
     },
     "metadata": {
      "needs_background": "light"
     },
     "output_type": "display_data"
    }
   ],
   "source": [
    "cars_df[\"US\"].value_counts().plot.bar()"
   ]
  },
  {
   "cell_type": "markdown",
   "id": "98a0bdb1",
   "metadata": {},
   "source": [
    "#Selection/Indexing in DataFrames"
   ]
  },
  {
   "cell_type": "code",
   "execution_count": null,
   "id": "4a06db90",
   "metadata": {},
   "outputs": [],
   "source": [
    "cars_df[\"US\"] # this is how u select perticular column"
   ]
  },
  {
   "cell_type": "code",
   "execution_count": 24,
   "id": "26326f6e",
   "metadata": {},
   "outputs": [
    {
     "data": {
      "text/html": [
       "<div>\n",
       "<style scoped>\n",
       "    .dataframe tbody tr th:only-of-type {\n",
       "        vertical-align: middle;\n",
       "    }\n",
       "\n",
       "    .dataframe tbody tr th {\n",
       "        vertical-align: top;\n",
       "    }\n",
       "\n",
       "    .dataframe thead th {\n",
       "        text-align: right;\n",
       "    }\n",
       "</style>\n",
       "<table border=\"1\" class=\"dataframe\">\n",
       "  <thead>\n",
       "    <tr style=\"text-align: right;\">\n",
       "      <th></th>\n",
       "      <th>USCA</th>\n",
       "      <th>United States</th>\n",
       "      <th>809</th>\n",
       "    </tr>\n",
       "  </thead>\n",
       "  <tbody>\n",
       "    <tr>\n",
       "      <th>0</th>\n",
       "      <td>ASPAC</td>\n",
       "      <td>Australia</td>\n",
       "      <td>731.0</td>\n",
       "    </tr>\n",
       "    <tr>\n",
       "      <th>1</th>\n",
       "      <td>ASPAC</td>\n",
       "      <td>Japan</td>\n",
       "      <td>588.0</td>\n",
       "    </tr>\n",
       "    <tr>\n",
       "      <th>2</th>\n",
       "      <td>ASPAC</td>\n",
       "      <td>India</td>\n",
       "      <td>18.0</td>\n",
       "    </tr>\n",
       "    <tr>\n",
       "      <th>3</th>\n",
       "      <td>ASPAC</td>\n",
       "      <td>Russia</td>\n",
       "      <td>200.0</td>\n",
       "    </tr>\n",
       "    <tr>\n",
       "      <th>4</th>\n",
       "      <td>LATAM</td>\n",
       "      <td>Morocco</td>\n",
       "      <td>70.0</td>\n",
       "    </tr>\n",
       "    <tr>\n",
       "      <th>5</th>\n",
       "      <td>AFR</td>\n",
       "      <td>Egypt</td>\n",
       "      <td>45.0</td>\n",
       "    </tr>\n",
       "    <tr>\n",
       "      <th>6</th>\n",
       "      <td>EUR</td>\n",
       "      <td>England</td>\n",
       "      <td>NaN</td>\n",
       "    </tr>\n",
       "  </tbody>\n",
       "</table>\n",
       "</div>"
      ],
      "text/plain": [
       "    USCA United States    809\n",
       "0  ASPAC     Australia  731.0\n",
       "1  ASPAC         Japan  588.0\n",
       "2  ASPAC         India   18.0\n",
       "3  ASPAC        Russia  200.0\n",
       "4  LATAM       Morocco   70.0\n",
       "5    AFR         Egypt   45.0\n",
       "6    EUR       England    NaN"
      ]
     },
     "execution_count": 24,
     "metadata": {},
     "output_type": "execute_result"
    }
   ],
   "source": [
    "cols_list = [\"USCA\",\"United States\",\"809\"] # for retreiving multiple columns & pass these values list\n",
    "cars_df[cols_list]"
   ]
  },
  {
   "cell_type": "code",
   "execution_count": 27,
   "id": "ae079448",
   "metadata": {},
   "outputs": [],
   "source": [
    "## something unique to the datastructure of pandas is that there are labels for both rows and columns in a pandas datastructure"
   ]
  },
  {
   "cell_type": "markdown",
   "id": "886727a1",
   "metadata": {},
   "source": []
  },
  {
   "cell_type": "code",
   "execution_count": 28,
   "id": "8ab6cb0f",
   "metadata": {},
   "outputs": [
    {
     "name": "stdout",
     "output_type": "stream",
     "text": [
      "[100, 200, 300, 400, 500]\n"
     ]
    }
   ],
   "source": [
    "list_bill_amt = [100,200,300,400,500]\n",
    "print(list_bill_amt)"
   ]
  },
  {
   "cell_type": "code",
   "execution_count": 32,
   "id": "012a7c0f",
   "metadata": {},
   "outputs": [
    {
     "name": "stdout",
     "output_type": "stream",
     "text": [
      "[100, 200, 300, 400, 500]\n"
     ]
    }
   ],
   "source": [
    "series_bill_amt = pd.Series(list_bill_amt)\n",
    "print(list_bill_amt)"
   ]
  },
  {
   "cell_type": "code",
   "execution_count": null,
   "id": "1585f501",
   "metadata": {},
   "outputs": [],
   "source": []
  }
 ],
 "metadata": {
  "kernelspec": {
   "display_name": "Python 3 (ipykernel)",
   "language": "python",
   "name": "python3"
  },
  "language_info": {
   "codemirror_mode": {
    "name": "ipython",
    "version": 3
   },
   "file_extension": ".py",
   "mimetype": "text/x-python",
   "name": "python",
   "nbconvert_exporter": "python",
   "pygments_lexer": "ipython3",
   "version": "3.9.7"
  }
 },
 "nbformat": 4,
 "nbformat_minor": 5
}
