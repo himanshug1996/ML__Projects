{
 "cells": [
  {
   "cell_type": "markdown",
   "id": "667b52fd",
   "metadata": {},
   "source": [
    "# Importing the BeautifulSoup library"
   ]
  },
  {
   "cell_type": "code",
   "execution_count": 1,
   "id": "539f869f",
   "metadata": {},
   "outputs": [],
   "source": [
    "from bs4 import BeautifulSoup"
   ]
  },
  {
   "cell_type": "markdown",
   "id": "40b89919",
   "metadata": {},
   "source": [
    "# Creating the html file path"
   ]
  },
  {
   "cell_type": "code",
   "execution_count": 2,
   "id": "7dfebcc0",
   "metadata": {},
   "outputs": [],
   "source": [
    "html_file_path =r\"C:\\Users\\HP\\Downloads\\wcb_scraping_example.html\"\n",
    "\n",
    "# html_file_path =r\"C:\\\\Users\\\\HP\\\\Downloads\\\\wcb_scraping_example.html\"\n"
   ]
  },
  {
   "cell_type": "markdown",
   "id": "98d7041f",
   "metadata": {},
   "source": [
    "# Creating Soup Object"
   ]
  },
  {
   "cell_type": "code",
   "execution_count": 3,
   "id": "ad23aaa4",
   "metadata": {},
   "outputs": [
    {
     "name": "stderr",
     "output_type": "stream",
     "text": [
      "C:\\Users\\HP\\anaconda3\\lib\\site-packages\\bs4\\__init__.py:346: MarkupResemblesLocatorWarning: \"C:\\Users\\HP\\Downloads\\wcb_scraping_example.html\" looks like a filename, not markup. You should probably open this file and pass the filehandle into Beautiful Soup.\n",
      "  warnings.warn(\n"
     ]
    }
   ],
   "source": [
    "soup_obj = BeautifulSoup(html_file_path,\"html.parser\")\n",
    "# This is wrong because we are only passing the file path here.\n",
    "# and not the html file.."
   ]
  },
  {
   "cell_type": "code",
   "execution_count": 4,
   "id": "e93d41fc",
   "metadata": {},
   "outputs": [
    {
     "name": "stdout",
     "output_type": "stream",
     "text": [
      "C:\\Users\\HP\\Downloads\\wcb_scraping_example.html\n"
     ]
    }
   ],
   "source": [
    "print(soup_obj) \n",
    "\n",
    "# below practice is done as we can not see html file with print statement alone."
   ]
  },
  {
   "cell_type": "code",
   "execution_count": 5,
   "id": "57bb835d",
   "metadata": {},
   "outputs": [],
   "source": [
    "with open (html_file_path,\"r\") as html_file_contents:\n",
    "    soup_obj = BeautifulSoup(html_file_contents,\"html.parser\")"
   ]
  },
  {
   "cell_type": "code",
   "execution_count": 6,
   "id": "8baf8086",
   "metadata": {},
   "outputs": [
    {
     "name": "stdout",
     "output_type": "stream",
     "text": [
      "<html>\n",
      "<body>\n",
      "<h1>My First Heading</h1>\n",
      "<b><!--This is a comment line--></b>\n",
      "<p class=\"test\" title=\"About Me\">My first paragraph.</p>\n",
      "<div class=\"cities\">\n",
      "<h2>London</h2>\n",
      "<h2> List of beverages at London's coffee shop</h2>\n",
      "<ul>\n",
      "<li>Coffee</li>\n",
      "<li>Tea</li>\n",
      "<li>Milk</li>\n",
      "</ul>\n",
      "<ul id=\"HR\">\n",
      "<li>Jack</li>\n",
      "<li>Mary</li>\n",
      "<li>Peterson</li>\n",
      "</ul>\n",
      "<p class=\"itmanagers\"> below is the list of IT Managers </p>\n",
      "<ul id=\"itmanagers\">\n",
      "<li>Rajesh</li>\n",
      "<li>Sheela</li>\n",
      "<li>Markov</li>\n",
      "</ul>\n",
      "</div>\n",
      "</body>\n",
      "</html>\n"
     ]
    }
   ],
   "source": [
    "print(soup_obj)"
   ]
  },
  {
   "cell_type": "code",
   "execution_count": 7,
   "id": "bcac4619",
   "metadata": {},
   "outputs": [
    {
     "name": "stdout",
     "output_type": "stream",
     "text": [
      "<class 'bs4.BeautifulSoup'>\n"
     ]
    }
   ],
   "source": [
    "print(type(soup_obj))"
   ]
  },
  {
   "cell_type": "markdown",
   "id": "ad9e5b68",
   "metadata": {},
   "source": [
    "We could clearly see that soup object has been created that holds the contents of the entire web page.. "
   ]
  },
  {
   "cell_type": "markdown",
   "id": "6e3b2f6d",
   "metadata": {},
   "source": [
    "# how to access tag object.."
   ]
  },
  {
   "cell_type": "code",
   "execution_count": 8,
   "id": "931f2cbd",
   "metadata": {},
   "outputs": [],
   "source": [
    "# how to access the p tag..\n",
    "\n",
    "# we create an onject for p tag.."
   ]
  },
  {
   "cell_type": "code",
   "execution_count": 9,
   "id": "5181ab1d",
   "metadata": {},
   "outputs": [
    {
     "name": "stdout",
     "output_type": "stream",
     "text": [
      "<p class=\"test\" title=\"About Me\">My first paragraph.</p>\n"
     ]
    }
   ],
   "source": [
    "tag_p_obj = soup_obj.p\n",
    "\n",
    "print(tag_p_obj)"
   ]
  },
  {
   "cell_type": "markdown",
   "id": "8f7c311a",
   "metadata": {},
   "source": [
    "Attributes are the variables that you see within the tag..above class & title are attributes."
   ]
  },
  {
   "cell_type": "code",
   "execution_count": 10,
   "id": "c4e479ca",
   "metadata": {},
   "outputs": [
    {
     "name": "stdout",
     "output_type": "stream",
     "text": [
      "<class 'bs4.element.Tag'>\n"
     ]
    }
   ],
   "source": [
    "print(type(tag_p_obj))"
   ]
  },
  {
   "cell_type": "markdown",
   "id": "56c5da9a",
   "metadata": {},
   "source": [
    "We could clearly understand that tag_p_obj is a tag object.."
   ]
  },
  {
   "cell_type": "markdown",
   "id": "aaa06624",
   "metadata": {},
   "source": [
    "# How to access the attributes?"
   ]
  },
  {
   "cell_type": "code",
   "execution_count": 11,
   "id": "c7e5562f",
   "metadata": {},
   "outputs": [
    {
     "name": "stdout",
     "output_type": "stream",
     "text": [
      "The attributes present in the tag p along with their values are: \n",
      "{'class': ['test'], 'title': 'About Me'}\n"
     ]
    }
   ],
   "source": [
    "print(\"The attributes present in the tag p along with their values are: \")\n",
    "\n",
    "print(tag_p_obj.attrs)"
   ]
  },
  {
   "cell_type": "markdown",
   "id": "010a2aa5",
   "metadata": {},
   "source": [
    "# Creating an object for the body tag first.."
   ]
  },
  {
   "cell_type": "code",
   "execution_count": 12,
   "id": "a3fbb623",
   "metadata": {},
   "outputs": [
    {
     "name": "stdout",
     "output_type": "stream",
     "text": [
      "<body>\n",
      "<h1>My First Heading</h1>\n",
      "<b><!--This is a comment line--></b>\n",
      "<p class=\"test\" title=\"About Me\">My first paragraph.</p>\n",
      "<div class=\"cities\">\n",
      "<h2>London</h2>\n",
      "<h2> List of beverages at London's coffee shop</h2>\n",
      "<ul>\n",
      "<li>Coffee</li>\n",
      "<li>Tea</li>\n",
      "<li>Milk</li>\n",
      "</ul>\n",
      "<ul id=\"HR\">\n",
      "<li>Jack</li>\n",
      "<li>Mary</li>\n",
      "<li>Peterson</li>\n",
      "</ul>\n",
      "<p class=\"itmanagers\"> below is the list of IT Managers </p>\n",
      "<ul id=\"itmanagers\">\n",
      "<li>Rajesh</li>\n",
      "<li>Sheela</li>\n",
      "<li>Markov</li>\n",
      "</ul>\n",
      "</div>\n",
      "</body>\n"
     ]
    }
   ],
   "source": [
    "body_tag_obj = soup_obj.body\n",
    "\n",
    "print(body_tag_obj)"
   ]
  },
  {
   "cell_type": "code",
   "execution_count": 13,
   "id": "e956a712",
   "metadata": {},
   "outputs": [
    {
     "name": "stdout",
     "output_type": "stream",
     "text": [
      "<p class=\"test\" title=\"About Me\">My first paragraph.</p>\n"
     ]
    }
   ],
   "source": [
    "# Access the p tag using the body tag object\n",
    "\n",
    "tag_p_obj2 = body_tag_obj.p\n",
    "\n",
    "# This is good practice that should be followed while extracting data from a huge web documents\n",
    "print(tag_p_obj2)"
   ]
  },
  {
   "cell_type": "markdown",
   "id": "88165c44",
   "metadata": {},
   "source": [
    "# How to extract string value present in p tag?"
   ]
  },
  {
   "cell_type": "code",
   "execution_count": 14,
   "id": "455a6f5b",
   "metadata": {},
   "outputs": [
    {
     "name": "stdout",
     "output_type": "stream",
     "text": [
      "My first paragraph.\n",
      "=+=+=+=+==+=+=+=+=+=+=\n",
      "<class 'bs4.element.NavigableString'>\n"
     ]
    }
   ],
   "source": [
    "string_p = tag_p_obj2.string\n",
    "\n",
    "print(string_p)\n",
    "\n",
    "print(\"=+=+=+=+==+=+=+=+=+=+=\")\n",
    "\n",
    "print(type(string_p))"
   ]
  },
  {
   "cell_type": "markdown",
   "id": "0a5d9621",
   "metadata": {},
   "source": [
    "# Creating a tag object for the b tag.."
   ]
  },
  {
   "cell_type": "code",
   "execution_count": 15,
   "id": "432d69a8",
   "metadata": {},
   "outputs": [
    {
     "name": "stdout",
     "output_type": "stream",
     "text": [
      "<b><!--This is a comment line--></b>\n"
     ]
    }
   ],
   "source": [
    "tag_b = body_tag_obj.b\n",
    "\n",
    "print(tag_b)"
   ]
  },
  {
   "cell_type": "code",
   "execution_count": 16,
   "id": "a7d3ff15",
   "metadata": {},
   "outputs": [
    {
     "name": "stdout",
     "output_type": "stream",
     "text": [
      "<class 'bs4.element.Comment'>\n",
      "=======================\n",
      "This is a comment line\n"
     ]
    }
   ],
   "source": [
    "comment_b = tag_b.string # access the comment present within the b tag,you can use .string\n",
    "\n",
    "\n",
    "print(type(comment_b))\n",
    "print(\"=======================\")\n",
    "print(comment_b)\n"
   ]
  },
  {
   "cell_type": "markdown",
   "id": "d4fc25af",
   "metadata": {},
   "source": [
    "Sibling Tag-->Tag that are present at same level are called as sibling tag.."
   ]
  },
  {
   "cell_type": "markdown",
   "id": "5e137345",
   "metadata": {},
   "source": [
    "# Let's begin experimenting with our find methods.."
   ]
  },
  {
   "cell_type": "code",
   "execution_count": 17,
   "id": "543d6c95",
   "metadata": {},
   "outputs": [
    {
     "name": "stdout",
     "output_type": "stream",
     "text": [
      "<html>\n",
      "<body>\n",
      "<h1>My First Heading</h1>\n",
      "<b><!--This is a comment line--></b>\n",
      "<p class=\"test\" title=\"About Me\">My first paragraph.</p>\n",
      "<div class=\"cities\">\n",
      "<h2>London</h2>\n",
      "<h2> List of beverages at London's coffee shop</h2>\n",
      "<ul>\n",
      "<li>Coffee</li>\n",
      "<li>Tea</li>\n",
      "<li>Milk</li>\n",
      "</ul>\n",
      "<ul id=\"HR\">\n",
      "<li>Jack</li>\n",
      "<li>Mary</li>\n",
      "<li>Peterson</li>\n",
      "</ul>\n",
      "<p class=\"itmanagers\"> below is the list of IT Managers </p>\n",
      "<ul id=\"itmanagers\">\n",
      "<li>Rajesh</li>\n",
      "<li>Sheela</li>\n",
      "<li>Markov</li>\n",
      "</ul>\n",
      "</div>\n",
      "</body>\n",
      "</html>\n"
     ]
    }
   ],
   "source": [
    "print(soup_obj)"
   ]
  },
  {
   "cell_type": "markdown",
   "id": "56bb39e1",
   "metadata": {},
   "source": [
    "to find li tag"
   ]
  },
  {
   "cell_type": "code",
   "execution_count": 18,
   "id": "7cb7cfa1",
   "metadata": {},
   "outputs": [
    {
     "name": "stdout",
     "output_type": "stream",
     "text": [
      "<li>Coffee</li>\n",
      "================\n",
      "<class 'bs4.element.Tag'>\n"
     ]
    }
   ],
   "source": [
    "li_find = soup_obj.find(\"li\")\n",
    "print(li_find)\n",
    "\n",
    "print(\"================\")\n",
    "print(type(li_find))"
   ]
  },
  {
   "cell_type": "code",
   "execution_count": 19,
   "id": "af5d86df",
   "metadata": {},
   "outputs": [
    {
     "name": "stdout",
     "output_type": "stream",
     "text": [
      "[<li>Coffee</li>, <li>Tea</li>, <li>Milk</li>, <li>Jack</li>, <li>Mary</li>, <li>Peterson</li>, <li>Rajesh</li>, <li>Sheela</li>, <li>Markov</li>]\n",
      "========================================================================\n",
      "<class 'bs4.element.ResultSet'>\n"
     ]
    }
   ],
   "source": [
    "# finding by find_all method..\n",
    "li_find_all = soup_obj.find_all(\"li\")\n",
    "print(li_find_all)\n",
    "\n",
    "print(\"========================================================================\")\n",
    "\n",
    "print(type(li_find_all))\n"
   ]
  },
  {
   "cell_type": "markdown",
   "id": "28affa06",
   "metadata": {},
   "source": [
    "ResultSet is collection of all li tags present in the html file.."
   ]
  },
  {
   "cell_type": "markdown",
   "id": "2fba82bd",
   "metadata": {},
   "source": [
    "# for loop in python.."
   ]
  },
  {
   "cell_type": "code",
   "execution_count": 20,
   "id": "6e71372c",
   "metadata": {},
   "outputs": [
    {
     "name": "stdout",
     "output_type": "stream",
     "text": [
      "Square of variable x is:  16\n"
     ]
    }
   ],
   "source": [
    "var_x = 4\n",
    "\n",
    "print(\"Square of variable x is: \",var_x*var_x)"
   ]
  },
  {
   "cell_type": "code",
   "execution_count": 21,
   "id": "29691531",
   "metadata": {},
   "outputs": [],
   "source": [
    "list_of_vars = [2,4,5,6,8]\n",
    "\n",
    "# list_of_vars[0]*list_of_vars[0]---> For one element.."
   ]
  },
  {
   "cell_type": "code",
   "execution_count": 22,
   "id": "39a18cbf",
   "metadata": {},
   "outputs": [
    {
     "name": "stdout",
     "output_type": "stream",
     "text": [
      "[4, 16, 25]\n"
     ]
    }
   ],
   "source": [
    "list_of_sqrs_of_vars=[]\n",
    "\n",
    "square_of_2 = list_of_vars[0]*list_of_vars[0]\n",
    "list_of_sqrs_of_vars.append(square_of_2)\n",
    "\n",
    "square_of_4 = list_of_vars[1]*list_of_vars[1]\n",
    "list_of_sqrs_of_vars.append(square_of_4)\n",
    "\n",
    "square_of_5 = list_of_vars[2]*list_of_vars[2]\n",
    "list_of_sqrs_of_vars.append(square_of_5)\n",
    "\n",
    "print(list_of_sqrs_of_vars)"
   ]
  },
  {
   "cell_type": "markdown",
   "id": "d66fe69c",
   "metadata": {},
   "source": [
    "above method is lenghty one instead we will use for loop.."
   ]
  },
  {
   "cell_type": "code",
   "execution_count": 23,
   "id": "7f6777cc",
   "metadata": {},
   "outputs": [],
   "source": [
    " # i here is specify each and every value that is present in the list..\n",
    "list_of_vars = [2,4,5,6,7,8]  \n",
    "\n",
    "list_of_sqrs_of_vars2 =[]\n",
    "\n",
    "for i in list_of_vars:\n",
    "    i_square = i*i\n",
    "    list_of_sqrs_of_vars2.append(i_square)\n",
    "# no of iteration of for loop is equal to no of elements in the list.."
   ]
  },
  {
   "cell_type": "code",
   "execution_count": 24,
   "id": "3c9bb76b",
   "metadata": {},
   "outputs": [
    {
     "name": "stdout",
     "output_type": "stream",
     "text": [
      "[4, 16, 25, 36, 49, 64]\n"
     ]
    }
   ],
   "source": [
    "print(list_of_sqrs_of_vars2)"
   ]
  },
  {
   "cell_type": "markdown",
   "id": "336901c1",
   "metadata": {},
   "source": [
    "# To access all tags present in the resultset along with it's contents"
   ]
  },
  {
   "cell_type": "code",
   "execution_count": 25,
   "id": "8db7aa22",
   "metadata": {},
   "outputs": [
    {
     "name": "stdout",
     "output_type": "stream",
     "text": [
      "<li>Coffee</li>\n",
      "==================\n",
      "Coffee\n",
      "<class 'bs4.element.Tag'>\n",
      "<li>Tea</li>\n",
      "==================\n",
      "Tea\n",
      "<class 'bs4.element.Tag'>\n",
      "<li>Milk</li>\n",
      "==================\n",
      "Milk\n",
      "<class 'bs4.element.Tag'>\n",
      "<li>Jack</li>\n",
      "==================\n",
      "Jack\n",
      "<class 'bs4.element.Tag'>\n",
      "<li>Mary</li>\n",
      "==================\n",
      "Mary\n",
      "<class 'bs4.element.Tag'>\n",
      "<li>Peterson</li>\n",
      "==================\n",
      "Peterson\n",
      "<class 'bs4.element.Tag'>\n",
      "<li>Rajesh</li>\n",
      "==================\n",
      "Rajesh\n",
      "<class 'bs4.element.Tag'>\n",
      "<li>Sheela</li>\n",
      "==================\n",
      "Sheela\n",
      "<class 'bs4.element.Tag'>\n",
      "<li>Markov</li>\n",
      "==================\n",
      "Markov\n",
      "<class 'bs4.element.Tag'>\n"
     ]
    }
   ],
   "source": [
    "for i in li_find_all:\n",
    "    \n",
    "    print(i)# This prints out the tags present in the resultset..\n",
    "    \n",
    "    print(\"==================\")\n",
    "    \n",
    "    print(i.string)# This prints out the content present in each and every tag..\n",
    "    \n",
    "    print(type(i))\n",
    "    \n",
    "# i --> local iterable varibale and can be change as per need."
   ]
  },
  {
   "cell_type": "markdown",
   "id": "c95864f4",
   "metadata": {},
   "source": [
    "# To find the tag with specific attribute value.."
   ]
  },
  {
   "cell_type": "code",
   "execution_count": 26,
   "id": "854b56e4",
   "metadata": {},
   "outputs": [
    {
     "name": "stdout",
     "output_type": "stream",
     "text": [
      "<ul id=\"HR\">\n",
      "<li>Jack</li>\n",
      "<li>Mary</li>\n",
      "<li>Peterson</li>\n",
      "</ul>\n"
     ]
    }
   ],
   "source": [
    "hr_attr_tag = soup_obj.find(id=\"HR\")\n",
    "print(hr_attr_tag)"
   ]
  },
  {
   "cell_type": "markdown",
   "id": "bb7bb038",
   "metadata": {},
   "source": [
    "# To retrieve all the li tags present in the parent ul hr tag.."
   ]
  },
  {
   "cell_type": "code",
   "execution_count": 27,
   "id": "6b260a83",
   "metadata": {},
   "outputs": [
    {
     "name": "stdout",
     "output_type": "stream",
     "text": [
      "[<li>Jack</li>, <li>Mary</li>, <li>Peterson</li>]\n",
      "=============================================\n",
      "<class 'bs4.element.ResultSet'>\n"
     ]
    }
   ],
   "source": [
    "li_tags = hr_attr_tag.find_all(\"li\")\n",
    "\n",
    "print(li_tags)\n",
    "print(\"=============================================\")\n",
    "print(type(li_tags))"
   ]
  },
  {
   "cell_type": "code",
   "execution_count": 28,
   "id": "7e2b457b",
   "metadata": {},
   "outputs": [
    {
     "name": "stdout",
     "output_type": "stream",
     "text": [
      "<li>Jack</li>\n"
     ]
    }
   ],
   "source": [
    "# accessing the first tag of the above resultset..\n",
    "\n",
    "li_tag1 = li_tags[0]\n",
    "\n",
    "print(li_tag1)"
   ]
  },
  {
   "cell_type": "code",
   "execution_count": 29,
   "id": "4bd70025",
   "metadata": {},
   "outputs": [
    {
     "data": {
      "text/plain": [
       "<li>Mary</li>"
      ]
     },
     "execution_count": 29,
     "metadata": {},
     "output_type": "execute_result"
    }
   ],
   "source": [
    "li_tag1.find_next_sibling() # used to find the next immediate sibling.."
   ]
  },
  {
   "cell_type": "code",
   "execution_count": 30,
   "id": "eae6c946",
   "metadata": {},
   "outputs": [
    {
     "data": {
      "text/plain": [
       "[<li>Mary</li>, <li>Peterson</li>]"
      ]
     },
     "execution_count": 30,
     "metadata": {},
     "output_type": "execute_result"
    }
   ],
   "source": [
    "li_tag1.find_next_siblings() # used to find all the next siblings."
   ]
  },
  {
   "cell_type": "code",
   "execution_count": 31,
   "id": "0f9b4962",
   "metadata": {},
   "outputs": [
    {
     "data": {
      "text/plain": [
       "<ul id=\"HR\">\n",
       "<li>Jack</li>\n",
       "<li>Mary</li>\n",
       "<li>Peterson</li>\n",
       "</ul>"
      ]
     },
     "execution_count": 31,
     "metadata": {},
     "output_type": "execute_result"
    }
   ],
   "source": [
    "li_tag1.find_parent()"
   ]
  },
  {
   "cell_type": "code",
   "execution_count": 32,
   "id": "e20dd3af",
   "metadata": {},
   "outputs": [],
   "source": [
    "li_tag1.find_previous_sibling()\n",
    "\n",
    "# note that if there is no match,the above method would not return any output,similar to the find() method."
   ]
  },
  {
   "cell_type": "code",
   "execution_count": 33,
   "id": "2744fb93",
   "metadata": {},
   "outputs": [
    {
     "data": {
      "text/plain": [
       "[]"
      ]
     },
     "execution_count": 33,
     "metadata": {},
     "output_type": "execute_result"
    }
   ],
   "source": [
    "li_tag1.find_previous_siblings()\n",
    "\n",
    "# note that there is no match, the above method would not return an empty list,similar to the find() method."
   ]
  },
  {
   "cell_type": "markdown",
   "id": "3907719e",
   "metadata": {},
   "source": [
    "# to find multiple tags.."
   ]
  },
  {
   "cell_type": "code",
   "execution_count": 34,
   "id": "339f752f",
   "metadata": {},
   "outputs": [
    {
     "name": "stdout",
     "output_type": "stream",
     "text": [
      "[<p class=\"test\" title=\"About Me\">My first paragraph.</p>, <li>Coffee</li>, <li>Tea</li>, <li>Milk</li>, <li>Jack</li>, <li>Mary</li>, <li>Peterson</li>, <p class=\"itmanagers\"> below is the list of IT Managers </p>, <li>Rajesh</li>, <li>Sheela</li>, <li>Markov</li>]\n"
     ]
    }
   ],
   "source": [
    "li_p_tags_find_all = soup_obj.find_all([\"li\",\"p\"])\n",
    "\n",
    "print(li_p_tags_find_all)\n",
    "\n",
    "#We have to tag value as list of string.\n"
   ]
  },
  {
   "cell_type": "code",
   "execution_count": 35,
   "id": "fdc1e5a8",
   "metadata": {},
   "outputs": [],
   "source": [
    "# To print out all the tag names present in the html file.."
   ]
  },
  {
   "cell_type": "code",
   "execution_count": 36,
   "id": "ba20eed5",
   "metadata": {},
   "outputs": [
    {
     "name": "stdout",
     "output_type": "stream",
     "text": [
      "html\n",
      "body\n",
      "h1\n",
      "b\n",
      "p\n",
      "div\n",
      "h2\n",
      "h2\n",
      "ul\n",
      "li\n",
      "li\n",
      "li\n",
      "ul\n",
      "li\n",
      "li\n",
      "li\n",
      "p\n",
      "ul\n",
      "li\n",
      "li\n",
      "li\n"
     ]
    }
   ],
   "source": [
    "for tag in soup_obj.find_all(True): # this helps in accessing all the tags present in the soup object.\n",
    "    print(tag.name) # this helps in accessing the names of the tags.."
   ]
  },
  {
   "cell_type": "markdown",
   "id": "82758b70",
   "metadata": {},
   "source": [
    "# End of Section..."
   ]
  },
  {
   "cell_type": "markdown",
   "id": "c8f5ea6e",
   "metadata": {},
   "source": [
    " 4 step in web scraping process\n",
    "    sending\n",
    "    \n",
    "    retrieve(html,xml)\n",
    "    \n",
    "    parse\n",
    "    \n",
    "    store\n",
    "    \n",
    "creation of beautifulsoup method\n",
    "\n",
    "--> we have to pass html file content\n",
    "\n",
    "objects in bs library..\n",
    "\n",
    "--> tag,comment,navigation string\n",
    "\n",
    "tag.attrs to get attributes present in the tag..\n",
    "\n",
    "how would you create navigable string object for a tag..?\n",
    "\n",
    "--> tag.string\n",
    "\n",
    "find ---> for first instance\n",
    "\n",
    "find_all --> for all instances\n",
    "\n",
    "navigation methods?\n",
    "\n",
    "----> .string,.parents,etc\n",
    "\n",
    "\n"
   ]
  },
  {
   "cell_type": "code",
   "execution_count": null,
   "id": "43b8d485",
   "metadata": {},
   "outputs": [],
   "source": []
  }
 ],
 "metadata": {
  "kernelspec": {
   "display_name": "Python 3 (ipykernel)",
   "language": "python",
   "name": "python3"
  },
  "language_info": {
   "codemirror_mode": {
    "name": "ipython",
    "version": 3
   },
   "file_extension": ".py",
   "mimetype": "text/x-python",
   "name": "python",
   "nbconvert_exporter": "python",
   "pygments_lexer": "ipython3",
   "version": "3.9.7"
  }
 },
 "nbformat": 4,
 "nbformat_minor": 5
}
